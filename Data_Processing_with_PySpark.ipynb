{
  "nbformat": 4,
  "nbformat_minor": 0,
  "metadata": {
    "colab": {
      "name": "Data Processing with PySpark.ipynb",
      "provenance": [],
      "authorship_tag": "ABX9TyPlv0CiXDt12olTJMq9pjwu",
      "include_colab_link": true
    },
    "kernelspec": {
      "name": "python3",
      "display_name": "Python 3"
    },
    "language_info": {
      "name": "python"
    }
  },
  "cells": [
    {
      "cell_type": "markdown",
      "metadata": {
        "id": "view-in-github",
        "colab_type": "text"
      },
      "source": [
        "<a href=\"https://colab.research.google.com/github/xsansha/PySpark-Workshop/blob/main/Data_Processing_with_PySpark.ipynb\" target=\"_parent\"><img src=\"https://colab.research.google.com/assets/colab-badge.svg\" alt=\"Open In Colab\"/></a>"
      ]
    },
    {
      "cell_type": "markdown",
      "metadata": {
        "id": "-oEgxCd1c3eu"
      },
      "source": [
        "## What is Data Processing?\n",
        "\n",
        "It is simply processing the data. **_Wait, what?_**\n",
        "\n",
        "**Processing the data for following:**\n",
        "\n",
        "- Wrangling\n",
        "\n",
        "- EDA\n",
        "\n",
        "- Machine Learning"
      ]
    },
    {
      "cell_type": "markdown",
      "metadata": {
        "id": "fkzXchL1szMP"
      },
      "source": [
        "## Pre-requisites for using PySpark\n",
        "\n",
        "### a. Install the following\n",
        "\n",
        "* Java\n",
        "\n",
        "* Spark\n",
        "\n",
        "### b. Set environment variables\n",
        "\n",
        "* `JAVA_HOME`\n",
        "\n",
        "* `SPARK_HOME`\n",
        "\n",
        "---\n",
        "\n",
        "**Voila! 🥂 you are good to go.**"
      ]
    },
    {
      "cell_type": "markdown",
      "metadata": {
        "id": "08j5v6FmZu0u"
      },
      "source": [
        "### Installation"
      ]
    },
    {
      "cell_type": "code",
      "metadata": {
        "colab": {
          "base_uri": "https://localhost:8080/"
        },
        "id": "PvaJHabEZBr5",
        "outputId": "ea859af9-7fae-4728-fef6-f86fc4488192"
      },
      "source": [
        "!ls"
      ],
      "execution_count": 1,
      "outputs": [
        {
          "output_type": "stream",
          "name": "stdout",
          "text": [
            "sample_data\n"
          ]
        }
      ]
    },
    {
      "cell_type": "code",
      "metadata": {
        "id": "jyNBAarLtDnr"
      },
      "source": [
        "# Installing Java\n",
        "\n",
        "!apt-get install openjdk-8-jdk-headless -qq > /dev/null"
      ],
      "execution_count": 2,
      "outputs": []
    },
    {
      "cell_type": "code",
      "metadata": {
        "id": "j4D4TmJvtfGN"
      },
      "source": [
        "# Downloading Spark\n",
        "\n",
        "!wget -q https://dlcdn.apache.org/spark/spark-3.2.0/spark-3.2.0-bin-hadoop3.2.tgz"
      ],
      "execution_count": 3,
      "outputs": []
    },
    {
      "cell_type": "code",
      "metadata": {
        "colab": {
          "base_uri": "https://localhost:8080/"
        },
        "id": "bBOBwAToth7P",
        "outputId": "0da8589b-891e-4de2-ccb9-43268595031f"
      },
      "source": [
        "# Uncompressing the tar\n",
        "\n",
        "!tar xvf spark-3.2.0-bin-hadoop3.2.tgz"
      ],
      "execution_count": 4,
      "outputs": [
        {
          "output_type": "stream",
          "name": "stdout",
          "text": [
            "spark-3.2.0-bin-hadoop3.2/\n",
            "spark-3.2.0-bin-hadoop3.2/NOTICE\n",
            "spark-3.2.0-bin-hadoop3.2/kubernetes/\n",
            "spark-3.2.0-bin-hadoop3.2/kubernetes/tests/\n",
            "spark-3.2.0-bin-hadoop3.2/kubernetes/tests/python_executable_check.py\n",
            "spark-3.2.0-bin-hadoop3.2/kubernetes/tests/autoscale.py\n",
            "spark-3.2.0-bin-hadoop3.2/kubernetes/tests/worker_memory_check.py\n",
            "spark-3.2.0-bin-hadoop3.2/kubernetes/tests/py_container_checks.py\n",
            "spark-3.2.0-bin-hadoop3.2/kubernetes/tests/decommissioning.py\n",
            "spark-3.2.0-bin-hadoop3.2/kubernetes/tests/pyfiles.py\n",
            "spark-3.2.0-bin-hadoop3.2/kubernetes/tests/decommissioning_cleanup.py\n",
            "spark-3.2.0-bin-hadoop3.2/kubernetes/dockerfiles/\n",
            "spark-3.2.0-bin-hadoop3.2/kubernetes/dockerfiles/spark/\n",
            "spark-3.2.0-bin-hadoop3.2/kubernetes/dockerfiles/spark/decom.sh\n",
            "spark-3.2.0-bin-hadoop3.2/kubernetes/dockerfiles/spark/entrypoint.sh\n",
            "spark-3.2.0-bin-hadoop3.2/kubernetes/dockerfiles/spark/bindings/\n",
            "spark-3.2.0-bin-hadoop3.2/kubernetes/dockerfiles/spark/bindings/R/\n",
            "spark-3.2.0-bin-hadoop3.2/kubernetes/dockerfiles/spark/bindings/R/Dockerfile\n",
            "spark-3.2.0-bin-hadoop3.2/kubernetes/dockerfiles/spark/bindings/python/\n",
            "spark-3.2.0-bin-hadoop3.2/kubernetes/dockerfiles/spark/bindings/python/Dockerfile\n",
            "spark-3.2.0-bin-hadoop3.2/kubernetes/dockerfiles/spark/Dockerfile\n",
            "spark-3.2.0-bin-hadoop3.2/jars/\n",
            "spark-3.2.0-bin-hadoop3.2/jars/RoaringBitmap-0.9.0.jar\n",
            "spark-3.2.0-bin-hadoop3.2/jars/spark-graphx_2.12-3.2.0.jar\n",
            "spark-3.2.0-bin-hadoop3.2/jars/kubernetes-model-metrics-5.4.1.jar\n",
            "spark-3.2.0-bin-hadoop3.2/jars/okhttp-3.12.12.jar\n",
            "spark-3.2.0-bin-hadoop3.2/jars/hive-shims-common-2.3.9.jar\n",
            "spark-3.2.0-bin-hadoop3.2/jars/spire_2.12-0.17.0.jar\n",
            "spark-3.2.0-bin-hadoop3.2/jars/logging-interceptor-3.12.12.jar\n",
            "spark-3.2.0-bin-hadoop3.2/jars/hive-serde-2.3.9.jar\n",
            "spark-3.2.0-bin-hadoop3.2/jars/zookeeper-3.6.2.jar\n",
            "spark-3.2.0-bin-hadoop3.2/jars/kryo-shaded-4.0.2.jar\n",
            "spark-3.2.0-bin-hadoop3.2/jars/hive-jdbc-2.3.9.jar\n",
            "spark-3.2.0-bin-hadoop3.2/jars/commons-logging-1.1.3.jar\n",
            "spark-3.2.0-bin-hadoop3.2/jars/commons-compiler-3.0.16.jar\n",
            "spark-3.2.0-bin-hadoop3.2/jars/jdo-api-3.0.1.jar\n",
            "spark-3.2.0-bin-hadoop3.2/jars/JLargeArrays-1.5.jar\n",
            "spark-3.2.0-bin-hadoop3.2/jars/metrics-jvm-4.2.0.jar\n",
            "spark-3.2.0-bin-hadoop3.2/jars/httpcore-4.4.14.jar\n",
            "spark-3.2.0-bin-hadoop3.2/jars/commons-codec-1.15.jar\n",
            "spark-3.2.0-bin-hadoop3.2/jars/jcl-over-slf4j-1.7.30.jar\n",
            "spark-3.2.0-bin-hadoop3.2/jars/spark-repl_2.12-3.2.0.jar\n",
            "spark-3.2.0-bin-hadoop3.2/jars/stax-api-1.0.1.jar\n",
            "spark-3.2.0-bin-hadoop3.2/jars/hive-storage-api-2.7.2.jar\n",
            "spark-3.2.0-bin-hadoop3.2/jars/zookeeper-jute-3.6.2.jar\n",
            "spark-3.2.0-bin-hadoop3.2/jars/spark-sketch_2.12-3.2.0.jar\n",
            "spark-3.2.0-bin-hadoop3.2/jars/kubernetes-model-policy-5.4.1.jar\n",
            "spark-3.2.0-bin-hadoop3.2/jars/jline-2.14.6.jar\n",
            "spark-3.2.0-bin-hadoop3.2/jars/jackson-dataformat-yaml-2.12.3.jar\n",
            "spark-3.2.0-bin-hadoop3.2/jars/kubernetes-model-coordination-5.4.1.jar\n",
            "spark-3.2.0-bin-hadoop3.2/jars/dropwizard-metrics-hadoop-metrics2-reporter-0.1.2.jar\n",
            "spark-3.2.0-bin-hadoop3.2/jars/spark-hive-thriftserver_2.12-3.2.0.jar\n",
            "spark-3.2.0-bin-hadoop3.2/jars/commons-pool-1.5.4.jar\n",
            "spark-3.2.0-bin-hadoop3.2/jars/metrics-json-4.2.0.jar\n",
            "spark-3.2.0-bin-hadoop3.2/jars/xbean-asm9-shaded-4.20.jar\n",
            "spark-3.2.0-bin-hadoop3.2/jars/cats-kernel_2.12-2.1.1.jar\n",
            "spark-3.2.0-bin-hadoop3.2/jars/jta-1.1.jar\n",
            "spark-3.2.0-bin-hadoop3.2/jars/spark-streaming_2.12-3.2.0.jar\n",
            "spark-3.2.0-bin-hadoop3.2/jars/kubernetes-model-extensions-5.4.1.jar\n",
            "spark-3.2.0-bin-hadoop3.2/jars/istack-commons-runtime-3.0.8.jar\n",
            "spark-3.2.0-bin-hadoop3.2/jars/kubernetes-client-5.4.1.jar\n",
            "spark-3.2.0-bin-hadoop3.2/jars/hive-common-2.3.9.jar\n",
            "spark-3.2.0-bin-hadoop3.2/jars/kubernetes-model-discovery-5.4.1.jar\n",
            "spark-3.2.0-bin-hadoop3.2/jars/objenesis-2.6.jar\n",
            "spark-3.2.0-bin-hadoop3.2/jars/commons-collections-3.2.2.jar\n",
            "spark-3.2.0-bin-hadoop3.2/jars/audience-annotations-0.5.0.jar\n",
            "spark-3.2.0-bin-hadoop3.2/jars/jpam-1.1.jar\n",
            "spark-3.2.0-bin-hadoop3.2/jars/jakarta.annotation-api-1.3.5.jar\n",
            "spark-3.2.0-bin-hadoop3.2/jars/lapack-2.2.0.jar\n",
            "spark-3.2.0-bin-hadoop3.2/jars/spark-network-common_2.12-3.2.0.jar\n",
            "spark-3.2.0-bin-hadoop3.2/jars/jersey-common-2.34.jar\n",
            "spark-3.2.0-bin-hadoop3.2/jars/kubernetes-model-core-5.4.1.jar\n",
            "spark-3.2.0-bin-hadoop3.2/jars/curator-recipes-2.13.0.jar\n",
            "spark-3.2.0-bin-hadoop3.2/jars/jaxb-api-2.2.11.jar\n",
            "spark-3.2.0-bin-hadoop3.2/jars/snakeyaml-1.27.jar\n",
            "spark-3.2.0-bin-hadoop3.2/jars/hadoop-yarn-server-web-proxy-3.3.1.jar\n",
            "spark-3.2.0-bin-hadoop3.2/jars/avro-1.10.2.jar\n",
            "spark-3.2.0-bin-hadoop3.2/jars/antlr4-runtime-4.8.jar\n",
            "spark-3.2.0-bin-hadoop3.2/jars/avro-mapred-1.10.2.jar\n",
            "spark-3.2.0-bin-hadoop3.2/jars/kubernetes-model-node-5.4.1.jar\n",
            "spark-3.2.0-bin-hadoop3.2/jars/javax.jdo-3.2.0-m3.jar\n",
            "spark-3.2.0-bin-hadoop3.2/jars/paranamer-2.8.jar\n",
            "spark-3.2.0-bin-hadoop3.2/jars/spark-core_2.12-3.2.0.jar\n",
            "spark-3.2.0-bin-hadoop3.2/jars/flatbuffers-java-1.9.0.jar\n",
            "spark-3.2.0-bin-hadoop3.2/jars/json4s-core_2.12-3.7.0-M11.jar\n",
            "spark-3.2.0-bin-hadoop3.2/jars/spark-catalyst_2.12-3.2.0.jar\n",
            "spark-3.2.0-bin-hadoop3.2/jars/stream-2.9.6.jar\n",
            "spark-3.2.0-bin-hadoop3.2/jars/kubernetes-model-flowcontrol-5.4.1.jar\n",
            "spark-3.2.0-bin-hadoop3.2/jars/hive-shims-2.3.9.jar\n",
            "spark-3.2.0-bin-hadoop3.2/jars/datanucleus-api-jdo-4.2.4.jar\n",
            "spark-3.2.0-bin-hadoop3.2/jars/gson-2.2.4.jar\n",
            "spark-3.2.0-bin-hadoop3.2/jars/jersey-container-servlet-2.34.jar\n",
            "spark-3.2.0-bin-hadoop3.2/jars/commons-compress-1.21.jar\n",
            "spark-3.2.0-bin-hadoop3.2/jars/metrics-graphite-4.2.0.jar\n",
            "spark-3.2.0-bin-hadoop3.2/jars/curator-client-2.13.0.jar\n",
            "spark-3.2.0-bin-hadoop3.2/jars/kubernetes-model-common-5.4.1.jar\n",
            "spark-3.2.0-bin-hadoop3.2/jars/opencsv-2.3.jar\n",
            "spark-3.2.0-bin-hadoop3.2/jars/hive-exec-2.3.9-core.jar\n",
            "spark-3.2.0-bin-hadoop3.2/jars/jsr305-3.0.0.jar\n",
            "spark-3.2.0-bin-hadoop3.2/jars/macro-compat_2.12-1.1.1.jar\n",
            "spark-3.2.0-bin-hadoop3.2/jars/kubernetes-model-rbac-5.4.1.jar\n",
            "spark-3.2.0-bin-hadoop3.2/jars/derby-10.14.2.0.jar\n",
            "spark-3.2.0-bin-hadoop3.2/jars/hadoop-client-api-3.3.1.jar\n",
            "spark-3.2.0-bin-hadoop3.2/jars/jackson-annotations-2.12.3.jar\n",
            "spark-3.2.0-bin-hadoop3.2/jars/commons-dbcp-1.4.jar\n",
            "spark-3.2.0-bin-hadoop3.2/jars/scala-reflect-2.12.15.jar\n",
            "spark-3.2.0-bin-hadoop3.2/jars/okio-1.14.0.jar\n",
            "spark-3.2.0-bin-hadoop3.2/jars/kubernetes-model-certificates-5.4.1.jar\n",
            "spark-3.2.0-bin-hadoop3.2/jars/hk2-api-2.6.1.jar\n",
            "spark-3.2.0-bin-hadoop3.2/jars/spark-unsafe_2.12-3.2.0.jar\n",
            "spark-3.2.0-bin-hadoop3.2/jars/mesos-1.4.0-shaded-protobuf.jar\n",
            "spark-3.2.0-bin-hadoop3.2/jars/hive-shims-0.23-2.3.9.jar\n",
            "spark-3.2.0-bin-hadoop3.2/jars/jakarta.servlet-api-4.0.3.jar\n",
            "spark-3.2.0-bin-hadoop3.2/jars/hadoop-client-runtime-3.3.1.jar\n",
            "spark-3.2.0-bin-hadoop3.2/jars/commons-lang3-3.12.0.jar\n",
            "spark-3.2.0-bin-hadoop3.2/jars/automaton-1.11-8.jar\n",
            "spark-3.2.0-bin-hadoop3.2/jars/commons-lang-2.6.jar\n",
            "spark-3.2.0-bin-hadoop3.2/jars/ivy-2.5.0.jar\n",
            "spark-3.2.0-bin-hadoop3.2/jars/hk2-utils-2.6.1.jar\n",
            "spark-3.2.0-bin-hadoop3.2/jars/parquet-jackson-1.12.1.jar\n",
            "spark-3.2.0-bin-hadoop3.2/jars/htrace-core4-4.1.0-incubating.jar\n",
            "spark-3.2.0-bin-hadoop3.2/jars/velocity-1.5.jar\n",
            "spark-3.2.0-bin-hadoop3.2/jars/jul-to-slf4j-1.7.30.jar\n",
            "spark-3.2.0-bin-hadoop3.2/jars/httpclient-4.5.13.jar\n",
            "spark-3.2.0-bin-hadoop3.2/jars/JTransforms-3.1.jar\n",
            "spark-3.2.0-bin-hadoop3.2/jars/spark-mllib-local_2.12-3.2.0.jar\n",
            "spark-3.2.0-bin-hadoop3.2/jars/json4s-scalap_2.12-3.7.0-M11.jar\n",
            "spark-3.2.0-bin-hadoop3.2/jars/zstd-jni-1.5.0-4.jar\n",
            "spark-3.2.0-bin-hadoop3.2/jars/jersey-server-2.34.jar\n",
            "spark-3.2.0-bin-hadoop3.2/jars/aircompressor-0.21.jar\n",
            "spark-3.2.0-bin-hadoop3.2/jars/commons-math3-3.4.1.jar\n",
            "spark-3.2.0-bin-hadoop3.2/jars/joda-time-2.10.10.jar\n",
            "spark-3.2.0-bin-hadoop3.2/jars/jakarta.validation-api-2.0.2.jar\n",
            "spark-3.2.0-bin-hadoop3.2/jars/kubernetes-model-batch-5.4.1.jar\n",
            "spark-3.2.0-bin-hadoop3.2/jars/spark-mesos_2.12-3.2.0.jar\n",
            "spark-3.2.0-bin-hadoop3.2/jars/slf4j-log4j12-1.7.30.jar\n",
            "spark-3.2.0-bin-hadoop3.2/jars/slf4j-api-1.7.30.jar\n",
            "spark-3.2.0-bin-hadoop3.2/jars/guava-14.0.1.jar\n",
            "spark-3.2.0-bin-hadoop3.2/jars/spark-mllib_2.12-3.2.0.jar\n",
            "spark-3.2.0-bin-hadoop3.2/jars/kubernetes-model-autoscaling-5.4.1.jar\n",
            "spark-3.2.0-bin-hadoop3.2/jars/zjsonpatch-0.3.0.jar\n",
            "spark-3.2.0-bin-hadoop3.2/jars/hive-service-rpc-3.1.2.jar\n",
            "spark-3.2.0-bin-hadoop3.2/jars/kubernetes-model-networking-5.4.1.jar\n",
            "spark-3.2.0-bin-hadoop3.2/jars/spark-launcher_2.12-3.2.0.jar\n",
            "spark-3.2.0-bin-hadoop3.2/jars/shapeless_2.12-2.3.3.jar\n",
            "spark-3.2.0-bin-hadoop3.2/jars/kubernetes-model-events-5.4.1.jar\n",
            "spark-3.2.0-bin-hadoop3.2/jars/parquet-hadoop-1.12.1.jar\n",
            "spark-3.2.0-bin-hadoop3.2/jars/oro-2.0.8.jar\n",
            "spark-3.2.0-bin-hadoop3.2/jars/metrics-jmx-4.2.0.jar\n",
            "spark-3.2.0-bin-hadoop3.2/jars/arrow-memory-netty-2.0.0.jar\n",
            "spark-3.2.0-bin-hadoop3.2/jars/libfb303-0.9.3.jar\n",
            "spark-3.2.0-bin-hadoop3.2/jars/core-1.1.2.jar\n",
            "spark-3.2.0-bin-hadoop3.2/jars/orc-core-1.6.11.jar\n",
            "spark-3.2.0-bin-hadoop3.2/jars/datanucleus-rdbms-4.1.19.jar\n",
            "spark-3.2.0-bin-hadoop3.2/jars/super-csv-2.2.0.jar\n",
            "spark-3.2.0-bin-hadoop3.2/jars/compress-lzf-1.0.3.jar\n",
            "spark-3.2.0-bin-hadoop3.2/jars/scala-compiler-2.12.15.jar\n",
            "spark-3.2.0-bin-hadoop3.2/jars/osgi-resource-locator-1.0.3.jar\n",
            "spark-3.2.0-bin-hadoop3.2/jars/json-1.8.jar\n",
            "spark-3.2.0-bin-hadoop3.2/jars/antlr-runtime-3.5.2.jar\n",
            "spark-3.2.0-bin-hadoop3.2/jars/threeten-extra-1.5.0.jar\n",
            "spark-3.2.0-bin-hadoop3.2/jars/scala-library-2.12.15.jar\n",
            "spark-3.2.0-bin-hadoop3.2/jars/arrow-vector-2.0.0.jar\n",
            "spark-3.2.0-bin-hadoop3.2/jars/lz4-java-1.7.1.jar\n",
            "spark-3.2.0-bin-hadoop3.2/jars/snappy-java-1.1.8.4.jar\n",
            "spark-3.2.0-bin-hadoop3.2/jars/activation-1.1.1.jar\n",
            "spark-3.2.0-bin-hadoop3.2/jars/annotations-17.0.0.jar\n",
            "spark-3.2.0-bin-hadoop3.2/jars/commons-crypto-1.1.0.jar\n",
            "spark-3.2.0-bin-hadoop3.2/jars/libthrift-0.12.0.jar\n",
            "spark-3.2.0-bin-hadoop3.2/jars/HikariCP-2.5.1.jar\n",
            "spark-3.2.0-bin-hadoop3.2/jars/generex-1.0.2.jar\n",
            "spark-3.2.0-bin-hadoop3.2/jars/jackson-module-scala_2.12-2.12.3.jar\n",
            "spark-3.2.0-bin-hadoop3.2/jars/leveldbjni-all-1.8.jar\n",
            "spark-3.2.0-bin-hadoop3.2/jars/orc-shims-1.6.11.jar\n",
            "spark-3.2.0-bin-hadoop3.2/jars/jaxb-runtime-2.3.2.jar\n",
            "spark-3.2.0-bin-hadoop3.2/jars/rocksdbjni-6.20.3.jar\n",
            "spark-3.2.0-bin-hadoop3.2/jars/kubernetes-model-scheduling-5.4.1.jar\n",
            "spark-3.2.0-bin-hadoop3.2/jars/kubernetes-model-admissionregistration-5.4.1.jar\n",
            "spark-3.2.0-bin-hadoop3.2/jars/jackson-datatype-jsr310-2.11.2.jar\n",
            "spark-3.2.0-bin-hadoop3.2/jars/shims-0.9.0.jar\n",
            "spark-3.2.0-bin-hadoop3.2/jars/jackson-core-asl-1.9.13.jar\n",
            "spark-3.2.0-bin-hadoop3.2/jars/hive-cli-2.3.9.jar\n",
            "spark-3.2.0-bin-hadoop3.2/jars/kubernetes-model-storageclass-5.4.1.jar\n",
            "spark-3.2.0-bin-hadoop3.2/jars/hive-beeline-2.3.9.jar\n",
            "spark-3.2.0-bin-hadoop3.2/jars/scala-xml_2.12-1.2.0.jar\n",
            "spark-3.2.0-bin-hadoop3.2/jars/hk2-locator-2.6.1.jar\n",
            "spark-3.2.0-bin-hadoop3.2/jars/spark-sql_2.12-3.2.0.jar\n",
            "spark-3.2.0-bin-hadoop3.2/jars/kubernetes-model-apiextensions-5.4.1.jar\n",
            "spark-3.2.0-bin-hadoop3.2/jars/jackson-mapper-asl-1.9.13.jar\n",
            "spark-3.2.0-bin-hadoop3.2/jars/ST4-4.0.4.jar\n",
            "spark-3.2.0-bin-hadoop3.2/jars/spark-kubernetes_2.12-3.2.0.jar\n",
            "spark-3.2.0-bin-hadoop3.2/jars/chill_2.12-0.10.0.jar\n",
            "spark-3.2.0-bin-hadoop3.2/jars/json4s-jackson_2.12-3.7.0-M11.jar\n",
            "spark-3.2.0-bin-hadoop3.2/jars/spark-yarn_2.12-3.2.0.jar\n",
            "spark-3.2.0-bin-hadoop3.2/jars/breeze-macros_2.12-1.2.jar\n",
            "spark-3.2.0-bin-hadoop3.2/jars/spark-tags_2.12-3.2.0.jar\n",
            "spark-3.2.0-bin-hadoop3.2/jars/spark-network-shuffle_2.12-3.2.0.jar\n",
            "spark-3.2.0-bin-hadoop3.2/jars/xz-1.8.jar\n",
            "spark-3.2.0-bin-hadoop3.2/jars/jackson-databind-2.12.3.jar\n",
            "spark-3.2.0-bin-hadoop3.2/jars/blas-2.2.0.jar\n",
            "spark-3.2.0-bin-hadoop3.2/jars/minlog-1.3.0.jar\n",
            "spark-3.2.0-bin-hadoop3.2/jars/jersey-hk2-2.34.jar\n",
            "spark-3.2.0-bin-hadoop3.2/jars/jakarta.ws.rs-api-2.1.6.jar\n",
            "spark-3.2.0-bin-hadoop3.2/jars/jersey-container-servlet-core-2.34.jar\n",
            "spark-3.2.0-bin-hadoop3.2/jars/aopalliance-repackaged-2.6.1.jar\n",
            "spark-3.2.0-bin-hadoop3.2/jars/spark-tags_2.12-3.2.0-tests.jar\n",
            "spark-3.2.0-bin-hadoop3.2/jars/parquet-common-1.12.1.jar\n",
            "spark-3.2.0-bin-hadoop3.2/jars/bonecp-0.8.0.RELEASE.jar\n",
            "spark-3.2.0-bin-hadoop3.2/jars/jodd-core-3.5.2.jar\n",
            "spark-3.2.0-bin-hadoop3.2/jars/spire-util_2.12-0.17.0.jar\n",
            "spark-3.2.0-bin-hadoop3.2/jars/spark-hive_2.12-3.2.0.jar\n",
            "spark-3.2.0-bin-hadoop3.2/jars/protobuf-java-2.5.0.jar\n",
            "spark-3.2.0-bin-hadoop3.2/jars/jersey-client-2.34.jar\n",
            "spark-3.2.0-bin-hadoop3.2/jars/commons-net-3.1.jar\n",
            "spark-3.2.0-bin-hadoop3.2/jars/datanucleus-core-4.1.17.jar\n",
            "spark-3.2.0-bin-hadoop3.2/jars/janino-3.0.16.jar\n",
            "spark-3.2.0-bin-hadoop3.2/jars/spire-platform_2.12-0.17.0.jar\n",
            "spark-3.2.0-bin-hadoop3.2/jars/javolution-5.5.1.jar\n",
            "spark-3.2.0-bin-hadoop3.2/jars/transaction-api-1.1.jar\n",
            "spark-3.2.0-bin-hadoop3.2/jars/commons-io-2.8.0.jar\n",
            "spark-3.2.0-bin-hadoop3.2/jars/curator-framework-2.13.0.jar\n",
            "spark-3.2.0-bin-hadoop3.2/jars/jackson-core-2.12.3.jar\n",
            "spark-3.2.0-bin-hadoop3.2/jars/commons-cli-1.2.jar\n",
            "spark-3.2.0-bin-hadoop3.2/jars/jakarta.inject-2.6.1.jar\n",
            "spark-3.2.0-bin-hadoop3.2/jars/hive-llap-common-2.3.9.jar\n",
            "spark-3.2.0-bin-hadoop3.2/jars/tink-1.6.0.jar\n",
            "spark-3.2.0-bin-hadoop3.2/jars/jakarta.xml.bind-api-2.3.2.jar\n",
            "spark-3.2.0-bin-hadoop3.2/jars/algebra_2.12-2.0.1.jar\n",
            "spark-3.2.0-bin-hadoop3.2/jars/hadoop-shaded-guava-1.1.1.jar\n",
            "spark-3.2.0-bin-hadoop3.2/jars/metrics-core-4.2.0.jar\n",
            "spark-3.2.0-bin-hadoop3.2/jars/arpack_combined_all-0.1.jar\n",
            "spark-3.2.0-bin-hadoop3.2/jars/hive-vector-code-gen-2.3.9.jar\n",
            "spark-3.2.0-bin-hadoop3.2/jars/orc-mapreduce-1.6.11.jar\n",
            "spark-3.2.0-bin-hadoop3.2/jars/parquet-format-structures-1.12.1.jar\n",
            "spark-3.2.0-bin-hadoop3.2/jars/arrow-format-2.0.0.jar\n",
            "spark-3.2.0-bin-hadoop3.2/jars/json4s-ast_2.12-3.7.0-M11.jar\n",
            "spark-3.2.0-bin-hadoop3.2/jars/parquet-column-1.12.1.jar\n",
            "spark-3.2.0-bin-hadoop3.2/jars/javassist-3.25.0-GA.jar\n",
            "spark-3.2.0-bin-hadoop3.2/jars/scala-collection-compat_2.12-2.1.1.jar\n",
            "spark-3.2.0-bin-hadoop3.2/jars/arrow-memory-core-2.0.0.jar\n",
            "spark-3.2.0-bin-hadoop3.2/jars/arpack-2.2.0.jar\n",
            "spark-3.2.0-bin-hadoop3.2/jars/commons-text-1.6.jar\n",
            "spark-3.2.0-bin-hadoop3.2/jars/parquet-encoding-1.12.1.jar\n",
            "spark-3.2.0-bin-hadoop3.2/jars/kubernetes-model-apps-5.4.1.jar\n",
            "spark-3.2.0-bin-hadoop3.2/jars/univocity-parsers-2.9.1.jar\n",
            "spark-3.2.0-bin-hadoop3.2/jars/hive-shims-scheduler-2.3.9.jar\n",
            "spark-3.2.0-bin-hadoop3.2/jars/breeze_2.12-1.2.jar\n",
            "spark-3.2.0-bin-hadoop3.2/jars/pyrolite-4.30.jar\n",
            "spark-3.2.0-bin-hadoop3.2/jars/chill-java-0.10.0.jar\n",
            "spark-3.2.0-bin-hadoop3.2/jars/spire-macros_2.12-0.17.0.jar\n",
            "spark-3.2.0-bin-hadoop3.2/jars/spark-kvstore_2.12-3.2.0.jar\n",
            "spark-3.2.0-bin-hadoop3.2/jars/log4j-1.2.17.jar\n",
            "spark-3.2.0-bin-hadoop3.2/jars/netty-all-4.1.68.Final.jar\n",
            "spark-3.2.0-bin-hadoop3.2/jars/avro-ipc-1.10.2.jar\n",
            "spark-3.2.0-bin-hadoop3.2/jars/scala-parser-combinators_2.12-1.1.2.jar\n",
            "spark-3.2.0-bin-hadoop3.2/jars/hive-metastore-2.3.9.jar\n",
            "spark-3.2.0-bin-hadoop3.2/jars/py4j-0.10.9.2.jar\n",
            "spark-3.2.0-bin-hadoop3.2/data/\n",
            "spark-3.2.0-bin-hadoop3.2/data/mllib/\n",
            "spark-3.2.0-bin-hadoop3.2/data/mllib/sample_lda_data.txt\n",
            "spark-3.2.0-bin-hadoop3.2/data/mllib/sample_libsvm_data.txt\n",
            "spark-3.2.0-bin-hadoop3.2/data/mllib/sample_svm_data.txt\n",
            "spark-3.2.0-bin-hadoop3.2/data/mllib/sample_multiclass_classification_data.txt\n",
            "spark-3.2.0-bin-hadoop3.2/data/mllib/sample_linear_regression_data.txt\n",
            "spark-3.2.0-bin-hadoop3.2/data/mllib/sample_lda_libsvm_data.txt\n",
            "spark-3.2.0-bin-hadoop3.2/data/mllib/sample_fpgrowth.txt\n",
            "spark-3.2.0-bin-hadoop3.2/data/mllib/sample_binary_classification_data.txt\n",
            "spark-3.2.0-bin-hadoop3.2/data/mllib/sample_isotonic_regression_libsvm_data.txt\n",
            "spark-3.2.0-bin-hadoop3.2/data/mllib/iris_libsvm.txt\n",
            "spark-3.2.0-bin-hadoop3.2/data/mllib/sample_movielens_data.txt\n",
            "spark-3.2.0-bin-hadoop3.2/data/mllib/als/\n",
            "spark-3.2.0-bin-hadoop3.2/data/mllib/als/test.data\n",
            "spark-3.2.0-bin-hadoop3.2/data/mllib/als/sample_movielens_ratings.txt\n",
            "spark-3.2.0-bin-hadoop3.2/data/mllib/sample_kmeans_data.txt\n",
            "spark-3.2.0-bin-hadoop3.2/data/mllib/pic_data.txt\n",
            "spark-3.2.0-bin-hadoop3.2/data/mllib/images/\n",
            "spark-3.2.0-bin-hadoop3.2/data/mllib/images/origin/\n",
            "spark-3.2.0-bin-hadoop3.2/data/mllib/images/origin/kittens/\n",
            "spark-3.2.0-bin-hadoop3.2/data/mllib/images/origin/kittens/54893.jpg\n",
            "spark-3.2.0-bin-hadoop3.2/data/mllib/images/origin/kittens/not-image.txt\n",
            "spark-3.2.0-bin-hadoop3.2/data/mllib/images/origin/kittens/DP802813.jpg\n",
            "spark-3.2.0-bin-hadoop3.2/data/mllib/images/origin/kittens/29.5.a_b_EGDP022204.jpg\n",
            "spark-3.2.0-bin-hadoop3.2/data/mllib/images/origin/kittens/DP153539.jpg\n",
            "spark-3.2.0-bin-hadoop3.2/data/mllib/images/origin/license.txt\n",
            "spark-3.2.0-bin-hadoop3.2/data/mllib/images/origin/multi-channel/\n",
            "spark-3.2.0-bin-hadoop3.2/data/mllib/images/origin/multi-channel/BGRA.png\n",
            "spark-3.2.0-bin-hadoop3.2/data/mllib/images/origin/multi-channel/BGRA_alpha_60.png\n",
            "spark-3.2.0-bin-hadoop3.2/data/mllib/images/origin/multi-channel/grayscale.jpg\n",
            "spark-3.2.0-bin-hadoop3.2/data/mllib/images/origin/multi-channel/chr30.4.184.jpg\n",
            "spark-3.2.0-bin-hadoop3.2/data/mllib/images/partitioned/\n",
            "spark-3.2.0-bin-hadoop3.2/data/mllib/images/partitioned/cls=multichannel/\n",
            "spark-3.2.0-bin-hadoop3.2/data/mllib/images/partitioned/cls=multichannel/date=2018-01/\n",
            "spark-3.2.0-bin-hadoop3.2/data/mllib/images/partitioned/cls=multichannel/date=2018-01/BGRA.png\n",
            "spark-3.2.0-bin-hadoop3.2/data/mllib/images/partitioned/cls=multichannel/date=2018-01/BGRA_alpha_60.png\n",
            "spark-3.2.0-bin-hadoop3.2/data/mllib/images/partitioned/cls=multichannel/date=2018-02/\n",
            "spark-3.2.0-bin-hadoop3.2/data/mllib/images/partitioned/cls=multichannel/date=2018-02/grayscale.jpg\n",
            "spark-3.2.0-bin-hadoop3.2/data/mllib/images/partitioned/cls=multichannel/date=2018-02/chr30.4.184.jpg\n",
            "spark-3.2.0-bin-hadoop3.2/data/mllib/images/partitioned/cls=kittens/\n",
            "spark-3.2.0-bin-hadoop3.2/data/mllib/images/partitioned/cls=kittens/date=2018-01/\n",
            "spark-3.2.0-bin-hadoop3.2/data/mllib/images/partitioned/cls=kittens/date=2018-01/not-image.txt\n",
            "spark-3.2.0-bin-hadoop3.2/data/mllib/images/partitioned/cls=kittens/date=2018-01/29.5.a_b_EGDP022204.jpg\n",
            "spark-3.2.0-bin-hadoop3.2/data/mllib/images/partitioned/cls=kittens/date=2018-02/\n",
            "spark-3.2.0-bin-hadoop3.2/data/mllib/images/partitioned/cls=kittens/date=2018-02/54893.jpg\n",
            "spark-3.2.0-bin-hadoop3.2/data/mllib/images/partitioned/cls=kittens/date=2018-02/DP802813.jpg\n",
            "spark-3.2.0-bin-hadoop3.2/data/mllib/images/partitioned/cls=kittens/date=2018-02/DP153539.jpg\n",
            "spark-3.2.0-bin-hadoop3.2/data/mllib/images/license.txt\n",
            "spark-3.2.0-bin-hadoop3.2/data/mllib/ridge-data/\n",
            "spark-3.2.0-bin-hadoop3.2/data/mllib/ridge-data/lpsa.data\n",
            "spark-3.2.0-bin-hadoop3.2/data/mllib/kmeans_data.txt\n",
            "spark-3.2.0-bin-hadoop3.2/data/mllib/streaming_kmeans_data_test.txt\n",
            "spark-3.2.0-bin-hadoop3.2/data/mllib/pagerank_data.txt\n",
            "spark-3.2.0-bin-hadoop3.2/data/mllib/gmm_data.txt\n",
            "spark-3.2.0-bin-hadoop3.2/data/graphx/\n",
            "spark-3.2.0-bin-hadoop3.2/data/graphx/users.txt\n",
            "spark-3.2.0-bin-hadoop3.2/data/graphx/followers.txt\n",
            "spark-3.2.0-bin-hadoop3.2/data/streaming/\n",
            "spark-3.2.0-bin-hadoop3.2/data/streaming/AFINN-111.txt\n",
            "spark-3.2.0-bin-hadoop3.2/R/\n",
            "spark-3.2.0-bin-hadoop3.2/R/lib/\n",
            "spark-3.2.0-bin-hadoop3.2/R/lib/sparkr.zip\n",
            "spark-3.2.0-bin-hadoop3.2/R/lib/SparkR/\n",
            "spark-3.2.0-bin-hadoop3.2/R/lib/SparkR/tests/\n",
            "spark-3.2.0-bin-hadoop3.2/R/lib/SparkR/tests/testthat/\n",
            "spark-3.2.0-bin-hadoop3.2/R/lib/SparkR/tests/testthat/test_basic.R\n",
            "spark-3.2.0-bin-hadoop3.2/R/lib/SparkR/DESCRIPTION\n",
            "spark-3.2.0-bin-hadoop3.2/R/lib/SparkR/profile/\n",
            "spark-3.2.0-bin-hadoop3.2/R/lib/SparkR/profile/shell.R\n",
            "spark-3.2.0-bin-hadoop3.2/R/lib/SparkR/profile/general.R\n",
            "spark-3.2.0-bin-hadoop3.2/R/lib/SparkR/INDEX\n",
            "spark-3.2.0-bin-hadoop3.2/R/lib/SparkR/Meta/\n",
            "spark-3.2.0-bin-hadoop3.2/R/lib/SparkR/Meta/features.rds\n",
            "spark-3.2.0-bin-hadoop3.2/R/lib/SparkR/Meta/links.rds\n",
            "spark-3.2.0-bin-hadoop3.2/R/lib/SparkR/Meta/nsInfo.rds\n",
            "spark-3.2.0-bin-hadoop3.2/R/lib/SparkR/Meta/package.rds\n",
            "spark-3.2.0-bin-hadoop3.2/R/lib/SparkR/Meta/vignette.rds\n",
            "spark-3.2.0-bin-hadoop3.2/R/lib/SparkR/Meta/Rd.rds\n",
            "spark-3.2.0-bin-hadoop3.2/R/lib/SparkR/Meta/hsearch.rds\n",
            "spark-3.2.0-bin-hadoop3.2/R/lib/SparkR/help/\n",
            "spark-3.2.0-bin-hadoop3.2/R/lib/SparkR/help/SparkR.rdb\n",
            "spark-3.2.0-bin-hadoop3.2/R/lib/SparkR/help/aliases.rds\n",
            "spark-3.2.0-bin-hadoop3.2/R/lib/SparkR/help/SparkR.rdx\n",
            "spark-3.2.0-bin-hadoop3.2/R/lib/SparkR/help/AnIndex\n",
            "spark-3.2.0-bin-hadoop3.2/R/lib/SparkR/help/paths.rds\n",
            "spark-3.2.0-bin-hadoop3.2/R/lib/SparkR/R/\n",
            "spark-3.2.0-bin-hadoop3.2/R/lib/SparkR/R/SparkR.rdb\n",
            "spark-3.2.0-bin-hadoop3.2/R/lib/SparkR/R/SparkR.rdx\n",
            "spark-3.2.0-bin-hadoop3.2/R/lib/SparkR/R/SparkR\n",
            "spark-3.2.0-bin-hadoop3.2/R/lib/SparkR/NAMESPACE\n",
            "spark-3.2.0-bin-hadoop3.2/R/lib/SparkR/doc/\n",
            "spark-3.2.0-bin-hadoop3.2/R/lib/SparkR/doc/sparkr-vignettes.Rmd\n",
            "spark-3.2.0-bin-hadoop3.2/R/lib/SparkR/doc/index.html\n",
            "spark-3.2.0-bin-hadoop3.2/R/lib/SparkR/doc/sparkr-vignettes.html\n",
            "spark-3.2.0-bin-hadoop3.2/R/lib/SparkR/doc/sparkr-vignettes.R\n",
            "spark-3.2.0-bin-hadoop3.2/R/lib/SparkR/html/\n",
            "spark-3.2.0-bin-hadoop3.2/R/lib/SparkR/html/00Index.html\n",
            "spark-3.2.0-bin-hadoop3.2/R/lib/SparkR/html/R.css\n",
            "spark-3.2.0-bin-hadoop3.2/R/lib/SparkR/worker/\n",
            "spark-3.2.0-bin-hadoop3.2/R/lib/SparkR/worker/worker.R\n",
            "spark-3.2.0-bin-hadoop3.2/R/lib/SparkR/worker/daemon.R\n",
            "spark-3.2.0-bin-hadoop3.2/README.md\n",
            "spark-3.2.0-bin-hadoop3.2/RELEASE\n",
            "spark-3.2.0-bin-hadoop3.2/yarn/\n",
            "spark-3.2.0-bin-hadoop3.2/yarn/spark-3.2.0-yarn-shuffle.jar\n",
            "spark-3.2.0-bin-hadoop3.2/LICENSE\n",
            "spark-3.2.0-bin-hadoop3.2/sbin/\n",
            "spark-3.2.0-bin-hadoop3.2/sbin/start-workers.sh\n",
            "spark-3.2.0-bin-hadoop3.2/sbin/stop-mesos-shuffle-service.sh\n",
            "spark-3.2.0-bin-hadoop3.2/sbin/start-master.sh\n",
            "spark-3.2.0-bin-hadoop3.2/sbin/workers.sh\n",
            "spark-3.2.0-bin-hadoop3.2/sbin/start-worker.sh\n",
            "spark-3.2.0-bin-hadoop3.2/sbin/spark-config.sh\n",
            "spark-3.2.0-bin-hadoop3.2/sbin/start-history-server.sh\n",
            "spark-3.2.0-bin-hadoop3.2/sbin/start-slaves.sh\n",
            "spark-3.2.0-bin-hadoop3.2/sbin/spark-daemon.sh\n",
            "spark-3.2.0-bin-hadoop3.2/sbin/stop-worker.sh\n",
            "spark-3.2.0-bin-hadoop3.2/sbin/stop-mesos-dispatcher.sh\n",
            "spark-3.2.0-bin-hadoop3.2/sbin/decommission-worker.sh\n",
            "spark-3.2.0-bin-hadoop3.2/sbin/start-mesos-shuffle-service.sh\n",
            "spark-3.2.0-bin-hadoop3.2/sbin/decommission-slave.sh\n",
            "spark-3.2.0-bin-hadoop3.2/sbin/slaves.sh\n",
            "spark-3.2.0-bin-hadoop3.2/sbin/stop-history-server.sh\n",
            "spark-3.2.0-bin-hadoop3.2/sbin/start-thriftserver.sh\n",
            "spark-3.2.0-bin-hadoop3.2/sbin/stop-thriftserver.sh\n",
            "spark-3.2.0-bin-hadoop3.2/sbin/start-slave.sh\n",
            "spark-3.2.0-bin-hadoop3.2/sbin/start-all.sh\n",
            "spark-3.2.0-bin-hadoop3.2/sbin/stop-slave.sh\n",
            "spark-3.2.0-bin-hadoop3.2/sbin/spark-daemons.sh\n",
            "spark-3.2.0-bin-hadoop3.2/sbin/stop-workers.sh\n",
            "spark-3.2.0-bin-hadoop3.2/sbin/stop-slaves.sh\n",
            "spark-3.2.0-bin-hadoop3.2/sbin/stop-all.sh\n",
            "spark-3.2.0-bin-hadoop3.2/sbin/start-mesos-dispatcher.sh\n",
            "spark-3.2.0-bin-hadoop3.2/sbin/stop-master.sh\n",
            "spark-3.2.0-bin-hadoop3.2/examples/\n",
            "spark-3.2.0-bin-hadoop3.2/examples/src/\n",
            "spark-3.2.0-bin-hadoop3.2/examples/src/main/\n",
            "spark-3.2.0-bin-hadoop3.2/examples/src/main/r/\n",
            "spark-3.2.0-bin-hadoop3.2/examples/src/main/r/ml/\n",
            "spark-3.2.0-bin-hadoop3.2/examples/src/main/r/ml/survreg.R\n",
            "spark-3.2.0-bin-hadoop3.2/examples/src/main/r/ml/glm.R\n",
            "spark-3.2.0-bin-hadoop3.2/examples/src/main/r/ml/prefixSpan.R\n",
            "spark-3.2.0-bin-hadoop3.2/examples/src/main/r/ml/lm_with_elastic_net.R\n",
            "spark-3.2.0-bin-hadoop3.2/examples/src/main/r/ml/powerIterationClustering.R\n",
            "spark-3.2.0-bin-hadoop3.2/examples/src/main/r/ml/lda.R\n",
            "spark-3.2.0-bin-hadoop3.2/examples/src/main/r/ml/kstest.R\n",
            "spark-3.2.0-bin-hadoop3.2/examples/src/main/r/ml/isoreg.R\n",
            "spark-3.2.0-bin-hadoop3.2/examples/src/main/r/ml/ml.R\n",
            "spark-3.2.0-bin-hadoop3.2/examples/src/main/r/ml/naiveBayes.R\n",
            "spark-3.2.0-bin-hadoop3.2/examples/src/main/r/ml/fmRegressor.R\n",
            "spark-3.2.0-bin-hadoop3.2/examples/src/main/r/ml/mlp.R\n",
            "spark-3.2.0-bin-hadoop3.2/examples/src/main/r/ml/als.R\n",
            "spark-3.2.0-bin-hadoop3.2/examples/src/main/r/ml/kmeans.R\n",
            "spark-3.2.0-bin-hadoop3.2/examples/src/main/r/ml/svmLinear.R\n",
            "spark-3.2.0-bin-hadoop3.2/examples/src/main/r/ml/fmClassifier.R\n",
            "spark-3.2.0-bin-hadoop3.2/examples/src/main/r/ml/logit.R\n",
            "spark-3.2.0-bin-hadoop3.2/examples/src/main/r/ml/randomForest.R\n",
            "spark-3.2.0-bin-hadoop3.2/examples/src/main/r/ml/gbt.R\n",
            "spark-3.2.0-bin-hadoop3.2/examples/src/main/r/ml/decisionTree.R\n",
            "spark-3.2.0-bin-hadoop3.2/examples/src/main/r/ml/gaussianMixture.R\n",
            "spark-3.2.0-bin-hadoop3.2/examples/src/main/r/ml/bisectingKmeans.R\n",
            "spark-3.2.0-bin-hadoop3.2/examples/src/main/r/ml/fpm.R\n",
            "spark-3.2.0-bin-hadoop3.2/examples/src/main/r/dataframe.R\n",
            "spark-3.2.0-bin-hadoop3.2/examples/src/main/r/RSparkSQLExample.R\n",
            "spark-3.2.0-bin-hadoop3.2/examples/src/main/r/data-manipulation.R\n",
            "spark-3.2.0-bin-hadoop3.2/examples/src/main/r/streaming/\n",
            "spark-3.2.0-bin-hadoop3.2/examples/src/main/r/streaming/structured_network_wordcount.R\n",
            "spark-3.2.0-bin-hadoop3.2/examples/src/main/scala/\n",
            "spark-3.2.0-bin-hadoop3.2/examples/src/main/scala/org/\n",
            "spark-3.2.0-bin-hadoop3.2/examples/src/main/scala/org/apache/\n",
            "spark-3.2.0-bin-hadoop3.2/examples/src/main/scala/org/apache/spark/\n",
            "spark-3.2.0-bin-hadoop3.2/examples/src/main/scala/org/apache/spark/examples/\n",
            "spark-3.2.0-bin-hadoop3.2/examples/src/main/scala/org/apache/spark/examples/SparkPageRank.scala\n",
            "spark-3.2.0-bin-hadoop3.2/examples/src/main/scala/org/apache/spark/examples/SkewedGroupByTest.scala\n",
            "spark-3.2.0-bin-hadoop3.2/examples/src/main/scala/org/apache/spark/examples/AccumulatorMetricsTest.scala\n",
            "spark-3.2.0-bin-hadoop3.2/examples/src/main/scala/org/apache/spark/examples/HdfsTest.scala\n",
            "spark-3.2.0-bin-hadoop3.2/examples/src/main/scala/org/apache/spark/examples/ml/\n",
            "spark-3.2.0-bin-hadoop3.2/examples/src/main/scala/org/apache/spark/examples/ml/Word2VecExample.scala\n",
            "spark-3.2.0-bin-hadoop3.2/examples/src/main/scala/org/apache/spark/examples/ml/DeveloperApiExample.scala\n",
            "spark-3.2.0-bin-hadoop3.2/examples/src/main/scala/org/apache/spark/examples/ml/MinHashLSHExample.scala\n",
            "spark-3.2.0-bin-hadoop3.2/examples/src/main/scala/org/apache/spark/examples/ml/IndexToStringExample.scala\n",
            "spark-3.2.0-bin-hadoop3.2/examples/src/main/scala/org/apache/spark/examples/ml/BisectingKMeansExample.scala\n",
            "spark-3.2.0-bin-hadoop3.2/examples/src/main/scala/org/apache/spark/examples/ml/CorrelationExample.scala\n",
            "spark-3.2.0-bin-hadoop3.2/examples/src/main/scala/org/apache/spark/examples/ml/MulticlassLogisticRegressionWithElasticNetExample.scala\n",
            "spark-3.2.0-bin-hadoop3.2/examples/src/main/scala/org/apache/spark/examples/ml/VectorSizeHintExample.scala\n",
            "spark-3.2.0-bin-hadoop3.2/examples/src/main/scala/org/apache/spark/examples/ml/NGramExample.scala\n",
            "spark-3.2.0-bin-hadoop3.2/examples/src/main/scala/org/apache/spark/examples/ml/BucketedRandomProjectionLSHExample.scala\n",
            "spark-3.2.0-bin-hadoop3.2/examples/src/main/scala/org/apache/spark/examples/ml/BinarizerExample.scala\n",
            "spark-3.2.0-bin-hadoop3.2/examples/src/main/scala/org/apache/spark/examples/ml/RandomForestExample.scala\n",
            "spark-3.2.0-bin-hadoop3.2/examples/src/main/scala/org/apache/spark/examples/ml/StandardScalerExample.scala\n",
            "spark-3.2.0-bin-hadoop3.2/examples/src/main/scala/org/apache/spark/examples/ml/LogisticRegressionExample.scala\n",
            "spark-3.2.0-bin-hadoop3.2/examples/src/main/scala/org/apache/spark/examples/ml/FeatureHasherExample.scala\n",
            "spark-3.2.0-bin-hadoop3.2/examples/src/main/scala/org/apache/spark/examples/ml/OneVsRestExample.scala\n",
            "spark-3.2.0-bin-hadoop3.2/examples/src/main/scala/org/apache/spark/examples/ml/StopWordsRemoverExample.scala\n",
            "spark-3.2.0-bin-hadoop3.2/examples/src/main/scala/org/apache/spark/examples/ml/LinearSVCExample.scala\n",
            "spark-3.2.0-bin-hadoop3.2/examples/src/main/scala/org/apache/spark/examples/ml/GaussianMixtureExample.scala\n",
            "spark-3.2.0-bin-hadoop3.2/examples/src/main/scala/org/apache/spark/examples/ml/MaxAbsScalerExample.scala\n",
            "spark-3.2.0-bin-hadoop3.2/examples/src/main/scala/org/apache/spark/examples/ml/VarianceThresholdSelectorExample.scala\n",
            "spark-3.2.0-bin-hadoop3.2/examples/src/main/scala/org/apache/spark/examples/ml/GBTExample.scala\n",
            "spark-3.2.0-bin-hadoop3.2/examples/src/main/scala/org/apache/spark/examples/ml/IsotonicRegressionExample.scala\n",
            "spark-3.2.0-bin-hadoop3.2/examples/src/main/scala/org/apache/spark/examples/ml/ModelSelectionViaCrossValidationExample.scala\n",
            "spark-3.2.0-bin-hadoop3.2/examples/src/main/scala/org/apache/spark/examples/ml/EstimatorTransformerParamExample.scala\n",
            "spark-3.2.0-bin-hadoop3.2/examples/src/main/scala/org/apache/spark/examples/ml/DecisionTreeRegressionExample.scala\n",
            "spark-3.2.0-bin-hadoop3.2/examples/src/main/scala/org/apache/spark/examples/ml/RandomForestRegressorExample.scala\n",
            "spark-3.2.0-bin-hadoop3.2/examples/src/main/scala/org/apache/spark/examples/ml/PrefixSpanExample.scala\n",
            "spark-3.2.0-bin-hadoop3.2/examples/src/main/scala/org/apache/spark/examples/ml/KMeansExample.scala\n",
            "spark-3.2.0-bin-hadoop3.2/examples/src/main/scala/org/apache/spark/examples/ml/ModelSelectionViaTrainValidationSplitExample.scala\n",
            "spark-3.2.0-bin-hadoop3.2/examples/src/main/scala/org/apache/spark/examples/ml/LogisticRegressionSummaryExample.scala\n",
            "spark-3.2.0-bin-hadoop3.2/examples/src/main/scala/org/apache/spark/examples/ml/MultilayerPerceptronClassifierExample.scala\n",
            "spark-3.2.0-bin-hadoop3.2/examples/src/main/scala/org/apache/spark/examples/ml/PCAExample.scala\n",
            "spark-3.2.0-bin-hadoop3.2/examples/src/main/scala/org/apache/spark/examples/ml/DCTExample.scala\n",
            "spark-3.2.0-bin-hadoop3.2/examples/src/main/scala/org/apache/spark/examples/ml/FPGrowthExample.scala\n",
            "spark-3.2.0-bin-hadoop3.2/examples/src/main/scala/org/apache/spark/examples/ml/ElementwiseProductExample.scala\n",
            "spark-3.2.0-bin-hadoop3.2/examples/src/main/scala/org/apache/spark/examples/ml/GeneralizedLinearRegressionExample.scala\n",
            "spark-3.2.0-bin-hadoop3.2/examples/src/main/scala/org/apache/spark/examples/ml/UnivariateFeatureSelectorExample.scala\n",
            "spark-3.2.0-bin-hadoop3.2/examples/src/main/scala/org/apache/spark/examples/ml/CountVectorizerExample.scala\n",
            "spark-3.2.0-bin-hadoop3.2/examples/src/main/scala/org/apache/spark/examples/ml/MinMaxScalerExample.scala\n",
            "spark-3.2.0-bin-hadoop3.2/examples/src/main/scala/org/apache/spark/examples/ml/ChiSquareTestExample.scala\n",
            "spark-3.2.0-bin-hadoop3.2/examples/src/main/scala/org/apache/spark/examples/ml/LogisticRegressionWithElasticNetExample.scala\n",
            "spark-3.2.0-bin-hadoop3.2/examples/src/main/scala/org/apache/spark/examples/ml/FMRegressorExample.scala\n",
            "spark-3.2.0-bin-hadoop3.2/examples/src/main/scala/org/apache/spark/examples/ml/VectorSlicerExample.scala\n",
            "spark-3.2.0-bin-hadoop3.2/examples/src/main/scala/org/apache/spark/examples/ml/LinearRegressionExample.scala\n",
            "spark-3.2.0-bin-hadoop3.2/examples/src/main/scala/org/apache/spark/examples/ml/StringIndexerExample.scala\n",
            "spark-3.2.0-bin-hadoop3.2/examples/src/main/scala/org/apache/spark/examples/ml/GradientBoostedTreeRegressorExample.scala\n",
            "spark-3.2.0-bin-hadoop3.2/examples/src/main/scala/org/apache/spark/examples/ml/ALSExample.scala\n",
            "spark-3.2.0-bin-hadoop3.2/examples/src/main/scala/org/apache/spark/examples/ml/DecisionTreeClassificationExample.scala\n",
            "spark-3.2.0-bin-hadoop3.2/examples/src/main/scala/org/apache/spark/examples/ml/PolynomialExpansionExample.scala\n",
            "spark-3.2.0-bin-hadoop3.2/examples/src/main/scala/org/apache/spark/examples/ml/FMClassifierExample.scala\n",
            "spark-3.2.0-bin-hadoop3.2/examples/src/main/scala/org/apache/spark/examples/ml/UnaryTransformerExample.scala\n",
            "spark-3.2.0-bin-hadoop3.2/examples/src/main/scala/org/apache/spark/examples/ml/ImputerExample.scala\n",
            "spark-3.2.0-bin-hadoop3.2/examples/src/main/scala/org/apache/spark/examples/ml/TokenizerExample.scala\n",
            "spark-3.2.0-bin-hadoop3.2/examples/src/main/scala/org/apache/spark/examples/ml/DecisionTreeExample.scala\n",
            "spark-3.2.0-bin-hadoop3.2/examples/src/main/scala/org/apache/spark/examples/ml/GradientBoostedTreeClassifierExample.scala\n",
            "spark-3.2.0-bin-hadoop3.2/examples/src/main/scala/org/apache/spark/examples/ml/PowerIterationClusteringExample.scala\n",
            "spark-3.2.0-bin-hadoop3.2/examples/src/main/scala/org/apache/spark/examples/ml/SQLTransformerExample.scala\n",
            "spark-3.2.0-bin-hadoop3.2/examples/src/main/scala/org/apache/spark/examples/ml/SummarizerExample.scala\n",
            "spark-3.2.0-bin-hadoop3.2/examples/src/main/scala/org/apache/spark/examples/ml/DataFrameExample.scala\n",
            "spark-3.2.0-bin-hadoop3.2/examples/src/main/scala/org/apache/spark/examples/ml/BucketizerExample.scala\n",
            "spark-3.2.0-bin-hadoop3.2/examples/src/main/scala/org/apache/spark/examples/ml/TfIdfExample.scala\n",
            "spark-3.2.0-bin-hadoop3.2/examples/src/main/scala/org/apache/spark/examples/ml/AFTSurvivalRegressionExample.scala\n",
            "spark-3.2.0-bin-hadoop3.2/examples/src/main/scala/org/apache/spark/examples/ml/QuantileDiscretizerExample.scala\n",
            "spark-3.2.0-bin-hadoop3.2/examples/src/main/scala/org/apache/spark/examples/ml/OneHotEncoderExample.scala\n",
            "spark-3.2.0-bin-hadoop3.2/examples/src/main/scala/org/apache/spark/examples/ml/PipelineExample.scala\n",
            "spark-3.2.0-bin-hadoop3.2/examples/src/main/scala/org/apache/spark/examples/ml/InteractionExample.scala\n",
            "spark-3.2.0-bin-hadoop3.2/examples/src/main/scala/org/apache/spark/examples/ml/LDAExample.scala\n",
            "spark-3.2.0-bin-hadoop3.2/examples/src/main/scala/org/apache/spark/examples/ml/RFormulaExample.scala\n",
            "spark-3.2.0-bin-hadoop3.2/examples/src/main/scala/org/apache/spark/examples/ml/VectorIndexerExample.scala\n",
            "spark-3.2.0-bin-hadoop3.2/examples/src/main/scala/org/apache/spark/examples/ml/VectorAssemblerExample.scala\n",
            "spark-3.2.0-bin-hadoop3.2/examples/src/main/scala/org/apache/spark/examples/ml/NormalizerExample.scala\n",
            "spark-3.2.0-bin-hadoop3.2/examples/src/main/scala/org/apache/spark/examples/ml/ChiSqSelectorExample.scala\n",
            "spark-3.2.0-bin-hadoop3.2/examples/src/main/scala/org/apache/spark/examples/ml/NaiveBayesExample.scala\n",
            "spark-3.2.0-bin-hadoop3.2/examples/src/main/scala/org/apache/spark/examples/ml/RandomForestClassifierExample.scala\n",
            "spark-3.2.0-bin-hadoop3.2/examples/src/main/scala/org/apache/spark/examples/ml/LinearRegressionWithElasticNetExample.scala\n",
            "spark-3.2.0-bin-hadoop3.2/examples/src/main/scala/org/apache/spark/examples/ml/RobustScalerExample.scala\n",
            "spark-3.2.0-bin-hadoop3.2/examples/src/main/scala/org/apache/spark/examples/LogQuery.scala\n",
            "spark-3.2.0-bin-hadoop3.2/examples/src/main/scala/org/apache/spark/examples/SparkRemoteFileTest.scala\n",
            "spark-3.2.0-bin-hadoop3.2/examples/src/main/scala/org/apache/spark/examples/ExceptionHandlingTest.scala\n",
            "spark-3.2.0-bin-hadoop3.2/examples/src/main/scala/org/apache/spark/examples/pythonconverters/\n",
            "spark-3.2.0-bin-hadoop3.2/examples/src/main/scala/org/apache/spark/examples/pythonconverters/AvroConverters.scala\n",
            "spark-3.2.0-bin-hadoop3.2/examples/src/main/scala/org/apache/spark/examples/BroadcastTest.scala\n",
            "spark-3.2.0-bin-hadoop3.2/examples/src/main/scala/org/apache/spark/examples/SparkHdfsLR.scala\n",
            "spark-3.2.0-bin-hadoop3.2/examples/src/main/scala/org/apache/spark/examples/mllib/\n",
            "spark-3.2.0-bin-hadoop3.2/examples/src/main/scala/org/apache/spark/examples/mllib/Word2VecExample.scala\n",
            "spark-3.2.0-bin-hadoop3.2/examples/src/main/scala/org/apache/spark/examples/mllib/GradientBoostedTreesRunner.scala\n",
            "spark-3.2.0-bin-hadoop3.2/examples/src/main/scala/org/apache/spark/examples/mllib/RandomRDDGeneration.scala\n",
            "spark-3.2.0-bin-hadoop3.2/examples/src/main/scala/org/apache/spark/examples/mllib/PMMLModelExportExample.scala\n",
            "spark-3.2.0-bin-hadoop3.2/examples/src/main/scala/org/apache/spark/examples/mllib/BisectingKMeansExample.scala\n",
            "spark-3.2.0-bin-hadoop3.2/examples/src/main/scala/org/apache/spark/examples/mllib/DecisionTreeRunner.scala\n",
            "spark-3.2.0-bin-hadoop3.2/examples/src/main/scala/org/apache/spark/examples/mllib/MultiLabelMetricsExample.scala\n",
            "spark-3.2.0-bin-hadoop3.2/examples/src/main/scala/org/apache/spark/examples/mllib/CorrelationsExample.scala\n",
            "spark-3.2.0-bin-hadoop3.2/examples/src/main/scala/org/apache/spark/examples/mllib/LBFGSExample.scala\n",
            "spark-3.2.0-bin-hadoop3.2/examples/src/main/scala/org/apache/spark/examples/mllib/TFIDFExample.scala\n",
            "spark-3.2.0-bin-hadoop3.2/examples/src/main/scala/org/apache/spark/examples/mllib/StandardScalerExample.scala\n",
            "spark-3.2.0-bin-hadoop3.2/examples/src/main/scala/org/apache/spark/examples/mllib/LogisticRegressionWithLBFGSExample.scala\n",
            "spark-3.2.0-bin-hadoop3.2/examples/src/main/scala/org/apache/spark/examples/mllib/StreamingTestExample.scala\n",
            "spark-3.2.0-bin-hadoop3.2/examples/src/main/scala/org/apache/spark/examples/mllib/BinaryClassification.scala\n",
            "spark-3.2.0-bin-hadoop3.2/examples/src/main/scala/org/apache/spark/examples/mllib/DenseKMeans.scala\n",
            "spark-3.2.0-bin-hadoop3.2/examples/src/main/scala/org/apache/spark/examples/mllib/GradientBoostingClassificationExample.scala\n",
            "spark-3.2.0-bin-hadoop3.2/examples/src/main/scala/org/apache/spark/examples/mllib/RankingMetricsExample.scala\n",
            "spark-3.2.0-bin-hadoop3.2/examples/src/main/scala/org/apache/spark/examples/mllib/GaussianMixtureExample.scala\n",
            "spark-3.2.0-bin-hadoop3.2/examples/src/main/scala/org/apache/spark/examples/mllib/MultivariateSummarizer.scala\n",
            "spark-3.2.0-bin-hadoop3.2/examples/src/main/scala/org/apache/spark/examples/mllib/IsotonicRegressionExample.scala\n",
            "spark-3.2.0-bin-hadoop3.2/examples/src/main/scala/org/apache/spark/examples/mllib/PCAOnSourceVectorExample.scala\n",
            "spark-3.2.0-bin-hadoop3.2/examples/src/main/scala/org/apache/spark/examples/mllib/Correlations.scala\n",
            "spark-3.2.0-bin-hadoop3.2/examples/src/main/scala/org/apache/spark/examples/mllib/HypothesisTestingExample.scala\n",
            "spark-3.2.0-bin-hadoop3.2/examples/src/main/scala/org/apache/spark/examples/mllib/DecisionTreeRegressionExample.scala\n",
            "spark-3.2.0-bin-hadoop3.2/examples/src/main/scala/org/apache/spark/examples/mllib/AssociationRulesExample.scala\n",
            "spark-3.2.0-bin-hadoop3.2/examples/src/main/scala/org/apache/spark/examples/mllib/StreamingLogisticRegression.scala\n",
            "spark-3.2.0-bin-hadoop3.2/examples/src/main/scala/org/apache/spark/examples/mllib/SVDExample.scala\n",
            "spark-3.2.0-bin-hadoop3.2/examples/src/main/scala/org/apache/spark/examples/mllib/PrefixSpanExample.scala\n",
            "spark-3.2.0-bin-hadoop3.2/examples/src/main/scala/org/apache/spark/examples/mllib/KMeansExample.scala\n",
            "spark-3.2.0-bin-hadoop3.2/examples/src/main/scala/org/apache/spark/examples/mllib/SparseNaiveBayes.scala\n",
            "spark-3.2.0-bin-hadoop3.2/examples/src/main/scala/org/apache/spark/examples/mllib/AbstractParams.scala\n",
            "spark-3.2.0-bin-hadoop3.2/examples/src/main/scala/org/apache/spark/examples/mllib/BinaryClassificationMetricsExample.scala\n",
            "spark-3.2.0-bin-hadoop3.2/examples/src/main/scala/org/apache/spark/examples/mllib/SampledRDDs.scala\n",
            "spark-3.2.0-bin-hadoop3.2/examples/src/main/scala/org/apache/spark/examples/mllib/FPGrowthExample.scala\n",
            "spark-3.2.0-bin-hadoop3.2/examples/src/main/scala/org/apache/spark/examples/mllib/ElementwiseProductExample.scala\n",
            "spark-3.2.0-bin-hadoop3.2/examples/src/main/scala/org/apache/spark/examples/mllib/RecommendationExample.scala\n",
            "spark-3.2.0-bin-hadoop3.2/examples/src/main/scala/org/apache/spark/examples/mllib/TallSkinnySVD.scala\n",
            "spark-3.2.0-bin-hadoop3.2/examples/src/main/scala/org/apache/spark/examples/mllib/HypothesisTestingKolmogorovSmirnovTestExample.scala\n",
            "spark-3.2.0-bin-hadoop3.2/examples/src/main/scala/org/apache/spark/examples/mllib/GradientBoostingRegressionExample.scala\n",
            "spark-3.2.0-bin-hadoop3.2/examples/src/main/scala/org/apache/spark/examples/mllib/StreamingKMeansExample.scala\n",
            "spark-3.2.0-bin-hadoop3.2/examples/src/main/scala/org/apache/spark/examples/mllib/CosineSimilarity.scala\n",
            "spark-3.2.0-bin-hadoop3.2/examples/src/main/scala/org/apache/spark/examples/mllib/RandomForestRegressionExample.scala\n",
            "spark-3.2.0-bin-hadoop3.2/examples/src/main/scala/org/apache/spark/examples/mllib/StreamingLinearRegressionExample.scala\n",
            "spark-3.2.0-bin-hadoop3.2/examples/src/main/scala/org/apache/spark/examples/mllib/StratifiedSamplingExample.scala\n",
            "spark-3.2.0-bin-hadoop3.2/examples/src/main/scala/org/apache/spark/examples/mllib/DecisionTreeClassificationExample.scala\n",
            "spark-3.2.0-bin-hadoop3.2/examples/src/main/scala/org/apache/spark/examples/mllib/TallSkinnyPCA.scala\n",
            "spark-3.2.0-bin-hadoop3.2/examples/src/main/scala/org/apache/spark/examples/mllib/RandomForestClassificationExample.scala\n",
            "spark-3.2.0-bin-hadoop3.2/examples/src/main/scala/org/apache/spark/examples/mllib/SimpleFPGrowth.scala\n",
            "spark-3.2.0-bin-hadoop3.2/examples/src/main/scala/org/apache/spark/examples/mllib/LatentDirichletAllocationExample.scala\n",
            "spark-3.2.0-bin-hadoop3.2/examples/src/main/scala/org/apache/spark/examples/mllib/KernelDensityEstimationExample.scala\n",
            "spark-3.2.0-bin-hadoop3.2/examples/src/main/scala/org/apache/spark/examples/mllib/PowerIterationClusteringExample.scala\n",
            "spark-3.2.0-bin-hadoop3.2/examples/src/main/scala/org/apache/spark/examples/mllib/SVMWithSGDExample.scala\n",
            "spark-3.2.0-bin-hadoop3.2/examples/src/main/scala/org/apache/spark/examples/mllib/LDAExample.scala\n",
            "spark-3.2.0-bin-hadoop3.2/examples/src/main/scala/org/apache/spark/examples/mllib/MovieLensALS.scala\n",
            "spark-3.2.0-bin-hadoop3.2/examples/src/main/scala/org/apache/spark/examples/mllib/NormalizerExample.scala\n",
            "spark-3.2.0-bin-hadoop3.2/examples/src/main/scala/org/apache/spark/examples/mllib/MulticlassMetricsExample.scala\n",
            "spark-3.2.0-bin-hadoop3.2/examples/src/main/scala/org/apache/spark/examples/mllib/ChiSqSelectorExample.scala\n",
            "spark-3.2.0-bin-hadoop3.2/examples/src/main/scala/org/apache/spark/examples/mllib/SummaryStatisticsExample.scala\n",
            "spark-3.2.0-bin-hadoop3.2/examples/src/main/scala/org/apache/spark/examples/mllib/PCAOnRowMatrixExample.scala\n",
            "spark-3.2.0-bin-hadoop3.2/examples/src/main/scala/org/apache/spark/examples/mllib/NaiveBayesExample.scala\n",
            "spark-3.2.0-bin-hadoop3.2/examples/src/main/scala/org/apache/spark/examples/SparkTC.scala\n",
            "spark-3.2.0-bin-hadoop3.2/examples/src/main/scala/org/apache/spark/examples/DriverSubmissionTest.scala\n",
            "spark-3.2.0-bin-hadoop3.2/examples/src/main/scala/org/apache/spark/examples/MultiBroadcastTest.scala\n",
            "spark-3.2.0-bin-hadoop3.2/examples/src/main/scala/org/apache/spark/examples/SparkLR.scala\n",
            "spark-3.2.0-bin-hadoop3.2/examples/src/main/scala/org/apache/spark/examples/SparkPi.scala\n",
            "spark-3.2.0-bin-hadoop3.2/examples/src/main/scala/org/apache/spark/examples/graphx/\n",
            "spark-3.2.0-bin-hadoop3.2/examples/src/main/scala/org/apache/spark/examples/graphx/ConnectedComponentsExample.scala\n",
            "spark-3.2.0-bin-hadoop3.2/examples/src/main/scala/org/apache/spark/examples/graphx/LiveJournalPageRank.scala\n",
            "spark-3.2.0-bin-hadoop3.2/examples/src/main/scala/org/apache/spark/examples/graphx/AggregateMessagesExample.scala\n",
            "spark-3.2.0-bin-hadoop3.2/examples/src/main/scala/org/apache/spark/examples/graphx/SSSPExample.scala\n",
            "spark-3.2.0-bin-hadoop3.2/examples/src/main/scala/org/apache/spark/examples/graphx/SynthBenchmark.scala\n",
            "spark-3.2.0-bin-hadoop3.2/examples/src/main/scala/org/apache/spark/examples/graphx/TriangleCountingExample.scala\n",
            "spark-3.2.0-bin-hadoop3.2/examples/src/main/scala/org/apache/spark/examples/graphx/PageRankExample.scala\n",
            "spark-3.2.0-bin-hadoop3.2/examples/src/main/scala/org/apache/spark/examples/graphx/ComprehensiveExample.scala\n",
            "spark-3.2.0-bin-hadoop3.2/examples/src/main/scala/org/apache/spark/examples/graphx/Analytics.scala\n",
            "spark-3.2.0-bin-hadoop3.2/examples/src/main/scala/org/apache/spark/examples/SparkKMeans.scala\n",
            "spark-3.2.0-bin-hadoop3.2/examples/src/main/scala/org/apache/spark/examples/streaming/\n",
            "spark-3.2.0-bin-hadoop3.2/examples/src/main/scala/org/apache/spark/examples/streaming/clickstream/\n",
            "spark-3.2.0-bin-hadoop3.2/examples/src/main/scala/org/apache/spark/examples/streaming/clickstream/PageViewGenerator.scala\n",
            "spark-3.2.0-bin-hadoop3.2/examples/src/main/scala/org/apache/spark/examples/streaming/clickstream/PageViewStream.scala\n",
            "spark-3.2.0-bin-hadoop3.2/examples/src/main/scala/org/apache/spark/examples/streaming/DirectKafkaWordCount.scala\n",
            "spark-3.2.0-bin-hadoop3.2/examples/src/main/scala/org/apache/spark/examples/streaming/HdfsWordCount.scala\n",
            "spark-3.2.0-bin-hadoop3.2/examples/src/main/scala/org/apache/spark/examples/streaming/DirectKerberizedKafkaWordCount.scala\n",
            "spark-3.2.0-bin-hadoop3.2/examples/src/main/scala/org/apache/spark/examples/streaming/RecoverableNetworkWordCount.scala\n",
            "spark-3.2.0-bin-hadoop3.2/examples/src/main/scala/org/apache/spark/examples/streaming/NetworkWordCount.scala\n",
            "spark-3.2.0-bin-hadoop3.2/examples/src/main/scala/org/apache/spark/examples/streaming/QueueStream.scala\n",
            "spark-3.2.0-bin-hadoop3.2/examples/src/main/scala/org/apache/spark/examples/streaming/SqlNetworkWordCount.scala\n",
            "spark-3.2.0-bin-hadoop3.2/examples/src/main/scala/org/apache/spark/examples/streaming/CustomReceiver.scala\n",
            "spark-3.2.0-bin-hadoop3.2/examples/src/main/scala/org/apache/spark/examples/streaming/RawNetworkGrep.scala\n",
            "spark-3.2.0-bin-hadoop3.2/examples/src/main/scala/org/apache/spark/examples/streaming/StatefulNetworkWordCount.scala\n",
            "spark-3.2.0-bin-hadoop3.2/examples/src/main/scala/org/apache/spark/examples/streaming/StreamingExamples.scala\n",
            "spark-3.2.0-bin-hadoop3.2/examples/src/main/scala/org/apache/spark/examples/LocalLR.scala\n",
            "spark-3.2.0-bin-hadoop3.2/examples/src/main/scala/org/apache/spark/examples/LocalKMeans.scala\n",
            "spark-3.2.0-bin-hadoop3.2/examples/src/main/scala/org/apache/spark/examples/GroupByTest.scala\n",
            "spark-3.2.0-bin-hadoop3.2/examples/src/main/scala/org/apache/spark/examples/LocalALS.scala\n",
            "spark-3.2.0-bin-hadoop3.2/examples/src/main/scala/org/apache/spark/examples/sql/\n",
            "spark-3.2.0-bin-hadoop3.2/examples/src/main/scala/org/apache/spark/examples/sql/SimpleTypedAggregator.scala\n",
            "spark-3.2.0-bin-hadoop3.2/examples/src/main/scala/org/apache/spark/examples/sql/UserDefinedUntypedAggregation.scala\n",
            "spark-3.2.0-bin-hadoop3.2/examples/src/main/scala/org/apache/spark/examples/sql/hive/\n",
            "spark-3.2.0-bin-hadoop3.2/examples/src/main/scala/org/apache/spark/examples/sql/hive/SparkHiveExample.scala\n",
            "spark-3.2.0-bin-hadoop3.2/examples/src/main/scala/org/apache/spark/examples/sql/RDDRelation.scala\n",
            "spark-3.2.0-bin-hadoop3.2/examples/src/main/scala/org/apache/spark/examples/sql/SparkSQLExample.scala\n",
            "spark-3.2.0-bin-hadoop3.2/examples/src/main/scala/org/apache/spark/examples/sql/SQLDataSourceExample.scala\n",
            "spark-3.2.0-bin-hadoop3.2/examples/src/main/scala/org/apache/spark/examples/sql/streaming/\n",
            "spark-3.2.0-bin-hadoop3.2/examples/src/main/scala/org/apache/spark/examples/sql/streaming/StructuredKerberizedKafkaWordCount.scala\n",
            "spark-3.2.0-bin-hadoop3.2/examples/src/main/scala/org/apache/spark/examples/sql/streaming/StructuredComplexSessionization.scala\n",
            "spark-3.2.0-bin-hadoop3.2/examples/src/main/scala/org/apache/spark/examples/sql/streaming/StructuredNetworkWordCount.scala\n",
            "spark-3.2.0-bin-hadoop3.2/examples/src/main/scala/org/apache/spark/examples/sql/streaming/StructuredNetworkWordCountWindowed.scala\n",
            "spark-3.2.0-bin-hadoop3.2/examples/src/main/scala/org/apache/spark/examples/sql/streaming/StructuredKafkaWordCount.scala\n",
            "spark-3.2.0-bin-hadoop3.2/examples/src/main/scala/org/apache/spark/examples/sql/streaming/StructuredSessionization.scala\n",
            "spark-3.2.0-bin-hadoop3.2/examples/src/main/scala/org/apache/spark/examples/sql/UserDefinedTypedAggregation.scala\n",
            "spark-3.2.0-bin-hadoop3.2/examples/src/main/scala/org/apache/spark/examples/sql/UserDefinedScalar.scala\n",
            "spark-3.2.0-bin-hadoop3.2/examples/src/main/scala/org/apache/spark/examples/sql/jdbc/\n",
            "spark-3.2.0-bin-hadoop3.2/examples/src/main/scala/org/apache/spark/examples/sql/jdbc/ExampleJdbcConnectionProvider.scala\n",
            "spark-3.2.0-bin-hadoop3.2/examples/src/main/scala/org/apache/spark/examples/SimpleSkewedGroupByTest.scala\n",
            "spark-3.2.0-bin-hadoop3.2/examples/src/main/scala/org/apache/spark/examples/extensions/\n",
            "spark-3.2.0-bin-hadoop3.2/examples/src/main/scala/org/apache/spark/examples/extensions/SparkSessionExtensionsTest.scala\n",
            "spark-3.2.0-bin-hadoop3.2/examples/src/main/scala/org/apache/spark/examples/extensions/SessionExtensionsWithoutLoader.scala\n",
            "spark-3.2.0-bin-hadoop3.2/examples/src/main/scala/org/apache/spark/examples/extensions/SessionExtensionsWithLoader.scala\n",
            "spark-3.2.0-bin-hadoop3.2/examples/src/main/scala/org/apache/spark/examples/extensions/AgeExample.scala\n",
            "spark-3.2.0-bin-hadoop3.2/examples/src/main/scala/org/apache/spark/examples/LocalFileLR.scala\n",
            "spark-3.2.0-bin-hadoop3.2/examples/src/main/scala/org/apache/spark/examples/LocalPi.scala\n",
            "spark-3.2.0-bin-hadoop3.2/examples/src/main/scala/org/apache/spark/examples/DFSReadWriteTest.scala\n",
            "spark-3.2.0-bin-hadoop3.2/examples/src/main/scala/org/apache/spark/examples/SparkALS.scala\n",
            "spark-3.2.0-bin-hadoop3.2/examples/src/main/resources/\n",
            "spark-3.2.0-bin-hadoop3.2/examples/src/main/resources/people.json\n",
            "spark-3.2.0-bin-hadoop3.2/examples/src/main/resources/users.avro\n",
            "spark-3.2.0-bin-hadoop3.2/examples/src/main/resources/people.csv\n",
            "spark-3.2.0-bin-hadoop3.2/examples/src/main/resources/users.parquet\n",
            "spark-3.2.0-bin-hadoop3.2/examples/src/main/resources/META-INF/\n",
            "spark-3.2.0-bin-hadoop3.2/examples/src/main/resources/META-INF/services/\n",
            "spark-3.2.0-bin-hadoop3.2/examples/src/main/resources/META-INF/services/org.apache.spark.sql.SparkSessionExtensionsProvider\n",
            "spark-3.2.0-bin-hadoop3.2/examples/src/main/resources/META-INF/services/org.apache.spark.sql.jdbc.JdbcConnectionProvider\n",
            "spark-3.2.0-bin-hadoop3.2/examples/src/main/resources/users.orc\n",
            "spark-3.2.0-bin-hadoop3.2/examples/src/main/resources/dir1/\n",
            "spark-3.2.0-bin-hadoop3.2/examples/src/main/resources/dir1/file1.parquet\n",
            "spark-3.2.0-bin-hadoop3.2/examples/src/main/resources/dir1/dir2/\n",
            "spark-3.2.0-bin-hadoop3.2/examples/src/main/resources/dir1/dir2/file2.parquet\n",
            "spark-3.2.0-bin-hadoop3.2/examples/src/main/resources/dir1/file3.json\n",
            "spark-3.2.0-bin-hadoop3.2/examples/src/main/resources/user.avsc\n",
            "spark-3.2.0-bin-hadoop3.2/examples/src/main/resources/full_user.avsc\n",
            "spark-3.2.0-bin-hadoop3.2/examples/src/main/resources/kv1.txt\n",
            "spark-3.2.0-bin-hadoop3.2/examples/src/main/resources/people.txt\n",
            "spark-3.2.0-bin-hadoop3.2/examples/src/main/resources/employees.json\n",
            "spark-3.2.0-bin-hadoop3.2/examples/src/main/java/\n",
            "spark-3.2.0-bin-hadoop3.2/examples/src/main/java/org/\n",
            "spark-3.2.0-bin-hadoop3.2/examples/src/main/java/org/apache/\n",
            "spark-3.2.0-bin-hadoop3.2/examples/src/main/java/org/apache/spark/\n",
            "spark-3.2.0-bin-hadoop3.2/examples/src/main/java/org/apache/spark/examples/\n",
            "spark-3.2.0-bin-hadoop3.2/examples/src/main/java/org/apache/spark/examples/ml/\n",
            "spark-3.2.0-bin-hadoop3.2/examples/src/main/java/org/apache/spark/examples/ml/JavaStringIndexerExample.java\n",
            "spark-3.2.0-bin-hadoop3.2/examples/src/main/java/org/apache/spark/examples/ml/JavaChiSqSelectorExample.java\n",
            "spark-3.2.0-bin-hadoop3.2/examples/src/main/java/org/apache/spark/examples/ml/JavaLabeledDocument.java\n",
            "spark-3.2.0-bin-hadoop3.2/examples/src/main/java/org/apache/spark/examples/ml/JavaLogisticRegressionWithElasticNetExample.java\n",
            "spark-3.2.0-bin-hadoop3.2/examples/src/main/java/org/apache/spark/examples/ml/JavaPolynomialExpansionExample.java\n",
            "spark-3.2.0-bin-hadoop3.2/examples/src/main/java/org/apache/spark/examples/ml/JavaTfIdfExample.java\n",
            "spark-3.2.0-bin-hadoop3.2/examples/src/main/java/org/apache/spark/examples/ml/JavaBucketizerExample.java\n",
            "spark-3.2.0-bin-hadoop3.2/examples/src/main/java/org/apache/spark/examples/ml/JavaLogisticRegressionSummaryExample.java\n",
            "spark-3.2.0-bin-hadoop3.2/examples/src/main/java/org/apache/spark/examples/ml/JavaSummarizerExample.java\n",
            "spark-3.2.0-bin-hadoop3.2/examples/src/main/java/org/apache/spark/examples/ml/JavaQuantileDiscretizerExample.java\n",
            "spark-3.2.0-bin-hadoop3.2/examples/src/main/java/org/apache/spark/examples/ml/JavaBinarizerExample.java\n",
            "spark-3.2.0-bin-hadoop3.2/examples/src/main/java/org/apache/spark/examples/ml/JavaOneHotEncoderExample.java\n",
            "spark-3.2.0-bin-hadoop3.2/examples/src/main/java/org/apache/spark/examples/ml/JavaStandardScalerExample.java\n",
            "spark-3.2.0-bin-hadoop3.2/examples/src/main/java/org/apache/spark/examples/ml/JavaDCTExample.java\n",
            "spark-3.2.0-bin-hadoop3.2/examples/src/main/java/org/apache/spark/examples/ml/JavaDecisionTreeRegressionExample.java\n",
            "spark-3.2.0-bin-hadoop3.2/examples/src/main/java/org/apache/spark/examples/ml/JavaRandomForestClassifierExample.java\n",
            "spark-3.2.0-bin-hadoop3.2/examples/src/main/java/org/apache/spark/examples/ml/JavaOneVsRestExample.java\n",
            "spark-3.2.0-bin-hadoop3.2/examples/src/main/java/org/apache/spark/examples/ml/JavaGeneralizedLinearRegressionExample.java\n",
            "spark-3.2.0-bin-hadoop3.2/examples/src/main/java/org/apache/spark/examples/ml/JavaGaussianMixtureExample.java\n",
            "spark-3.2.0-bin-hadoop3.2/examples/src/main/java/org/apache/spark/examples/ml/JavaWord2VecExample.java\n",
            "spark-3.2.0-bin-hadoop3.2/examples/src/main/java/org/apache/spark/examples/ml/JavaNormalizerExample.java\n",
            "spark-3.2.0-bin-hadoop3.2/examples/src/main/java/org/apache/spark/examples/ml/JavaLDAExample.java\n",
            "spark-3.2.0-bin-hadoop3.2/examples/src/main/java/org/apache/spark/examples/ml/JavaCountVectorizerExample.java\n",
            "spark-3.2.0-bin-hadoop3.2/examples/src/main/java/org/apache/spark/examples/ml/JavaMultilayerPerceptronClassifierExample.java\n",
            "spark-3.2.0-bin-hadoop3.2/examples/src/main/java/org/apache/spark/examples/ml/JavaMinMaxScalerExample.java\n",
            "spark-3.2.0-bin-hadoop3.2/examples/src/main/java/org/apache/spark/examples/ml/JavaCorrelationExample.java\n",
            "spark-3.2.0-bin-hadoop3.2/examples/src/main/java/org/apache/spark/examples/ml/JavaNGramExample.java\n",
            "spark-3.2.0-bin-hadoop3.2/examples/src/main/java/org/apache/spark/examples/ml/JavaImputerExample.java\n",
            "spark-3.2.0-bin-hadoop3.2/examples/src/main/java/org/apache/spark/examples/ml/JavaMinHashLSHExample.java\n",
            "spark-3.2.0-bin-hadoop3.2/examples/src/main/java/org/apache/spark/examples/ml/JavaVectorSizeHintExample.java\n",
            "spark-3.2.0-bin-hadoop3.2/examples/src/main/java/org/apache/spark/examples/ml/JavaFMClassifierExample.java\n",
            "spark-3.2.0-bin-hadoop3.2/examples/src/main/java/org/apache/spark/examples/ml/JavaFeatureHasherExample.java\n",
            "spark-3.2.0-bin-hadoop3.2/examples/src/main/java/org/apache/spark/examples/ml/JavaModelSelectionViaTrainValidationSplitExample.java\n",
            "spark-3.2.0-bin-hadoop3.2/examples/src/main/java/org/apache/spark/examples/ml/JavaSQLTransformerExample.java\n",
            "spark-3.2.0-bin-hadoop3.2/examples/src/main/java/org/apache/spark/examples/ml/JavaKMeansExample.java\n",
            "spark-3.2.0-bin-hadoop3.2/examples/src/main/java/org/apache/spark/examples/ml/JavaVectorAssemblerExample.java\n",
            "spark-3.2.0-bin-hadoop3.2/examples/src/main/java/org/apache/spark/examples/ml/JavaGradientBoostedTreeRegressorExample.java\n",
            "spark-3.2.0-bin-hadoop3.2/examples/src/main/java/org/apache/spark/examples/ml/JavaPrefixSpanExample.java\n",
            "spark-3.2.0-bin-hadoop3.2/examples/src/main/java/org/apache/spark/examples/ml/JavaFMRegressorExample.java\n",
            "spark-3.2.0-bin-hadoop3.2/examples/src/main/java/org/apache/spark/examples/ml/JavaNaiveBayesExample.java\n",
            "spark-3.2.0-bin-hadoop3.2/examples/src/main/java/org/apache/spark/examples/ml/JavaMulticlassLogisticRegressionWithElasticNetExample.java\n",
            "spark-3.2.0-bin-hadoop3.2/examples/src/main/java/org/apache/spark/examples/ml/JavaModelSelectionViaCrossValidationExample.java\n",
            "spark-3.2.0-bin-hadoop3.2/examples/src/main/java/org/apache/spark/examples/ml/JavaDocument.java\n",
            "spark-3.2.0-bin-hadoop3.2/examples/src/main/java/org/apache/spark/examples/ml/JavaUnivariateFeatureSelectorExample.java\n",
            "spark-3.2.0-bin-hadoop3.2/examples/src/main/java/org/apache/spark/examples/ml/JavaGradientBoostedTreeClassifierExample.java\n",
            "spark-3.2.0-bin-hadoop3.2/examples/src/main/java/org/apache/spark/examples/ml/JavaRandomForestRegressorExample.java\n",
            "spark-3.2.0-bin-hadoop3.2/examples/src/main/java/org/apache/spark/examples/ml/JavaAFTSurvivalRegressionExample.java\n",
            "spark-3.2.0-bin-hadoop3.2/examples/src/main/java/org/apache/spark/examples/ml/JavaIsotonicRegressionExample.java\n",
            "spark-3.2.0-bin-hadoop3.2/examples/src/main/java/org/apache/spark/examples/ml/JavaElementwiseProductExample.java\n",
            "spark-3.2.0-bin-hadoop3.2/examples/src/main/java/org/apache/spark/examples/ml/JavaALSExample.java\n",
            "spark-3.2.0-bin-hadoop3.2/examples/src/main/java/org/apache/spark/examples/ml/JavaBucketedRandomProjectionLSHExample.java\n",
            "spark-3.2.0-bin-hadoop3.2/examples/src/main/java/org/apache/spark/examples/ml/JavaVarianceThresholdSelectorExample.java\n",
            "spark-3.2.0-bin-hadoop3.2/examples/src/main/java/org/apache/spark/examples/ml/JavaVectorSlicerExample.java\n",
            "spark-3.2.0-bin-hadoop3.2/examples/src/main/java/org/apache/spark/examples/ml/JavaTokenizerExample.java\n",
            "spark-3.2.0-bin-hadoop3.2/examples/src/main/java/org/apache/spark/examples/ml/JavaRFormulaExample.java\n",
            "spark-3.2.0-bin-hadoop3.2/examples/src/main/java/org/apache/spark/examples/ml/JavaEstimatorTransformerParamExample.java\n",
            "spark-3.2.0-bin-hadoop3.2/examples/src/main/java/org/apache/spark/examples/ml/JavaPowerIterationClusteringExample.java\n",
            "spark-3.2.0-bin-hadoop3.2/examples/src/main/java/org/apache/spark/examples/ml/JavaBisectingKMeansExample.java\n",
            "spark-3.2.0-bin-hadoop3.2/examples/src/main/java/org/apache/spark/examples/ml/JavaMaxAbsScalerExample.java\n",
            "spark-3.2.0-bin-hadoop3.2/examples/src/main/java/org/apache/spark/examples/ml/JavaDecisionTreeClassificationExample.java\n",
            "spark-3.2.0-bin-hadoop3.2/examples/src/main/java/org/apache/spark/examples/ml/JavaPCAExample.java\n",
            "spark-3.2.0-bin-hadoop3.2/examples/src/main/java/org/apache/spark/examples/ml/JavaPipelineExample.java\n",
            "spark-3.2.0-bin-hadoop3.2/examples/src/main/java/org/apache/spark/examples/ml/JavaStopWordsRemoverExample.java\n",
            "spark-3.2.0-bin-hadoop3.2/examples/src/main/java/org/apache/spark/examples/ml/JavaIndexToStringExample.java\n",
            "spark-3.2.0-bin-hadoop3.2/examples/src/main/java/org/apache/spark/examples/ml/JavaFPGrowthExample.java\n",
            "spark-3.2.0-bin-hadoop3.2/examples/src/main/java/org/apache/spark/examples/ml/JavaVectorIndexerExample.java\n",
            "spark-3.2.0-bin-hadoop3.2/examples/src/main/java/org/apache/spark/examples/ml/JavaInteractionExample.java\n",
            "spark-3.2.0-bin-hadoop3.2/examples/src/main/java/org/apache/spark/examples/ml/JavaChiSquareTestExample.java\n",
            "spark-3.2.0-bin-hadoop3.2/examples/src/main/java/org/apache/spark/examples/ml/JavaRobustScalerExample.java\n",
            "spark-3.2.0-bin-hadoop3.2/examples/src/main/java/org/apache/spark/examples/ml/JavaLinearRegressionWithElasticNetExample.java\n",
            "spark-3.2.0-bin-hadoop3.2/examples/src/main/java/org/apache/spark/examples/ml/JavaLinearSVCExample.java\n",
            "spark-3.2.0-bin-hadoop3.2/examples/src/main/java/org/apache/spark/examples/JavaWordCount.java\n",
            "spark-3.2.0-bin-hadoop3.2/examples/src/main/java/org/apache/spark/examples/JavaHdfsLR.java\n",
            "spark-3.2.0-bin-hadoop3.2/examples/src/main/java/org/apache/spark/examples/JavaStatusTrackerDemo.java\n",
            "spark-3.2.0-bin-hadoop3.2/examples/src/main/java/org/apache/spark/examples/mllib/\n",
            "spark-3.2.0-bin-hadoop3.2/examples/src/main/java/org/apache/spark/examples/mllib/JavaChiSqSelectorExample.java\n",
            "spark-3.2.0-bin-hadoop3.2/examples/src/main/java/org/apache/spark/examples/mllib/JavaHypothesisTestingKolmogorovSmirnovTestExample.java\n",
            "spark-3.2.0-bin-hadoop3.2/examples/src/main/java/org/apache/spark/examples/mllib/JavaRandomForestRegressionExample.java\n",
            "spark-3.2.0-bin-hadoop3.2/examples/src/main/java/org/apache/spark/examples/mllib/JavaSimpleFPGrowth.java\n",
            "spark-3.2.0-bin-hadoop3.2/examples/src/main/java/org/apache/spark/examples/mllib/JavaRandomForestClassificationExample.java\n",
            "spark-3.2.0-bin-hadoop3.2/examples/src/main/java/org/apache/spark/examples/mllib/JavaMulticlassClassificationMetricsExample.java\n",
            "spark-3.2.0-bin-hadoop3.2/examples/src/main/java/org/apache/spark/examples/mllib/JavaKernelDensityEstimationExample.java\n",
            "spark-3.2.0-bin-hadoop3.2/examples/src/main/java/org/apache/spark/examples/mllib/JavaSummaryStatisticsExample.java\n",
            "spark-3.2.0-bin-hadoop3.2/examples/src/main/java/org/apache/spark/examples/mllib/JavaDecisionTreeRegressionExample.java\n",
            "spark-3.2.0-bin-hadoop3.2/examples/src/main/java/org/apache/spark/examples/mllib/JavaGradientBoostingClassificationExample.java\n",
            "spark-3.2.0-bin-hadoop3.2/examples/src/main/java/org/apache/spark/examples/mllib/JavaGaussianMixtureExample.java\n",
            "spark-3.2.0-bin-hadoop3.2/examples/src/main/java/org/apache/spark/examples/mllib/JavaStratifiedSamplingExample.java\n",
            "spark-3.2.0-bin-hadoop3.2/examples/src/main/java/org/apache/spark/examples/mllib/JavaSVDExample.java\n",
            "spark-3.2.0-bin-hadoop3.2/examples/src/main/java/org/apache/spark/examples/mllib/JavaAssociationRulesExample.java\n",
            "spark-3.2.0-bin-hadoop3.2/examples/src/main/java/org/apache/spark/examples/mllib/JavaALS.java\n",
            "spark-3.2.0-bin-hadoop3.2/examples/src/main/java/org/apache/spark/examples/mllib/JavaKMeansExample.java\n",
            "spark-3.2.0-bin-hadoop3.2/examples/src/main/java/org/apache/spark/examples/mllib/JavaSVMWithSGDExample.java\n",
            "spark-3.2.0-bin-hadoop3.2/examples/src/main/java/org/apache/spark/examples/mllib/JavaPrefixSpanExample.java\n",
            "spark-3.2.0-bin-hadoop3.2/examples/src/main/java/org/apache/spark/examples/mllib/JavaNaiveBayesExample.java\n",
            "spark-3.2.0-bin-hadoop3.2/examples/src/main/java/org/apache/spark/examples/mllib/JavaLogisticRegressionWithLBFGSExample.java\n",
            "spark-3.2.0-bin-hadoop3.2/examples/src/main/java/org/apache/spark/examples/mllib/JavaLBFGSExample.java\n",
            "spark-3.2.0-bin-hadoop3.2/examples/src/main/java/org/apache/spark/examples/mllib/JavaGradientBoostingRegressionExample.java\n",
            "spark-3.2.0-bin-hadoop3.2/examples/src/main/java/org/apache/spark/examples/mllib/JavaRankingMetricsExample.java\n",
            "spark-3.2.0-bin-hadoop3.2/examples/src/main/java/org/apache/spark/examples/mllib/JavaIsotonicRegressionExample.java\n",
            "spark-3.2.0-bin-hadoop3.2/examples/src/main/java/org/apache/spark/examples/mllib/JavaElementwiseProductExample.java\n",
            "spark-3.2.0-bin-hadoop3.2/examples/src/main/java/org/apache/spark/examples/mllib/JavaCorrelationsExample.java\n",
            "spark-3.2.0-bin-hadoop3.2/examples/src/main/java/org/apache/spark/examples/mllib/JavaPowerIterationClusteringExample.java\n",
            "spark-3.2.0-bin-hadoop3.2/examples/src/main/java/org/apache/spark/examples/mllib/JavaBisectingKMeansExample.java\n",
            "spark-3.2.0-bin-hadoop3.2/examples/src/main/java/org/apache/spark/examples/mllib/JavaDecisionTreeClassificationExample.java\n",
            "spark-3.2.0-bin-hadoop3.2/examples/src/main/java/org/apache/spark/examples/mllib/JavaPCAExample.java\n",
            "spark-3.2.0-bin-hadoop3.2/examples/src/main/java/org/apache/spark/examples/mllib/JavaRecommendationExample.java\n",
            "spark-3.2.0-bin-hadoop3.2/examples/src/main/java/org/apache/spark/examples/mllib/JavaLatentDirichletAllocationExample.java\n",
            "spark-3.2.0-bin-hadoop3.2/examples/src/main/java/org/apache/spark/examples/mllib/JavaHypothesisTestingExample.java\n",
            "spark-3.2.0-bin-hadoop3.2/examples/src/main/java/org/apache/spark/examples/mllib/JavaMultiLabelClassificationMetricsExample.java\n",
            "spark-3.2.0-bin-hadoop3.2/examples/src/main/java/org/apache/spark/examples/mllib/JavaBinaryClassificationMetricsExample.java\n",
            "spark-3.2.0-bin-hadoop3.2/examples/src/main/java/org/apache/spark/examples/mllib/JavaStreamingTestExample.java\n",
            "spark-3.2.0-bin-hadoop3.2/examples/src/main/java/org/apache/spark/examples/JavaPageRank.java\n",
            "spark-3.2.0-bin-hadoop3.2/examples/src/main/java/org/apache/spark/examples/JavaLogQuery.java\n",
            "spark-3.2.0-bin-hadoop3.2/examples/src/main/java/org/apache/spark/examples/streaming/\n",
            "spark-3.2.0-bin-hadoop3.2/examples/src/main/java/org/apache/spark/examples/streaming/JavaStatefulNetworkWordCount.java\n",
            "spark-3.2.0-bin-hadoop3.2/examples/src/main/java/org/apache/spark/examples/streaming/JavaCustomReceiver.java\n",
            "spark-3.2.0-bin-hadoop3.2/examples/src/main/java/org/apache/spark/examples/streaming/JavaRecord.java\n",
            "spark-3.2.0-bin-hadoop3.2/examples/src/main/java/org/apache/spark/examples/streaming/JavaNetworkWordCount.java\n",
            "spark-3.2.0-bin-hadoop3.2/examples/src/main/java/org/apache/spark/examples/streaming/JavaDirectKerberizedKafkaWordCount.java\n",
            "spark-3.2.0-bin-hadoop3.2/examples/src/main/java/org/apache/spark/examples/streaming/JavaDirectKafkaWordCount.java\n",
            "spark-3.2.0-bin-hadoop3.2/examples/src/main/java/org/apache/spark/examples/streaming/JavaSqlNetworkWordCount.java\n",
            "spark-3.2.0-bin-hadoop3.2/examples/src/main/java/org/apache/spark/examples/streaming/JavaRecoverableNetworkWordCount.java\n",
            "spark-3.2.0-bin-hadoop3.2/examples/src/main/java/org/apache/spark/examples/streaming/JavaQueueStream.java\n",
            "spark-3.2.0-bin-hadoop3.2/examples/src/main/java/org/apache/spark/examples/JavaSparkPi.java\n",
            "spark-3.2.0-bin-hadoop3.2/examples/src/main/java/org/apache/spark/examples/sql/\n",
            "spark-3.2.0-bin-hadoop3.2/examples/src/main/java/org/apache/spark/examples/sql/JavaUserDefinedScalar.java\n",
            "spark-3.2.0-bin-hadoop3.2/examples/src/main/java/org/apache/spark/examples/sql/hive/\n",
            "spark-3.2.0-bin-hadoop3.2/examples/src/main/java/org/apache/spark/examples/sql/hive/JavaSparkHiveExample.java\n",
            "spark-3.2.0-bin-hadoop3.2/examples/src/main/java/org/apache/spark/examples/sql/JavaUserDefinedTypedAggregation.java\n",
            "spark-3.2.0-bin-hadoop3.2/examples/src/main/java/org/apache/spark/examples/sql/JavaSQLDataSourceExample.java\n",
            "spark-3.2.0-bin-hadoop3.2/examples/src/main/java/org/apache/spark/examples/sql/JavaSparkSQLExample.java\n",
            "spark-3.2.0-bin-hadoop3.2/examples/src/main/java/org/apache/spark/examples/sql/JavaUserDefinedUntypedAggregation.java\n",
            "spark-3.2.0-bin-hadoop3.2/examples/src/main/java/org/apache/spark/examples/sql/streaming/\n",
            "spark-3.2.0-bin-hadoop3.2/examples/src/main/java/org/apache/spark/examples/sql/streaming/JavaStructuredKafkaWordCount.java\n",
            "spark-3.2.0-bin-hadoop3.2/examples/src/main/java/org/apache/spark/examples/sql/streaming/JavaStructuredComplexSessionization.java\n",
            "spark-3.2.0-bin-hadoop3.2/examples/src/main/java/org/apache/spark/examples/sql/streaming/JavaStructuredNetworkWordCountWindowed.java\n",
            "spark-3.2.0-bin-hadoop3.2/examples/src/main/java/org/apache/spark/examples/sql/streaming/JavaStructuredSessionization.java\n",
            "spark-3.2.0-bin-hadoop3.2/examples/src/main/java/org/apache/spark/examples/sql/streaming/JavaStructuredNetworkWordCount.java\n",
            "spark-3.2.0-bin-hadoop3.2/examples/src/main/java/org/apache/spark/examples/sql/streaming/JavaStructuredKerberizedKafkaWordCount.java\n",
            "spark-3.2.0-bin-hadoop3.2/examples/src/main/java/org/apache/spark/examples/JavaTC.java\n",
            "spark-3.2.0-bin-hadoop3.2/examples/src/main/scripts/\n",
            "spark-3.2.0-bin-hadoop3.2/examples/src/main/scripts/getGpusResources.sh\n",
            "spark-3.2.0-bin-hadoop3.2/examples/src/main/python/\n",
            "spark-3.2.0-bin-hadoop3.2/examples/src/main/python/kmeans.py\n",
            "spark-3.2.0-bin-hadoop3.2/examples/src/main/python/ml/\n",
            "spark-3.2.0-bin-hadoop3.2/examples/src/main/python/ml/dct_example.py\n",
            "spark-3.2.0-bin-hadoop3.2/examples/src/main/python/ml/count_vectorizer_example.py\n",
            "spark-3.2.0-bin-hadoop3.2/examples/src/main/python/ml/chisq_selector_example.py\n",
            "spark-3.2.0-bin-hadoop3.2/examples/src/main/python/ml/gradient_boosted_tree_regressor_example.py\n",
            "spark-3.2.0-bin-hadoop3.2/examples/src/main/python/ml/tf_idf_example.py\n",
            "spark-3.2.0-bin-hadoop3.2/examples/src/main/python/ml/cross_validator.py\n",
            "spark-3.2.0-bin-hadoop3.2/examples/src/main/python/ml/linear_regression_with_elastic_net.py\n",
            "spark-3.2.0-bin-hadoop3.2/examples/src/main/python/ml/normalizer_example.py\n",
            "spark-3.2.0-bin-hadoop3.2/examples/src/main/python/ml/fm_regressor_example.py\n",
            "spark-3.2.0-bin-hadoop3.2/examples/src/main/python/ml/univariate_feature_selector_example.py\n",
            "spark-3.2.0-bin-hadoop3.2/examples/src/main/python/ml/polynomial_expansion_example.py\n",
            "spark-3.2.0-bin-hadoop3.2/examples/src/main/python/ml/pipeline_example.py\n",
            "spark-3.2.0-bin-hadoop3.2/examples/src/main/python/ml/generalized_linear_regression_example.py\n",
            "spark-3.2.0-bin-hadoop3.2/examples/src/main/python/ml/multilayer_perceptron_classification.py\n",
            "spark-3.2.0-bin-hadoop3.2/examples/src/main/python/ml/bisecting_k_means_example.py\n",
            "spark-3.2.0-bin-hadoop3.2/examples/src/main/python/ml/chi_square_test_example.py\n",
            "spark-3.2.0-bin-hadoop3.2/examples/src/main/python/ml/train_validation_split.py\n",
            "spark-3.2.0-bin-hadoop3.2/examples/src/main/python/ml/stopwords_remover_example.py\n",
            "spark-3.2.0-bin-hadoop3.2/examples/src/main/python/ml/linearsvc.py\n",
            "spark-3.2.0-bin-hadoop3.2/examples/src/main/python/ml/lda_example.py\n",
            "spark-3.2.0-bin-hadoop3.2/examples/src/main/python/ml/random_forest_regressor_example.py\n",
            "spark-3.2.0-bin-hadoop3.2/examples/src/main/python/ml/vector_assembler_example.py\n",
            "spark-3.2.0-bin-hadoop3.2/examples/src/main/python/ml/word2vec_example.py\n",
            "spark-3.2.0-bin-hadoop3.2/examples/src/main/python/ml/string_indexer_example.py\n",
            "spark-3.2.0-bin-hadoop3.2/examples/src/main/python/ml/decision_tree_classification_example.py\n",
            "spark-3.2.0-bin-hadoop3.2/examples/src/main/python/ml/index_to_string_example.py\n",
            "spark-3.2.0-bin-hadoop3.2/examples/src/main/python/ml/bucketizer_example.py\n",
            "spark-3.2.0-bin-hadoop3.2/examples/src/main/python/ml/vector_size_hint_example.py\n",
            "spark-3.2.0-bin-hadoop3.2/examples/src/main/python/ml/vector_indexer_example.py\n",
            "spark-3.2.0-bin-hadoop3.2/examples/src/main/python/ml/tokenizer_example.py\n",
            "spark-3.2.0-bin-hadoop3.2/examples/src/main/python/ml/robust_scaler_example.py\n",
            "spark-3.2.0-bin-hadoop3.2/examples/src/main/python/ml/standard_scaler_example.py\n",
            "spark-3.2.0-bin-hadoop3.2/examples/src/main/python/ml/kmeans_example.py\n",
            "spark-3.2.0-bin-hadoop3.2/examples/src/main/python/ml/power_iteration_clustering_example.py\n",
            "spark-3.2.0-bin-hadoop3.2/examples/src/main/python/ml/naive_bayes_example.py\n",
            "spark-3.2.0-bin-hadoop3.2/examples/src/main/python/ml/pca_example.py\n",
            "spark-3.2.0-bin-hadoop3.2/examples/src/main/python/ml/aft_survival_regression.py\n",
            "spark-3.2.0-bin-hadoop3.2/examples/src/main/python/ml/min_max_scaler_example.py\n",
            "spark-3.2.0-bin-hadoop3.2/examples/src/main/python/ml/elementwise_product_example.py\n",
            "spark-3.2.0-bin-hadoop3.2/examples/src/main/python/ml/dataframe_example.py\n",
            "spark-3.2.0-bin-hadoop3.2/examples/src/main/python/ml/n_gram_example.py\n",
            "spark-3.2.0-bin-hadoop3.2/examples/src/main/python/ml/rformula_example.py\n",
            "spark-3.2.0-bin-hadoop3.2/examples/src/main/python/ml/one_vs_rest_example.py\n",
            "spark-3.2.0-bin-hadoop3.2/examples/src/main/python/ml/als_example.py\n",
            "spark-3.2.0-bin-hadoop3.2/examples/src/main/python/ml/onehot_encoder_example.py\n",
            "spark-3.2.0-bin-hadoop3.2/examples/src/main/python/ml/vector_slicer_example.py\n",
            "spark-3.2.0-bin-hadoop3.2/examples/src/main/python/ml/logistic_regression_with_elastic_net.py\n",
            "spark-3.2.0-bin-hadoop3.2/examples/src/main/python/ml/sql_transformer.py\n",
            "spark-3.2.0-bin-hadoop3.2/examples/src/main/python/ml/multiclass_logistic_regression_with_elastic_net.py\n",
            "spark-3.2.0-bin-hadoop3.2/examples/src/main/python/ml/summarizer_example.py\n",
            "spark-3.2.0-bin-hadoop3.2/examples/src/main/python/ml/quantile_discretizer_example.py\n",
            "spark-3.2.0-bin-hadoop3.2/examples/src/main/python/ml/feature_hasher_example.py\n",
            "spark-3.2.0-bin-hadoop3.2/examples/src/main/python/ml/imputer_example.py\n",
            "spark-3.2.0-bin-hadoop3.2/examples/src/main/python/ml/bucketed_random_projection_lsh_example.py\n",
            "spark-3.2.0-bin-hadoop3.2/examples/src/main/python/ml/estimator_transformer_param_example.py\n",
            "spark-3.2.0-bin-hadoop3.2/examples/src/main/python/ml/gradient_boosted_tree_classifier_example.py\n",
            "spark-3.2.0-bin-hadoop3.2/examples/src/main/python/ml/logistic_regression_summary_example.py\n",
            "spark-3.2.0-bin-hadoop3.2/examples/src/main/python/ml/decision_tree_regression_example.py\n",
            "spark-3.2.0-bin-hadoop3.2/examples/src/main/python/ml/fm_classifier_example.py\n",
            "spark-3.2.0-bin-hadoop3.2/examples/src/main/python/ml/gaussian_mixture_example.py\n",
            "spark-3.2.0-bin-hadoop3.2/examples/src/main/python/ml/fpgrowth_example.py\n",
            "spark-3.2.0-bin-hadoop3.2/examples/src/main/python/ml/variance_threshold_selector_example.py\n",
            "spark-3.2.0-bin-hadoop3.2/examples/src/main/python/ml/random_forest_classifier_example.py\n",
            "spark-3.2.0-bin-hadoop3.2/examples/src/main/python/ml/correlation_example.py\n",
            "spark-3.2.0-bin-hadoop3.2/examples/src/main/python/ml/min_hash_lsh_example.py\n",
            "spark-3.2.0-bin-hadoop3.2/examples/src/main/python/ml/binarizer_example.py\n",
            "spark-3.2.0-bin-hadoop3.2/examples/src/main/python/ml/prefixspan_example.py\n",
            "spark-3.2.0-bin-hadoop3.2/examples/src/main/python/ml/max_abs_scaler_example.py\n",
            "spark-3.2.0-bin-hadoop3.2/examples/src/main/python/ml/isotonic_regression_example.py\n",
            "spark-3.2.0-bin-hadoop3.2/examples/src/main/python/ml/interaction_example.py\n",
            "spark-3.2.0-bin-hadoop3.2/examples/src/main/python/logistic_regression.py\n",
            "spark-3.2.0-bin-hadoop3.2/examples/src/main/python/als.py\n",
            "spark-3.2.0-bin-hadoop3.2/examples/src/main/python/mllib/\n",
            "spark-3.2.0-bin-hadoop3.2/examples/src/main/python/mllib/word2vec.py\n",
            "spark-3.2.0-bin-hadoop3.2/examples/src/main/python/mllib/correlations_example.py\n",
            "spark-3.2.0-bin-hadoop3.2/examples/src/main/python/mllib/gradient_boosting_classification_example.py\n",
            "spark-3.2.0-bin-hadoop3.2/examples/src/main/python/mllib/kernel_density_estimation_example.py\n",
            "spark-3.2.0-bin-hadoop3.2/examples/src/main/python/mllib/hypothesis_testing_example.py\n",
            "spark-3.2.0-bin-hadoop3.2/examples/src/main/python/mllib/svd_example.py\n",
            "spark-3.2.0-bin-hadoop3.2/examples/src/main/python/mllib/kmeans.py\n",
            "spark-3.2.0-bin-hadoop3.2/examples/src/main/python/mllib/latent_dirichlet_allocation_example.py\n",
            "spark-3.2.0-bin-hadoop3.2/examples/src/main/python/mllib/tf_idf_example.py\n",
            "spark-3.2.0-bin-hadoop3.2/examples/src/main/python/mllib/correlations.py\n",
            "spark-3.2.0-bin-hadoop3.2/examples/src/main/python/mllib/random_forest_regression_example.py\n",
            "spark-3.2.0-bin-hadoop3.2/examples/src/main/python/mllib/normalizer_example.py\n",
            "spark-3.2.0-bin-hadoop3.2/examples/src/main/python/mllib/logistic_regression.py\n",
            "spark-3.2.0-bin-hadoop3.2/examples/src/main/python/mllib/multi_label_metrics_example.py\n",
            "spark-3.2.0-bin-hadoop3.2/examples/src/main/python/mllib/gradient_boosting_regression_example.py\n",
            "spark-3.2.0-bin-hadoop3.2/examples/src/main/python/mllib/random_forest_classification_example.py\n",
            "spark-3.2.0-bin-hadoop3.2/examples/src/main/python/mllib/streaming_linear_regression_example.py\n",
            "spark-3.2.0-bin-hadoop3.2/examples/src/main/python/mllib/sampled_rdds.py\n",
            "spark-3.2.0-bin-hadoop3.2/examples/src/main/python/mllib/bisecting_k_means_example.py\n",
            "spark-3.2.0-bin-hadoop3.2/examples/src/main/python/mllib/logistic_regression_with_lbfgs_example.py\n",
            "spark-3.2.0-bin-hadoop3.2/examples/src/main/python/mllib/k_means_example.py\n",
            "spark-3.2.0-bin-hadoop3.2/examples/src/main/python/mllib/streaming_k_means_example.py\n",
            "spark-3.2.0-bin-hadoop3.2/examples/src/main/python/mllib/word2vec_example.py\n",
            "spark-3.2.0-bin-hadoop3.2/examples/src/main/python/mllib/multi_class_metrics_example.py\n",
            "spark-3.2.0-bin-hadoop3.2/examples/src/main/python/mllib/decision_tree_classification_example.py\n",
            "spark-3.2.0-bin-hadoop3.2/examples/src/main/python/mllib/summary_statistics_example.py\n",
            "spark-3.2.0-bin-hadoop3.2/examples/src/main/python/mllib/binary_classification_metrics_example.py\n",
            "spark-3.2.0-bin-hadoop3.2/examples/src/main/python/mllib/standard_scaler_example.py\n",
            "spark-3.2.0-bin-hadoop3.2/examples/src/main/python/mllib/power_iteration_clustering_example.py\n",
            "spark-3.2.0-bin-hadoop3.2/examples/src/main/python/mllib/gaussian_mixture_model.py\n",
            "spark-3.2.0-bin-hadoop3.2/examples/src/main/python/mllib/regression_metrics_example.py\n",
            "spark-3.2.0-bin-hadoop3.2/examples/src/main/python/mllib/naive_bayes_example.py\n",
            "spark-3.2.0-bin-hadoop3.2/examples/src/main/python/mllib/elementwise_product_example.py\n",
            "spark-3.2.0-bin-hadoop3.2/examples/src/main/python/mllib/linear_regression_with_sgd_example.py\n",
            "spark-3.2.0-bin-hadoop3.2/examples/src/main/python/mllib/pca_rowmatrix_example.py\n",
            "spark-3.2.0-bin-hadoop3.2/examples/src/main/python/mllib/hypothesis_testing_kolmogorov_smirnov_test_example.py\n",
            "spark-3.2.0-bin-hadoop3.2/examples/src/main/python/mllib/random_rdd_generation.py\n",
            "spark-3.2.0-bin-hadoop3.2/examples/src/main/python/mllib/decision_tree_regression_example.py\n",
            "spark-3.2.0-bin-hadoop3.2/examples/src/main/python/mllib/gaussian_mixture_example.py\n",
            "spark-3.2.0-bin-hadoop3.2/examples/src/main/python/mllib/recommendation_example.py\n",
            "spark-3.2.0-bin-hadoop3.2/examples/src/main/python/mllib/fpgrowth_example.py\n",
            "spark-3.2.0-bin-hadoop3.2/examples/src/main/python/mllib/ranking_metrics_example.py\n",
            "spark-3.2.0-bin-hadoop3.2/examples/src/main/python/mllib/svm_with_sgd_example.py\n",
            "spark-3.2.0-bin-hadoop3.2/examples/src/main/python/mllib/isotonic_regression_example.py\n",
            "spark-3.2.0-bin-hadoop3.2/examples/src/main/python/mllib/stratified_sampling_example.py\n",
            "spark-3.2.0-bin-hadoop3.2/examples/src/main/python/wordcount.py\n",
            "spark-3.2.0-bin-hadoop3.2/examples/src/main/python/status_api_demo.py\n",
            "spark-3.2.0-bin-hadoop3.2/examples/src/main/python/pagerank.py\n",
            "spark-3.2.0-bin-hadoop3.2/examples/src/main/python/sort.py\n",
            "spark-3.2.0-bin-hadoop3.2/examples/src/main/python/transitive_closure.py\n",
            "spark-3.2.0-bin-hadoop3.2/examples/src/main/python/avro_inputformat.py\n",
            "spark-3.2.0-bin-hadoop3.2/examples/src/main/python/pi.py\n",
            "spark-3.2.0-bin-hadoop3.2/examples/src/main/python/streaming/\n",
            "spark-3.2.0-bin-hadoop3.2/examples/src/main/python/streaming/queue_stream.py\n",
            "spark-3.2.0-bin-hadoop3.2/examples/src/main/python/streaming/stateful_network_wordcount.py\n",
            "spark-3.2.0-bin-hadoop3.2/examples/src/main/python/streaming/network_wordjoinsentiments.py\n",
            "spark-3.2.0-bin-hadoop3.2/examples/src/main/python/streaming/sql_network_wordcount.py\n",
            "spark-3.2.0-bin-hadoop3.2/examples/src/main/python/streaming/network_wordcount.py\n",
            "spark-3.2.0-bin-hadoop3.2/examples/src/main/python/streaming/hdfs_wordcount.py\n",
            "spark-3.2.0-bin-hadoop3.2/examples/src/main/python/streaming/recoverable_network_wordcount.py\n",
            "spark-3.2.0-bin-hadoop3.2/examples/src/main/python/sql/\n",
            "spark-3.2.0-bin-hadoop3.2/examples/src/main/python/sql/datasource.py\n",
            "spark-3.2.0-bin-hadoop3.2/examples/src/main/python/sql/hive.py\n",
            "spark-3.2.0-bin-hadoop3.2/examples/src/main/python/sql/arrow.py\n",
            "spark-3.2.0-bin-hadoop3.2/examples/src/main/python/sql/streaming/\n",
            "spark-3.2.0-bin-hadoop3.2/examples/src/main/python/sql/streaming/structured_network_wordcount_windowed.py\n",
            "spark-3.2.0-bin-hadoop3.2/examples/src/main/python/sql/streaming/structured_network_wordcount.py\n",
            "spark-3.2.0-bin-hadoop3.2/examples/src/main/python/sql/streaming/structured_sessionization.py\n",
            "spark-3.2.0-bin-hadoop3.2/examples/src/main/python/sql/streaming/structured_kafka_wordcount.py\n",
            "spark-3.2.0-bin-hadoop3.2/examples/src/main/python/sql/basic.py\n",
            "spark-3.2.0-bin-hadoop3.2/examples/src/main/python/parquet_inputformat.py\n",
            "spark-3.2.0-bin-hadoop3.2/examples/jars/\n",
            "spark-3.2.0-bin-hadoop3.2/examples/jars/spark-examples_2.12-3.2.0.jar\n",
            "spark-3.2.0-bin-hadoop3.2/examples/jars/scopt_2.12-3.7.1.jar\n",
            "spark-3.2.0-bin-hadoop3.2/conf/\n",
            "spark-3.2.0-bin-hadoop3.2/conf/metrics.properties.template\n",
            "spark-3.2.0-bin-hadoop3.2/conf/workers.template\n",
            "spark-3.2.0-bin-hadoop3.2/conf/fairscheduler.xml.template\n",
            "spark-3.2.0-bin-hadoop3.2/conf/log4j.properties.template\n",
            "spark-3.2.0-bin-hadoop3.2/conf/spark-defaults.conf.template\n",
            "spark-3.2.0-bin-hadoop3.2/conf/spark-env.sh.template\n",
            "spark-3.2.0-bin-hadoop3.2/bin/\n",
            "spark-3.2.0-bin-hadoop3.2/bin/sparkR.cmd\n",
            "spark-3.2.0-bin-hadoop3.2/bin/sparkR\n",
            "spark-3.2.0-bin-hadoop3.2/bin/spark-submit\n",
            "spark-3.2.0-bin-hadoop3.2/bin/pyspark2.cmd\n",
            "spark-3.2.0-bin-hadoop3.2/bin/spark-class\n",
            "spark-3.2.0-bin-hadoop3.2/bin/pyspark.cmd\n",
            "spark-3.2.0-bin-hadoop3.2/bin/spark-submit2.cmd\n",
            "spark-3.2.0-bin-hadoop3.2/bin/load-spark-env.cmd\n",
            "spark-3.2.0-bin-hadoop3.2/bin/spark-sql\n",
            "spark-3.2.0-bin-hadoop3.2/bin/docker-image-tool.sh\n",
            "spark-3.2.0-bin-hadoop3.2/bin/find-spark-home.cmd\n",
            "spark-3.2.0-bin-hadoop3.2/bin/load-spark-env.sh\n",
            "spark-3.2.0-bin-hadoop3.2/bin/pyspark\n",
            "spark-3.2.0-bin-hadoop3.2/bin/spark-shell.cmd\n",
            "spark-3.2.0-bin-hadoop3.2/bin/spark-shell2.cmd\n",
            "spark-3.2.0-bin-hadoop3.2/bin/spark-submit.cmd\n",
            "spark-3.2.0-bin-hadoop3.2/bin/beeline.cmd\n",
            "spark-3.2.0-bin-hadoop3.2/bin/find-spark-home\n",
            "spark-3.2.0-bin-hadoop3.2/bin/spark-class.cmd\n",
            "spark-3.2.0-bin-hadoop3.2/bin/sparkR2.cmd\n",
            "spark-3.2.0-bin-hadoop3.2/bin/beeline\n",
            "spark-3.2.0-bin-hadoop3.2/bin/spark-class2.cmd\n",
            "spark-3.2.0-bin-hadoop3.2/bin/spark-sql.cmd\n",
            "spark-3.2.0-bin-hadoop3.2/bin/run-example\n",
            "spark-3.2.0-bin-hadoop3.2/bin/spark-shell\n",
            "spark-3.2.0-bin-hadoop3.2/bin/run-example.cmd\n",
            "spark-3.2.0-bin-hadoop3.2/bin/spark-sql2.cmd\n",
            "spark-3.2.0-bin-hadoop3.2/python/\n",
            "spark-3.2.0-bin-hadoop3.2/python/.gitignore\n",
            "spark-3.2.0-bin-hadoop3.2/python/run-tests-with-coverage\n",
            "spark-3.2.0-bin-hadoop3.2/python/mypy.ini\n",
            "spark-3.2.0-bin-hadoop3.2/python/pylintrc\n",
            "spark-3.2.0-bin-hadoop3.2/python/MANIFEST.in\n",
            "spark-3.2.0-bin-hadoop3.2/python/README.md\n",
            "spark-3.2.0-bin-hadoop3.2/python/test_coverage/\n",
            "spark-3.2.0-bin-hadoop3.2/python/test_coverage/coverage_daemon.py\n",
            "spark-3.2.0-bin-hadoop3.2/python/test_coverage/conf/\n",
            "spark-3.2.0-bin-hadoop3.2/python/test_coverage/conf/spark-defaults.conf\n",
            "spark-3.2.0-bin-hadoop3.2/python/test_coverage/sitecustomize.py\n",
            "spark-3.2.0-bin-hadoop3.2/python/run-tests.py\n",
            "spark-3.2.0-bin-hadoop3.2/python/setup.py\n",
            "spark-3.2.0-bin-hadoop3.2/python/test_support/\n",
            "spark-3.2.0-bin-hadoop3.2/python/test_support/userlibrary.py\n",
            "spark-3.2.0-bin-hadoop3.2/python/test_support/hello/\n",
            "spark-3.2.0-bin-hadoop3.2/python/test_support/hello/sub_hello/\n",
            "spark-3.2.0-bin-hadoop3.2/python/test_support/hello/sub_hello/sub_hello.txt\n",
            "spark-3.2.0-bin-hadoop3.2/python/test_support/hello/hello.txt\n",
            "spark-3.2.0-bin-hadoop3.2/python/test_support/userlib-0.1.zip\n",
            "spark-3.2.0-bin-hadoop3.2/python/test_support/SimpleHTTPServer.py\n",
            "spark-3.2.0-bin-hadoop3.2/python/test_support/sql/\n",
            "spark-3.2.0-bin-hadoop3.2/python/test_support/sql/people.json\n",
            "spark-3.2.0-bin-hadoop3.2/python/test_support/sql/people_array.json\n",
            "spark-3.2.0-bin-hadoop3.2/python/test_support/sql/people_array_utf16le.json\n",
            "spark-3.2.0-bin-hadoop3.2/python/test_support/sql/text-test.txt\n",
            "spark-3.2.0-bin-hadoop3.2/python/test_support/sql/ages.csv\n",
            "spark-3.2.0-bin-hadoop3.2/python/test_support/sql/parquet_partitioned/\n",
            "spark-3.2.0-bin-hadoop3.2/python/test_support/sql/parquet_partitioned/year=2015/\n",
            "spark-3.2.0-bin-hadoop3.2/python/test_support/sql/parquet_partitioned/year=2015/month=10/\n",
            "spark-3.2.0-bin-hadoop3.2/python/test_support/sql/parquet_partitioned/year=2015/month=10/day=26/\n",
            "spark-3.2.0-bin-hadoop3.2/python/test_support/sql/parquet_partitioned/year=2015/month=10/day=26/.part-r-00005.gz.parquet.crc\n",
            "spark-3.2.0-bin-hadoop3.2/python/test_support/sql/parquet_partitioned/year=2015/month=10/day=26/part-r-00005.gz.parquet\n",
            "spark-3.2.0-bin-hadoop3.2/python/test_support/sql/parquet_partitioned/year=2015/month=10/day=25/\n",
            "spark-3.2.0-bin-hadoop3.2/python/test_support/sql/parquet_partitioned/year=2015/month=10/day=25/.part-r-00002.gz.parquet.crc\n",
            "spark-3.2.0-bin-hadoop3.2/python/test_support/sql/parquet_partitioned/year=2015/month=10/day=25/.part-r-00004.gz.parquet.crc\n",
            "spark-3.2.0-bin-hadoop3.2/python/test_support/sql/parquet_partitioned/year=2015/month=10/day=25/part-r-00004.gz.parquet\n",
            "spark-3.2.0-bin-hadoop3.2/python/test_support/sql/parquet_partitioned/year=2015/month=10/day=25/part-r-00002.gz.parquet\n",
            "spark-3.2.0-bin-hadoop3.2/python/test_support/sql/parquet_partitioned/year=2015/month=9/\n",
            "spark-3.2.0-bin-hadoop3.2/python/test_support/sql/parquet_partitioned/year=2015/month=9/day=1/\n",
            "spark-3.2.0-bin-hadoop3.2/python/test_support/sql/parquet_partitioned/year=2015/month=9/day=1/.part-r-00007.gz.parquet.crc\n",
            "spark-3.2.0-bin-hadoop3.2/python/test_support/sql/parquet_partitioned/year=2015/month=9/day=1/part-r-00007.gz.parquet\n",
            "spark-3.2.0-bin-hadoop3.2/python/test_support/sql/parquet_partitioned/_metadata\n",
            "spark-3.2.0-bin-hadoop3.2/python/test_support/sql/parquet_partitioned/year=2014/\n",
            "spark-3.2.0-bin-hadoop3.2/python/test_support/sql/parquet_partitioned/year=2014/month=9/\n",
            "spark-3.2.0-bin-hadoop3.2/python/test_support/sql/parquet_partitioned/year=2014/month=9/day=1/\n",
            "spark-3.2.0-bin-hadoop3.2/python/test_support/sql/parquet_partitioned/year=2014/month=9/day=1/.part-r-00008.gz.parquet.crc\n",
            "spark-3.2.0-bin-hadoop3.2/python/test_support/sql/parquet_partitioned/year=2014/month=9/day=1/part-r-00008.gz.parquet\n",
            "spark-3.2.0-bin-hadoop3.2/python/test_support/sql/parquet_partitioned/_common_metadata\n",
            "spark-3.2.0-bin-hadoop3.2/python/test_support/sql/parquet_partitioned/_SUCCESS\n",
            "spark-3.2.0-bin-hadoop3.2/python/test_support/sql/orc_partitioned/\n",
            "spark-3.2.0-bin-hadoop3.2/python/test_support/sql/orc_partitioned/b=1/\n",
            "spark-3.2.0-bin-hadoop3.2/python/test_support/sql/orc_partitioned/b=1/c=1/\n",
            "spark-3.2.0-bin-hadoop3.2/python/test_support/sql/orc_partitioned/b=1/c=1/part-r-00000-829af031-b970-49d6-ad39-30460a0be2c8.orc\n",
            "spark-3.2.0-bin-hadoop3.2/python/test_support/sql/orc_partitioned/b=1/c=1/.part-r-00000-829af031-b970-49d6-ad39-30460a0be2c8.orc.crc\n",
            "spark-3.2.0-bin-hadoop3.2/python/test_support/sql/orc_partitioned/b=0/\n",
            "spark-3.2.0-bin-hadoop3.2/python/test_support/sql/orc_partitioned/b=0/c=0/\n",
            "spark-3.2.0-bin-hadoop3.2/python/test_support/sql/orc_partitioned/b=0/c=0/part-r-00000-829af031-b970-49d6-ad39-30460a0be2c8.orc\n",
            "spark-3.2.0-bin-hadoop3.2/python/test_support/sql/orc_partitioned/b=0/c=0/.part-r-00000-829af031-b970-49d6-ad39-30460a0be2c8.orc.crc\n",
            "spark-3.2.0-bin-hadoop3.2/python/test_support/sql/orc_partitioned/_SUCCESS\n",
            "spark-3.2.0-bin-hadoop3.2/python/test_support/sql/ages_newlines.csv\n",
            "spark-3.2.0-bin-hadoop3.2/python/test_support/sql/streaming/\n",
            "spark-3.2.0-bin-hadoop3.2/python/test_support/sql/streaming/text-test.txt\n",
            "spark-3.2.0-bin-hadoop3.2/python/test_support/sql/people1.json\n",
            "spark-3.2.0-bin-hadoop3.2/python/pyspark/\n",
            "spark-3.2.0-bin-hadoop3.2/python/pyspark/tests/\n",
            "spark-3.2.0-bin-hadoop3.2/python/pyspark/tests/test_rddbarrier.py\n",
            "spark-3.2.0-bin-hadoop3.2/python/pyspark/tests/test_worker.py\n",
            "spark-3.2.0-bin-hadoop3.2/python/pyspark/tests/test_serializers.py\n",
            "spark-3.2.0-bin-hadoop3.2/python/pyspark/tests/test_util.py\n",
            "spark-3.2.0-bin-hadoop3.2/python/pyspark/tests/test_rdd.py\n",
            "spark-3.2.0-bin-hadoop3.2/python/pyspark/tests/__init__.py\n",
            "spark-3.2.0-bin-hadoop3.2/python/pyspark/tests/test_broadcast.py\n",
            "spark-3.2.0-bin-hadoop3.2/python/pyspark/tests/test_appsubmit.py\n",
            "spark-3.2.0-bin-hadoop3.2/python/pyspark/tests/test_profiler.py\n",
            "spark-3.2.0-bin-hadoop3.2/python/pyspark/tests/test_pin_thread.py\n",
            "spark-3.2.0-bin-hadoop3.2/python/pyspark/tests/test_install_spark.py\n",
            "spark-3.2.0-bin-hadoop3.2/python/pyspark/tests/test_shuffle.py\n",
            "spark-3.2.0-bin-hadoop3.2/python/pyspark/tests/test_join.py\n",
            "spark-3.2.0-bin-hadoop3.2/python/pyspark/tests/test_taskcontext.py\n",
            "spark-3.2.0-bin-hadoop3.2/python/pyspark/tests/test_context.py\n",
            "spark-3.2.0-bin-hadoop3.2/python/pyspark/tests/test_readwrite.py\n",
            "spark-3.2.0-bin-hadoop3.2/python/pyspark/tests/test_conf.py\n",
            "spark-3.2.0-bin-hadoop3.2/python/pyspark/tests/test_daemon.py\n",
            "spark-3.2.0-bin-hadoop3.2/python/pyspark/__init__.pyi\n",
            "spark-3.2.0-bin-hadoop3.2/python/pyspark/pandas/\n",
            "spark-3.2.0-bin-hadoop3.2/python/pyspark/pandas/tests/\n",
            "spark-3.2.0-bin-hadoop3.2/python/pyspark/pandas/tests/test_series.py\n",
            "spark-3.2.0-bin-hadoop3.2/python/pyspark/pandas/tests/test_utils.py\n",
            "spark-3.2.0-bin-hadoop3.2/python/pyspark/pandas/tests/test_dataframe.py\n",
            "spark-3.2.0-bin-hadoop3.2/python/pyspark/pandas/tests/indexes/\n",
            "spark-3.2.0-bin-hadoop3.2/python/pyspark/pandas/tests/indexes/__init__.py\n",
            "spark-3.2.0-bin-hadoop3.2/python/pyspark/pandas/tests/indexes/test_category.py\n",
            "spark-3.2.0-bin-hadoop3.2/python/pyspark/pandas/tests/indexes/test_datetime.py\n",
            "spark-3.2.0-bin-hadoop3.2/python/pyspark/pandas/tests/indexes/test_base.py\n",
            "spark-3.2.0-bin-hadoop3.2/python/pyspark/pandas/tests/test_window.py\n",
            "spark-3.2.0-bin-hadoop3.2/python/pyspark/pandas/tests/test_indexops_spark.py\n",
            "spark-3.2.0-bin-hadoop3.2/python/pyspark/pandas/tests/__init__.py\n",
            "spark-3.2.0-bin-hadoop3.2/python/pyspark/pandas/tests/test_stats.py\n",
            "spark-3.2.0-bin-hadoop3.2/python/pyspark/pandas/tests/test_extension.py\n",
            "spark-3.2.0-bin-hadoop3.2/python/pyspark/pandas/tests/test_default_index.py\n",
            "spark-3.2.0-bin-hadoop3.2/python/pyspark/pandas/tests/test_expanding.py\n",
            "spark-3.2.0-bin-hadoop3.2/python/pyspark/pandas/tests/test_series_datetime.py\n",
            "spark-3.2.0-bin-hadoop3.2/python/pyspark/pandas/tests/test_indexing.py\n",
            "spark-3.2.0-bin-hadoop3.2/python/pyspark/pandas/tests/test_typedef.py\n",
            "spark-3.2.0-bin-hadoop3.2/python/pyspark/pandas/tests/test_numpy_compat.py\n",
            "spark-3.2.0-bin-hadoop3.2/python/pyspark/pandas/tests/test_dataframe_spark_io.py\n",
            "spark-3.2.0-bin-hadoop3.2/python/pyspark/pandas/tests/test_repr.py\n",
            "spark-3.2.0-bin-hadoop3.2/python/pyspark/pandas/tests/test_ops_on_diff_frames_groupby_expanding.py\n",
            "spark-3.2.0-bin-hadoop3.2/python/pyspark/pandas/tests/test_namespace.py\n",
            "spark-3.2.0-bin-hadoop3.2/python/pyspark/pandas/tests/test_ops_on_diff_frames_groupby.py\n",
            "spark-3.2.0-bin-hadoop3.2/python/pyspark/pandas/tests/test_series_conversion.py\n",
            "spark-3.2.0-bin-hadoop3.2/python/pyspark/pandas/tests/test_internal.py\n",
            "spark-3.2.0-bin-hadoop3.2/python/pyspark/pandas/tests/test_series_string.py\n",
            "spark-3.2.0-bin-hadoop3.2/python/pyspark/pandas/tests/test_groupby.py\n",
            "spark-3.2.0-bin-hadoop3.2/python/pyspark/pandas/tests/test_csv.py\n",
            "spark-3.2.0-bin-hadoop3.2/python/pyspark/pandas/tests/test_ops_on_diff_frames_groupby_rolling.py\n",
            "spark-3.2.0-bin-hadoop3.2/python/pyspark/pandas/tests/test_dataframe_conversion.py\n",
            "spark-3.2.0-bin-hadoop3.2/python/pyspark/pandas/tests/data_type_ops/\n",
            "spark-3.2.0-bin-hadoop3.2/python/pyspark/pandas/tests/data_type_ops/test_categorical_ops.py\n",
            "spark-3.2.0-bin-hadoop3.2/python/pyspark/pandas/tests/data_type_ops/test_complex_ops.py\n",
            "spark-3.2.0-bin-hadoop3.2/python/pyspark/pandas/tests/data_type_ops/test_boolean_ops.py\n",
            "spark-3.2.0-bin-hadoop3.2/python/pyspark/pandas/tests/data_type_ops/test_string_ops.py\n",
            "spark-3.2.0-bin-hadoop3.2/python/pyspark/pandas/tests/data_type_ops/__init__.py\n",
            "spark-3.2.0-bin-hadoop3.2/python/pyspark/pandas/tests/data_type_ops/testing_utils.py\n",
            "spark-3.2.0-bin-hadoop3.2/python/pyspark/pandas/tests/data_type_ops/test_udt_ops.py\n",
            "spark-3.2.0-bin-hadoop3.2/python/pyspark/pandas/tests/data_type_ops/test_num_ops.py\n",
            "spark-3.2.0-bin-hadoop3.2/python/pyspark/pandas/tests/data_type_ops/test_date_ops.py\n",
            "spark-3.2.0-bin-hadoop3.2/python/pyspark/pandas/tests/data_type_ops/test_null_ops.py\n",
            "spark-3.2.0-bin-hadoop3.2/python/pyspark/pandas/tests/data_type_ops/test_datetime_ops.py\n",
            "spark-3.2.0-bin-hadoop3.2/python/pyspark/pandas/tests/data_type_ops/test_binary_ops.py\n",
            "spark-3.2.0-bin-hadoop3.2/python/pyspark/pandas/tests/data_type_ops/test_base.py\n",
            "spark-3.2.0-bin-hadoop3.2/python/pyspark/pandas/tests/test_frame_spark.py\n",
            "spark-3.2.0-bin-hadoop3.2/python/pyspark/pandas/tests/test_config.py\n",
            "spark-3.2.0-bin-hadoop3.2/python/pyspark/pandas/tests/test_categorical.py\n",
            "spark-3.2.0-bin-hadoop3.2/python/pyspark/pandas/tests/plot/\n",
            "spark-3.2.0-bin-hadoop3.2/python/pyspark/pandas/tests/plot/__init__.py\n",
            "spark-3.2.0-bin-hadoop3.2/python/pyspark/pandas/tests/plot/test_frame_plot.py\n",
            "spark-3.2.0-bin-hadoop3.2/python/pyspark/pandas/tests/plot/test_frame_plot_matplotlib.py\n",
            "spark-3.2.0-bin-hadoop3.2/python/pyspark/pandas/tests/plot/test_frame_plot_plotly.py\n",
            "spark-3.2.0-bin-hadoop3.2/python/pyspark/pandas/tests/plot/test_series_plot_matplotlib.py\n",
            "spark-3.2.0-bin-hadoop3.2/python/pyspark/pandas/tests/plot/test_series_plot_plotly.py\n",
            "spark-3.2.0-bin-hadoop3.2/python/pyspark/pandas/tests/plot/test_series_plot.py\n",
            "spark-3.2.0-bin-hadoop3.2/python/pyspark/pandas/tests/test_ops_on_diff_frames.py\n",
            "spark-3.2.0-bin-hadoop3.2/python/pyspark/pandas/tests/test_rolling.py\n",
            "spark-3.2.0-bin-hadoop3.2/python/pyspark/pandas/tests/test_reshape.py\n",
            "spark-3.2.0-bin-hadoop3.2/python/pyspark/pandas/tests/test_sql.py\n",
            "spark-3.2.0-bin-hadoop3.2/python/pyspark/pandas/tests/test_spark_functions.py\n",
            "spark-3.2.0-bin-hadoop3.2/python/pyspark/pandas/sql_processor.py\n",
            "spark-3.2.0-bin-hadoop3.2/python/pyspark/pandas/numpy_compat.py\n",
            "spark-3.2.0-bin-hadoop3.2/python/pyspark/pandas/usage_logging/\n",
            "spark-3.2.0-bin-hadoop3.2/python/pyspark/pandas/usage_logging/__init__.py\n",
            "spark-3.2.0-bin-hadoop3.2/python/pyspark/pandas/usage_logging/usage_logger.py\n",
            "spark-3.2.0-bin-hadoop3.2/python/pyspark/pandas/spark/\n",
            "spark-3.2.0-bin-hadoop3.2/python/pyspark/pandas/spark/functions.py\n",
            "spark-3.2.0-bin-hadoop3.2/python/pyspark/pandas/spark/__init__.py\n",
            "spark-3.2.0-bin-hadoop3.2/python/pyspark/pandas/spark/accessors.py\n",
            "spark-3.2.0-bin-hadoop3.2/python/pyspark/pandas/spark/utils.py\n",
            "spark-3.2.0-bin-hadoop3.2/python/pyspark/pandas/base.py\n",
            "spark-3.2.0-bin-hadoop3.2/python/pyspark/pandas/frame.py\n",
            "spark-3.2.0-bin-hadoop3.2/python/pyspark/pandas/window.py\n",
            "spark-3.2.0-bin-hadoop3.2/python/pyspark/pandas/indexes/\n",
            "spark-3.2.0-bin-hadoop3.2/python/pyspark/pandas/indexes/base.py\n",
            "spark-3.2.0-bin-hadoop3.2/python/pyspark/pandas/indexes/__init__.py\n",
            "spark-3.2.0-bin-hadoop3.2/python/pyspark/pandas/indexes/numeric.py\n",
            "spark-3.2.0-bin-hadoop3.2/python/pyspark/pandas/indexes/datetimes.py\n",
            "spark-3.2.0-bin-hadoop3.2/python/pyspark/pandas/indexes/category.py\n",
            "spark-3.2.0-bin-hadoop3.2/python/pyspark/pandas/indexes/multi.py\n",
            "spark-3.2.0-bin-hadoop3.2/python/pyspark/pandas/namespace.py\n",
            "spark-3.2.0-bin-hadoop3.2/python/pyspark/pandas/mlflow.py\n",
            "spark-3.2.0-bin-hadoop3.2/python/pyspark/pandas/indexing.py\n",
            "spark-3.2.0-bin-hadoop3.2/python/pyspark/pandas/strings.py\n",
            "spark-3.2.0-bin-hadoop3.2/python/pyspark/pandas/__init__.py\n",
            "spark-3.2.0-bin-hadoop3.2/python/pyspark/pandas/extensions.py\n",
            "spark-3.2.0-bin-hadoop3.2/python/pyspark/pandas/accessors.py\n",
            "spark-3.2.0-bin-hadoop3.2/python/pyspark/pandas/config.py\n",
            "spark-3.2.0-bin-hadoop3.2/python/pyspark/pandas/groupby.py\n",
            "spark-3.2.0-bin-hadoop3.2/python/pyspark/pandas/internal.py\n",
            "spark-3.2.0-bin-hadoop3.2/python/pyspark/pandas/missing/\n",
            "spark-3.2.0-bin-hadoop3.2/python/pyspark/pandas/missing/frame.py\n",
            "spark-3.2.0-bin-hadoop3.2/python/pyspark/pandas/missing/window.py\n",
            "spark-3.2.0-bin-hadoop3.2/python/pyspark/pandas/missing/__init__.py\n",
            "spark-3.2.0-bin-hadoop3.2/python/pyspark/pandas/missing/groupby.py\n",
            "spark-3.2.0-bin-hadoop3.2/python/pyspark/pandas/missing/series.py\n",
            "spark-3.2.0-bin-hadoop3.2/python/pyspark/pandas/missing/indexes.py\n",
            "spark-3.2.0-bin-hadoop3.2/python/pyspark/pandas/missing/common.py\n",
            "spark-3.2.0-bin-hadoop3.2/python/pyspark/pandas/ml.py\n",
            "spark-3.2.0-bin-hadoop3.2/python/pyspark/pandas/series.py\n",
            "spark-3.2.0-bin-hadoop3.2/python/pyspark/pandas/_typing.py\n",
            "spark-3.2.0-bin-hadoop3.2/python/pyspark/pandas/datetimes.py\n",
            "spark-3.2.0-bin-hadoop3.2/python/pyspark/pandas/utils.py\n",
            "spark-3.2.0-bin-hadoop3.2/python/pyspark/pandas/data_type_ops/\n",
            "spark-3.2.0-bin-hadoop3.2/python/pyspark/pandas/data_type_ops/complex_ops.py\n",
            "spark-3.2.0-bin-hadoop3.2/python/pyspark/pandas/data_type_ops/binary_ops.py\n",
            "spark-3.2.0-bin-hadoop3.2/python/pyspark/pandas/data_type_ops/base.py\n",
            "spark-3.2.0-bin-hadoop3.2/python/pyspark/pandas/data_type_ops/categorical_ops.py\n",
            "spark-3.2.0-bin-hadoop3.2/python/pyspark/pandas/data_type_ops/string_ops.py\n",
            "spark-3.2.0-bin-hadoop3.2/python/pyspark/pandas/data_type_ops/__init__.py\n",
            "spark-3.2.0-bin-hadoop3.2/python/pyspark/pandas/data_type_ops/date_ops.py\n",
            "spark-3.2.0-bin-hadoop3.2/python/pyspark/pandas/data_type_ops/udt_ops.py\n",
            "spark-3.2.0-bin-hadoop3.2/python/pyspark/pandas/data_type_ops/null_ops.py\n",
            "spark-3.2.0-bin-hadoop3.2/python/pyspark/pandas/data_type_ops/datetime_ops.py\n",
            "spark-3.2.0-bin-hadoop3.2/python/pyspark/pandas/data_type_ops/num_ops.py\n",
            "spark-3.2.0-bin-hadoop3.2/python/pyspark/pandas/data_type_ops/boolean_ops.py\n",
            "spark-3.2.0-bin-hadoop3.2/python/pyspark/pandas/plot/\n",
            "spark-3.2.0-bin-hadoop3.2/python/pyspark/pandas/plot/core.py\n",
            "spark-3.2.0-bin-hadoop3.2/python/pyspark/pandas/plot/__init__.py\n",
            "spark-3.2.0-bin-hadoop3.2/python/pyspark/pandas/plot/plotly.py\n",
            "spark-3.2.0-bin-hadoop3.2/python/pyspark/pandas/plot/matplotlib.py\n",
            "spark-3.2.0-bin-hadoop3.2/python/pyspark/pandas/typedef/\n",
            "spark-3.2.0-bin-hadoop3.2/python/pyspark/pandas/typedef/__init__.py\n",
            "spark-3.2.0-bin-hadoop3.2/python/pyspark/pandas/typedef/typehints.py\n",
            "spark-3.2.0-bin-hadoop3.2/python/pyspark/pandas/typedef/string_typehints.py\n",
            "spark-3.2.0-bin-hadoop3.2/python/pyspark/pandas/categorical.py\n",
            "spark-3.2.0-bin-hadoop3.2/python/pyspark/pandas/generic.py\n",
            "spark-3.2.0-bin-hadoop3.2/python/pyspark/pandas/exceptions.py\n",
            "spark-3.2.0-bin-hadoop3.2/python/pyspark/_typing.pyi\n",
            "spark-3.2.0-bin-hadoop3.2/python/pyspark/testing/\n",
            "spark-3.2.0-bin-hadoop3.2/python/pyspark/testing/mlutils.py\n",
            "spark-3.2.0-bin-hadoop3.2/python/pyspark/testing/__init__.py\n",
            "spark-3.2.0-bin-hadoop3.2/python/pyspark/testing/mllibutils.py\n",
            "spark-3.2.0-bin-hadoop3.2/python/pyspark/testing/pandasutils.py\n",
            "spark-3.2.0-bin-hadoop3.2/python/pyspark/testing/utils.py\n",
            "spark-3.2.0-bin-hadoop3.2/python/pyspark/testing/sqlutils.py\n",
            "spark-3.2.0-bin-hadoop3.2/python/pyspark/testing/streamingutils.py\n",
            "spark-3.2.0-bin-hadoop3.2/python/pyspark/accumulators.py\n",
            "spark-3.2.0-bin-hadoop3.2/python/pyspark/rddsampler.py\n",
            "spark-3.2.0-bin-hadoop3.2/python/pyspark/install.py\n",
            "spark-3.2.0-bin-hadoop3.2/python/pyspark/status.pyi\n",
            "spark-3.2.0-bin-hadoop3.2/python/pyspark/ml/\n",
            "spark-3.2.0-bin-hadoop3.2/python/pyspark/ml/tests/\n",
            "spark-3.2.0-bin-hadoop3.2/python/pyspark/ml/tests/test_algorithms.py\n",
            "spark-3.2.0-bin-hadoop3.2/python/pyspark/ml/tests/test_evaluation.py\n",
            "spark-3.2.0-bin-hadoop3.2/python/pyspark/ml/tests/test_util.py\n",
            "spark-3.2.0-bin-hadoop3.2/python/pyspark/ml/tests/test_feature.py\n",
            "spark-3.2.0-bin-hadoop3.2/python/pyspark/ml/tests/test_pipeline.py\n",
            "spark-3.2.0-bin-hadoop3.2/python/pyspark/ml/tests/test_wrapper.py\n",
            "spark-3.2.0-bin-hadoop3.2/python/pyspark/ml/tests/__init__.py\n",
            "spark-3.2.0-bin-hadoop3.2/python/pyspark/ml/tests/test_tuning.py\n",
            "spark-3.2.0-bin-hadoop3.2/python/pyspark/ml/tests/test_persistence.py\n",
            "spark-3.2.0-bin-hadoop3.2/python/pyspark/ml/tests/test_param.py\n",
            "spark-3.2.0-bin-hadoop3.2/python/pyspark/ml/tests/test_training_summary.py\n",
            "spark-3.2.0-bin-hadoop3.2/python/pyspark/ml/tests/test_linalg.py\n",
            "spark-3.2.0-bin-hadoop3.2/python/pyspark/ml/tests/test_image.py\n",
            "spark-3.2.0-bin-hadoop3.2/python/pyspark/ml/tests/test_stat.py\n",
            "spark-3.2.0-bin-hadoop3.2/python/pyspark/ml/tests/test_base.py\n",
            "spark-3.2.0-bin-hadoop3.2/python/pyspark/ml/evaluation.pyi\n",
            "spark-3.2.0-bin-hadoop3.2/python/pyspark/ml/_typing.pyi\n",
            "spark-3.2.0-bin-hadoop3.2/python/pyspark/ml/functions.py\n",
            "spark-3.2.0-bin-hadoop3.2/python/pyspark/ml/recommendation.pyi\n",
            "spark-3.2.0-bin-hadoop3.2/python/pyspark/ml/tuning.py\n",
            "spark-3.2.0-bin-hadoop3.2/python/pyspark/ml/fpm.pyi\n",
            "spark-3.2.0-bin-hadoop3.2/python/pyspark/ml/pipeline.py\n",
            "spark-3.2.0-bin-hadoop3.2/python/pyspark/ml/base.py\n",
            "spark-3.2.0-bin-hadoop3.2/python/pyspark/ml/feature.py\n",
            "spark-3.2.0-bin-hadoop3.2/python/pyspark/ml/wrapper.pyi\n",
            "spark-3.2.0-bin-hadoop3.2/python/pyspark/ml/__init__.py\n",
            "spark-3.2.0-bin-hadoop3.2/python/pyspark/ml/stat.pyi\n",
            "spark-3.2.0-bin-hadoop3.2/python/pyspark/ml/stat.py\n",
            "spark-3.2.0-bin-hadoop3.2/python/pyspark/ml/image.py\n",
            "spark-3.2.0-bin-hadoop3.2/python/pyspark/ml/classification.py\n",
            "spark-3.2.0-bin-hadoop3.2/python/pyspark/ml/common.pyi\n",
            "spark-3.2.0-bin-hadoop3.2/python/pyspark/ml/pipeline.pyi\n",
            "spark-3.2.0-bin-hadoop3.2/python/pyspark/ml/recommendation.py\n",
            "spark-3.2.0-bin-hadoop3.2/python/pyspark/ml/clustering.pyi\n",
            "spark-3.2.0-bin-hadoop3.2/python/pyspark/ml/regression.py\n",
            "spark-3.2.0-bin-hadoop3.2/python/pyspark/ml/param/\n",
            "spark-3.2.0-bin-hadoop3.2/python/pyspark/ml/param/__init__.pyi\n",
            "spark-3.2.0-bin-hadoop3.2/python/pyspark/ml/param/_shared_params_code_gen.py\n",
            "spark-3.2.0-bin-hadoop3.2/python/pyspark/ml/param/__init__.py\n",
            "spark-3.2.0-bin-hadoop3.2/python/pyspark/ml/param/shared.py\n",
            "spark-3.2.0-bin-hadoop3.2/python/pyspark/ml/param/_shared_params_code_gen.pyi\n",
            "spark-3.2.0-bin-hadoop3.2/python/pyspark/ml/param/shared.pyi\n",
            "spark-3.2.0-bin-hadoop3.2/python/pyspark/ml/feature.pyi\n",
            "spark-3.2.0-bin-hadoop3.2/python/pyspark/ml/classification.pyi\n",
            "spark-3.2.0-bin-hadoop3.2/python/pyspark/ml/tree.py\n",
            "spark-3.2.0-bin-hadoop3.2/python/pyspark/ml/util.pyi\n",
            "spark-3.2.0-bin-hadoop3.2/python/pyspark/ml/tuning.pyi\n",
            "spark-3.2.0-bin-hadoop3.2/python/pyspark/ml/fpm.py\n",
            "spark-3.2.0-bin-hadoop3.2/python/pyspark/ml/regression.pyi\n",
            "spark-3.2.0-bin-hadoop3.2/python/pyspark/ml/functions.pyi\n",
            "spark-3.2.0-bin-hadoop3.2/python/pyspark/ml/base.pyi\n",
            "spark-3.2.0-bin-hadoop3.2/python/pyspark/ml/wrapper.py\n",
            "spark-3.2.0-bin-hadoop3.2/python/pyspark/ml/image.pyi\n",
            "spark-3.2.0-bin-hadoop3.2/python/pyspark/ml/tree.pyi\n",
            "spark-3.2.0-bin-hadoop3.2/python/pyspark/ml/clustering.py\n",
            "spark-3.2.0-bin-hadoop3.2/python/pyspark/ml/common.py\n",
            "spark-3.2.0-bin-hadoop3.2/python/pyspark/ml/linalg/\n",
            "spark-3.2.0-bin-hadoop3.2/python/pyspark/ml/linalg/__init__.pyi\n",
            "spark-3.2.0-bin-hadoop3.2/python/pyspark/ml/linalg/__init__.py\n",
            "spark-3.2.0-bin-hadoop3.2/python/pyspark/ml/evaluation.py\n",
            "spark-3.2.0-bin-hadoop3.2/python/pyspark/ml/util.py\n",
            "spark-3.2.0-bin-hadoop3.2/python/pyspark/context.pyi\n",
            "spark-3.2.0-bin-hadoop3.2/python/pyspark/find_spark_home.py\n",
            "spark-3.2.0-bin-hadoop3.2/python/pyspark/serializers.py\n",
            "spark-3.2.0-bin-hadoop3.2/python/pyspark/java_gateway.py\n",
            "spark-3.2.0-bin-hadoop3.2/python/pyspark/traceback_utils.py\n",
            "spark-3.2.0-bin-hadoop3.2/python/pyspark/resource/\n",
            "spark-3.2.0-bin-hadoop3.2/python/pyspark/resource/tests/\n",
            "spark-3.2.0-bin-hadoop3.2/python/pyspark/resource/tests/__init__.py\n",
            "spark-3.2.0-bin-hadoop3.2/python/pyspark/resource/tests/test_resources.py\n",
            "spark-3.2.0-bin-hadoop3.2/python/pyspark/resource/profile.py\n",
            "spark-3.2.0-bin-hadoop3.2/python/pyspark/resource/__init__.py\n",
            "spark-3.2.0-bin-hadoop3.2/python/pyspark/resource/information.py\n",
            "spark-3.2.0-bin-hadoop3.2/python/pyspark/resource/requests.pyi\n",
            "spark-3.2.0-bin-hadoop3.2/python/pyspark/resource/information.pyi\n",
            "spark-3.2.0-bin-hadoop3.2/python/pyspark/resource/requests.py\n",
            "spark-3.2.0-bin-hadoop3.2/python/pyspark/resource/profile.pyi\n",
            "spark-3.2.0-bin-hadoop3.2/python/pyspark/conf.py\n",
            "spark-3.2.0-bin-hadoop3.2/python/pyspark/resultiterable.pyi\n",
            "spark-3.2.0-bin-hadoop3.2/python/pyspark/version.pyi\n",
            "spark-3.2.0-bin-hadoop3.2/python/pyspark/__init__.py\n",
            "spark-3.2.0-bin-hadoop3.2/python/pyspark/__pycache__/\n",
            "spark-3.2.0-bin-hadoop3.2/python/pyspark/__pycache__/install.cpython-38.pyc\n",
            "spark-3.2.0-bin-hadoop3.2/python/pyspark/files.pyi\n",
            "spark-3.2.0-bin-hadoop3.2/python/pyspark/mllib/\n",
            "spark-3.2.0-bin-hadoop3.2/python/pyspark/mllib/tests/\n",
            "spark-3.2.0-bin-hadoop3.2/python/pyspark/mllib/tests/test_algorithms.py\n",
            "spark-3.2.0-bin-hadoop3.2/python/pyspark/mllib/tests/test_streaming_algorithms.py\n",
            "spark-3.2.0-bin-hadoop3.2/python/pyspark/mllib/tests/test_util.py\n",
            "spark-3.2.0-bin-hadoop3.2/python/pyspark/mllib/tests/test_feature.py\n",
            "spark-3.2.0-bin-hadoop3.2/python/pyspark/mllib/tests/__init__.py\n",
            "spark-3.2.0-bin-hadoop3.2/python/pyspark/mllib/tests/test_linalg.py\n",
            "spark-3.2.0-bin-hadoop3.2/python/pyspark/mllib/tests/test_stat.py\n",
            "spark-3.2.0-bin-hadoop3.2/python/pyspark/mllib/evaluation.pyi\n",
            "spark-3.2.0-bin-hadoop3.2/python/pyspark/mllib/_typing.pyi\n",
            "spark-3.2.0-bin-hadoop3.2/python/pyspark/mllib/recommendation.pyi\n",
            "spark-3.2.0-bin-hadoop3.2/python/pyspark/mllib/fpm.pyi\n",
            "spark-3.2.0-bin-hadoop3.2/python/pyspark/mllib/feature.py\n",
            "spark-3.2.0-bin-hadoop3.2/python/pyspark/mllib/__init__.py\n",
            "spark-3.2.0-bin-hadoop3.2/python/pyspark/mllib/classification.py\n",
            "spark-3.2.0-bin-hadoop3.2/python/pyspark/mllib/common.pyi\n",
            "spark-3.2.0-bin-hadoop3.2/python/pyspark/mllib/random.pyi\n",
            "spark-3.2.0-bin-hadoop3.2/python/pyspark/mllib/recommendation.py\n",
            "spark-3.2.0-bin-hadoop3.2/python/pyspark/mllib/clustering.pyi\n",
            "spark-3.2.0-bin-hadoop3.2/python/pyspark/mllib/regression.py\n",
            "spark-3.2.0-bin-hadoop3.2/python/pyspark/mllib/feature.pyi\n",
            "spark-3.2.0-bin-hadoop3.2/python/pyspark/mllib/classification.pyi\n",
            "spark-3.2.0-bin-hadoop3.2/python/pyspark/mllib/tree.py\n",
            "spark-3.2.0-bin-hadoop3.2/python/pyspark/mllib/util.pyi\n",
            "spark-3.2.0-bin-hadoop3.2/python/pyspark/mllib/fpm.py\n",
            "spark-3.2.0-bin-hadoop3.2/python/pyspark/mllib/regression.pyi\n",
            "spark-3.2.0-bin-hadoop3.2/python/pyspark/mllib/random.py\n",
            "spark-3.2.0-bin-hadoop3.2/python/pyspark/mllib/stat/\n",
            "spark-3.2.0-bin-hadoop3.2/python/pyspark/mllib/stat/__init__.pyi\n",
            "spark-3.2.0-bin-hadoop3.2/python/pyspark/mllib/stat/distribution.py\n",
            "spark-3.2.0-bin-hadoop3.2/python/pyspark/mllib/stat/__init__.py\n",
            "spark-3.2.0-bin-hadoop3.2/python/pyspark/mllib/stat/KernelDensity.py\n",
            "spark-3.2.0-bin-hadoop3.2/python/pyspark/mllib/stat/_statistics.pyi\n",
            "spark-3.2.0-bin-hadoop3.2/python/pyspark/mllib/stat/distribution.pyi\n",
            "spark-3.2.0-bin-hadoop3.2/python/pyspark/mllib/stat/test.pyi\n",
            "spark-3.2.0-bin-hadoop3.2/python/pyspark/mllib/stat/test.py\n",
            "spark-3.2.0-bin-hadoop3.2/python/pyspark/mllib/stat/_statistics.py\n",
            "spark-3.2.0-bin-hadoop3.2/python/pyspark/mllib/stat/KernelDensity.pyi\n",
            "spark-3.2.0-bin-hadoop3.2/python/pyspark/mllib/tree.pyi\n",
            "spark-3.2.0-bin-hadoop3.2/python/pyspark/mllib/clustering.py\n",
            "spark-3.2.0-bin-hadoop3.2/python/pyspark/mllib/common.py\n",
            "spark-3.2.0-bin-hadoop3.2/python/pyspark/mllib/linalg/\n",
            "spark-3.2.0-bin-hadoop3.2/python/pyspark/mllib/linalg/__init__.pyi\n",
            "spark-3.2.0-bin-hadoop3.2/python/pyspark/mllib/linalg/__init__.py\n",
            "spark-3.2.0-bin-hadoop3.2/python/pyspark/mllib/linalg/distributed.py\n",
            "spark-3.2.0-bin-hadoop3.2/python/pyspark/mllib/linalg/distributed.pyi\n",
            "spark-3.2.0-bin-hadoop3.2/python/pyspark/mllib/evaluation.py\n",
            "spark-3.2.0-bin-hadoop3.2/python/pyspark/mllib/util.py\n",
            "spark-3.2.0-bin-hadoop3.2/python/pyspark/resultiterable.py\n",
            "spark-3.2.0-bin-hadoop3.2/python/pyspark/profiler.py\n",
            "spark-3.2.0-bin-hadoop3.2/python/pyspark/statcounter.py\n",
            "spark-3.2.0-bin-hadoop3.2/python/pyspark/join.py\n",
            "spark-3.2.0-bin-hadoop3.2/python/pyspark/daemon.py\n",
            "spark-3.2.0-bin-hadoop3.2/python/pyspark/rdd.py\n",
            "spark-3.2.0-bin-hadoop3.2/python/pyspark/context.py\n",
            "spark-3.2.0-bin-hadoop3.2/python/pyspark/cloudpickle/\n",
            "spark-3.2.0-bin-hadoop3.2/python/pyspark/cloudpickle/cloudpickle_fast.py\n",
            "spark-3.2.0-bin-hadoop3.2/python/pyspark/cloudpickle/__init__.py\n",
            "spark-3.2.0-bin-hadoop3.2/python/pyspark/cloudpickle/compat.py\n",
            "spark-3.2.0-bin-hadoop3.2/python/pyspark/cloudpickle/cloudpickle.py\n",
            "spark-3.2.0-bin-hadoop3.2/python/pyspark/storagelevel.pyi\n",
            "spark-3.2.0-bin-hadoop3.2/python/pyspark/version.py\n",
            "spark-3.2.0-bin-hadoop3.2/python/pyspark/py.typed\n",
            "spark-3.2.0-bin-hadoop3.2/python/pyspark/files.py\n",
            "spark-3.2.0-bin-hadoop3.2/python/pyspark/worker.py\n",
            "spark-3.2.0-bin-hadoop3.2/python/pyspark/util.pyi\n",
            "spark-3.2.0-bin-hadoop3.2/python/pyspark/statcounter.pyi\n",
            "spark-3.2.0-bin-hadoop3.2/python/pyspark/conf.pyi\n",
            "spark-3.2.0-bin-hadoop3.2/python/pyspark/shell.py\n",
            "spark-3.2.0-bin-hadoop3.2/python/pyspark/streaming/\n",
            "spark-3.2.0-bin-hadoop3.2/python/pyspark/streaming/tests/\n",
            "spark-3.2.0-bin-hadoop3.2/python/pyspark/streaming/tests/test_listener.py\n",
            "spark-3.2.0-bin-hadoop3.2/python/pyspark/streaming/tests/test_kinesis.py\n",
            "spark-3.2.0-bin-hadoop3.2/python/pyspark/streaming/tests/__init__.py\n",
            "spark-3.2.0-bin-hadoop3.2/python/pyspark/streaming/tests/test_dstream.py\n",
            "spark-3.2.0-bin-hadoop3.2/python/pyspark/streaming/tests/test_context.py\n",
            "spark-3.2.0-bin-hadoop3.2/python/pyspark/streaming/dstream.pyi\n",
            "spark-3.2.0-bin-hadoop3.2/python/pyspark/streaming/kinesis.pyi\n",
            "spark-3.2.0-bin-hadoop3.2/python/pyspark/streaming/context.pyi\n",
            "spark-3.2.0-bin-hadoop3.2/python/pyspark/streaming/dstream.py\n",
            "spark-3.2.0-bin-hadoop3.2/python/pyspark/streaming/listener.pyi\n",
            "spark-3.2.0-bin-hadoop3.2/python/pyspark/streaming/__init__.py\n",
            "spark-3.2.0-bin-hadoop3.2/python/pyspark/streaming/kinesis.py\n",
            "spark-3.2.0-bin-hadoop3.2/python/pyspark/streaming/listener.py\n",
            "spark-3.2.0-bin-hadoop3.2/python/pyspark/streaming/context.py\n",
            "spark-3.2.0-bin-hadoop3.2/python/pyspark/streaming/util.py\n",
            "spark-3.2.0-bin-hadoop3.2/python/pyspark/accumulators.pyi\n",
            "spark-3.2.0-bin-hadoop3.2/python/pyspark/profiler.pyi\n",
            "spark-3.2.0-bin-hadoop3.2/python/pyspark/status.py\n",
            "spark-3.2.0-bin-hadoop3.2/python/pyspark/broadcast.pyi\n",
            "spark-3.2.0-bin-hadoop3.2/python/pyspark/sql/\n",
            "spark-3.2.0-bin-hadoop3.2/python/pyspark/sql/tests/\n",
            "spark-3.2.0-bin-hadoop3.2/python/pyspark/sql/tests/test_functions.py\n",
            "spark-3.2.0-bin-hadoop3.2/python/pyspark/sql/tests/test_readwriter.py\n",
            "spark-3.2.0-bin-hadoop3.2/python/pyspark/sql/tests/test_utils.py\n",
            "spark-3.2.0-bin-hadoop3.2/python/pyspark/sql/tests/test_pandas_grouped_map.py\n",
            "spark-3.2.0-bin-hadoop3.2/python/pyspark/sql/tests/test_dataframe.py\n",
            "spark-3.2.0-bin-hadoop3.2/python/pyspark/sql/tests/test_pandas_map.py\n",
            "spark-3.2.0-bin-hadoop3.2/python/pyspark/sql/tests/test_udf.py\n",
            "spark-3.2.0-bin-hadoop3.2/python/pyspark/sql/tests/test_streaming.py\n",
            "spark-3.2.0-bin-hadoop3.2/python/pyspark/sql/tests/__init__.py\n",
            "spark-3.2.0-bin-hadoop3.2/python/pyspark/sql/tests/test_serde.py\n",
            "spark-3.2.0-bin-hadoop3.2/python/pyspark/sql/tests/test_pandas_udf_window.py\n",
            "spark-3.2.0-bin-hadoop3.2/python/pyspark/sql/tests/test_group.py\n",
            "spark-3.2.0-bin-hadoop3.2/python/pyspark/sql/tests/test_pandas_udf.py\n",
            "spark-3.2.0-bin-hadoop3.2/python/pyspark/sql/tests/test_pandas_cogrouped_map.py\n",
            "spark-3.2.0-bin-hadoop3.2/python/pyspark/sql/tests/test_pandas_udf_grouped_agg.py\n",
            "spark-3.2.0-bin-hadoop3.2/python/pyspark/sql/tests/test_pandas_udf_scalar.py\n",
            "spark-3.2.0-bin-hadoop3.2/python/pyspark/sql/tests/test_catalog.py\n",
            "spark-3.2.0-bin-hadoop3.2/python/pyspark/sql/tests/test_datasources.py\n",
            "spark-3.2.0-bin-hadoop3.2/python/pyspark/sql/tests/test_pandas_udf_typehints.py\n",
            "spark-3.2.0-bin-hadoop3.2/python/pyspark/sql/tests/test_types.py\n",
            "spark-3.2.0-bin-hadoop3.2/python/pyspark/sql/tests/test_column.py\n",
            "spark-3.2.0-bin-hadoop3.2/python/pyspark/sql/tests/test_context.py\n",
            "spark-3.2.0-bin-hadoop3.2/python/pyspark/sql/tests/test_conf.py\n",
            "spark-3.2.0-bin-hadoop3.2/python/pyspark/sql/tests/test_arrow.py\n",
            "spark-3.2.0-bin-hadoop3.2/python/pyspark/sql/tests/test_session.py\n",
            "spark-3.2.0-bin-hadoop3.2/python/pyspark/sql/__init__.pyi\n",
            "spark-3.2.0-bin-hadoop3.2/python/pyspark/sql/pandas/\n",
            "spark-3.2.0-bin-hadoop3.2/python/pyspark/sql/pandas/map_ops.pyi\n",
            "spark-3.2.0-bin-hadoop3.2/python/pyspark/sql/pandas/functions.py\n",
            "spark-3.2.0-bin-hadoop3.2/python/pyspark/sql/pandas/serializers.py\n",
            "spark-3.2.0-bin-hadoop3.2/python/pyspark/sql/pandas/__init__.py\n",
            "spark-3.2.0-bin-hadoop3.2/python/pyspark/sql/pandas/typehints.py\n",
            "spark-3.2.0-bin-hadoop3.2/python/pyspark/sql/pandas/group_ops.pyi\n",
            "spark-3.2.0-bin-hadoop3.2/python/pyspark/sql/pandas/map_ops.py\n",
            "spark-3.2.0-bin-hadoop3.2/python/pyspark/sql/pandas/types.py\n",
            "spark-3.2.0-bin-hadoop3.2/python/pyspark/sql/pandas/conversion.pyi\n",
            "spark-3.2.0-bin-hadoop3.2/python/pyspark/sql/pandas/group_ops.py\n",
            "spark-3.2.0-bin-hadoop3.2/python/pyspark/sql/pandas/functions.pyi\n",
            "spark-3.2.0-bin-hadoop3.2/python/pyspark/sql/pandas/utils.py\n",
            "spark-3.2.0-bin-hadoop3.2/python/pyspark/sql/pandas/conversion.py\n",
            "spark-3.2.0-bin-hadoop3.2/python/pyspark/sql/pandas/_typing/\n",
            "spark-3.2.0-bin-hadoop3.2/python/pyspark/sql/pandas/_typing/__init__.pyi\n",
            "spark-3.2.0-bin-hadoop3.2/python/pyspark/sql/pandas/_typing/protocols/\n",
            "spark-3.2.0-bin-hadoop3.2/python/pyspark/sql/pandas/_typing/protocols/__init__.pyi\n",
            "spark-3.2.0-bin-hadoop3.2/python/pyspark/sql/pandas/_typing/protocols/series.pyi\n",
            "spark-3.2.0-bin-hadoop3.2/python/pyspark/sql/pandas/_typing/protocols/frame.pyi\n",
            "spark-3.2.0-bin-hadoop3.2/python/pyspark/sql/_typing.pyi\n",
            "spark-3.2.0-bin-hadoop3.2/python/pyspark/sql/functions.py\n",
            "spark-3.2.0-bin-hadoop3.2/python/pyspark/sql/readwriter.py\n",
            "spark-3.2.0-bin-hadoop3.2/python/pyspark/sql/streaming.pyi\n",
            "spark-3.2.0-bin-hadoop3.2/python/pyspark/sql/context.pyi\n",
            "spark-3.2.0-bin-hadoop3.2/python/pyspark/sql/column.pyi\n",
            "spark-3.2.0-bin-hadoop3.2/python/pyspark/sql/catalog.py\n",
            "spark-3.2.0-bin-hadoop3.2/python/pyspark/sql/types.pyi\n",
            "spark-3.2.0-bin-hadoop3.2/python/pyspark/sql/window.py\n",
            "spark-3.2.0-bin-hadoop3.2/python/pyspark/sql/udf.py\n",
            "spark-3.2.0-bin-hadoop3.2/python/pyspark/sql/conf.py\n",
            "spark-3.2.0-bin-hadoop3.2/python/pyspark/sql/__init__.py\n",
            "spark-3.2.0-bin-hadoop3.2/python/pyspark/sql/session.py\n",
            "spark-3.2.0-bin-hadoop3.2/python/pyspark/sql/column.py\n",
            "spark-3.2.0-bin-hadoop3.2/python/pyspark/sql/group.py\n",
            "spark-3.2.0-bin-hadoop3.2/python/pyspark/sql/catalog.pyi\n",
            "spark-3.2.0-bin-hadoop3.2/python/pyspark/sql/group.pyi\n",
            "spark-3.2.0-bin-hadoop3.2/python/pyspark/sql/context.py\n",
            "spark-3.2.0-bin-hadoop3.2/python/pyspark/sql/dataframe.pyi\n",
            "spark-3.2.0-bin-hadoop3.2/python/pyspark/sql/types.py\n",
            "spark-3.2.0-bin-hadoop3.2/python/pyspark/sql/functions.pyi\n",
            "spark-3.2.0-bin-hadoop3.2/python/pyspark/sql/conf.pyi\n",
            "spark-3.2.0-bin-hadoop3.2/python/pyspark/sql/udf.pyi\n",
            "spark-3.2.0-bin-hadoop3.2/python/pyspark/sql/dataframe.py\n",
            "spark-3.2.0-bin-hadoop3.2/python/pyspark/sql/avro/\n",
            "spark-3.2.0-bin-hadoop3.2/python/pyspark/sql/avro/functions.py\n",
            "spark-3.2.0-bin-hadoop3.2/python/pyspark/sql/avro/__init__.py\n",
            "spark-3.2.0-bin-hadoop3.2/python/pyspark/sql/avro/functions.pyi\n",
            "spark-3.2.0-bin-hadoop3.2/python/pyspark/sql/utils.py\n",
            "spark-3.2.0-bin-hadoop3.2/python/pyspark/sql/readwriter.pyi\n",
            "spark-3.2.0-bin-hadoop3.2/python/pyspark/sql/window.pyi\n",
            "spark-3.2.0-bin-hadoop3.2/python/pyspark/sql/session.pyi\n",
            "spark-3.2.0-bin-hadoop3.2/python/pyspark/sql/streaming.py\n",
            "spark-3.2.0-bin-hadoop3.2/python/pyspark/python/\n",
            "spark-3.2.0-bin-hadoop3.2/python/pyspark/python/pyspark/\n",
            "spark-3.2.0-bin-hadoop3.2/python/pyspark/python/pyspark/shell.py\n",
            "spark-3.2.0-bin-hadoop3.2/python/pyspark/shuffle.py\n",
            "spark-3.2.0-bin-hadoop3.2/python/pyspark/rdd.pyi\n",
            "spark-3.2.0-bin-hadoop3.2/python/pyspark/taskcontext.pyi\n",
            "spark-3.2.0-bin-hadoop3.2/python/pyspark/taskcontext.py\n",
            "spark-3.2.0-bin-hadoop3.2/python/pyspark/_globals.py\n",
            "spark-3.2.0-bin-hadoop3.2/python/pyspark/broadcast.py\n",
            "spark-3.2.0-bin-hadoop3.2/python/pyspark/util.py\n",
            "spark-3.2.0-bin-hadoop3.2/python/pyspark/storagelevel.py\n",
            "spark-3.2.0-bin-hadoop3.2/python/.coveragerc\n",
            "spark-3.2.0-bin-hadoop3.2/python/docs/\n",
            "spark-3.2.0-bin-hadoop3.2/python/docs/make2.bat\n",
            "spark-3.2.0-bin-hadoop3.2/python/docs/source/\n",
            "spark-3.2.0-bin-hadoop3.2/python/docs/source/reference/\n",
            "spark-3.2.0-bin-hadoop3.2/python/docs/source/reference/pyspark.ss.rst\n",
            "spark-3.2.0-bin-hadoop3.2/python/docs/source/reference/index.rst\n",
            "spark-3.2.0-bin-hadoop3.2/python/docs/source/reference/pyspark.ml.rst\n",
            "spark-3.2.0-bin-hadoop3.2/python/docs/source/reference/pyspark.rst\n",
            "spark-3.2.0-bin-hadoop3.2/python/docs/source/reference/pyspark.pandas/\n",
            "spark-3.2.0-bin-hadoop3.2/python/docs/source/reference/pyspark.pandas/window.rst\n",
            "spark-3.2.0-bin-hadoop3.2/python/docs/source/reference/pyspark.pandas/index.rst\n",
            "spark-3.2.0-bin-hadoop3.2/python/docs/source/reference/pyspark.pandas/extensions.rst\n",
            "spark-3.2.0-bin-hadoop3.2/python/docs/source/reference/pyspark.pandas/ml.rst\n",
            "spark-3.2.0-bin-hadoop3.2/python/docs/source/reference/pyspark.pandas/frame.rst\n",
            "spark-3.2.0-bin-hadoop3.2/python/docs/source/reference/pyspark.pandas/io.rst\n",
            "spark-3.2.0-bin-hadoop3.2/python/docs/source/reference/pyspark.pandas/series.rst\n",
            "spark-3.2.0-bin-hadoop3.2/python/docs/source/reference/pyspark.pandas/indexing.rst\n",
            "spark-3.2.0-bin-hadoop3.2/python/docs/source/reference/pyspark.pandas/general_functions.rst\n",
            "spark-3.2.0-bin-hadoop3.2/python/docs/source/reference/pyspark.pandas/groupby.rst\n",
            "spark-3.2.0-bin-hadoop3.2/python/docs/source/reference/pyspark.mllib.rst\n",
            "spark-3.2.0-bin-hadoop3.2/python/docs/source/reference/pyspark.streaming.rst\n",
            "spark-3.2.0-bin-hadoop3.2/python/docs/source/reference/pyspark.sql.rst\n",
            "spark-3.2.0-bin-hadoop3.2/python/docs/source/reference/pyspark.resource.rst\n",
            "spark-3.2.0-bin-hadoop3.2/python/docs/source/index.rst\n",
            "spark-3.2.0-bin-hadoop3.2/python/docs/source/getting_started/\n",
            "spark-3.2.0-bin-hadoop3.2/python/docs/source/getting_started/index.rst\n",
            "spark-3.2.0-bin-hadoop3.2/python/docs/source/getting_started/quickstart_ps.ipynb\n",
            "spark-3.2.0-bin-hadoop3.2/python/docs/source/getting_started/quickstart_df.ipynb\n",
            "spark-3.2.0-bin-hadoop3.2/python/docs/source/getting_started/install.rst\n",
            "spark-3.2.0-bin-hadoop3.2/python/docs/source/conf.py\n",
            "spark-3.2.0-bin-hadoop3.2/python/docs/source/_templates/\n",
            "spark-3.2.0-bin-hadoop3.2/python/docs/source/_templates/autosummary/\n",
            "spark-3.2.0-bin-hadoop3.2/python/docs/source/_templates/autosummary/class.rst\n",
            "spark-3.2.0-bin-hadoop3.2/python/docs/source/_templates/autosummary/class_with_docs.rst\n",
            "spark-3.2.0-bin-hadoop3.2/python/docs/source/_static/\n",
            "spark-3.2.0-bin-hadoop3.2/python/docs/source/_static/copybutton.js\n",
            "spark-3.2.0-bin-hadoop3.2/python/docs/source/_static/css/\n",
            "spark-3.2.0-bin-hadoop3.2/python/docs/source/_static/css/pyspark.css\n",
            "spark-3.2.0-bin-hadoop3.2/python/docs/source/development/\n",
            "spark-3.2.0-bin-hadoop3.2/python/docs/source/development/setting_ide.rst\n",
            "spark-3.2.0-bin-hadoop3.2/python/docs/source/development/index.rst\n",
            "spark-3.2.0-bin-hadoop3.2/python/docs/source/development/debugging.rst\n",
            "spark-3.2.0-bin-hadoop3.2/python/docs/source/development/testing.rst\n",
            "spark-3.2.0-bin-hadoop3.2/python/docs/source/development/contributing.rst\n",
            "spark-3.2.0-bin-hadoop3.2/python/docs/source/user_guide/\n",
            "spark-3.2.0-bin-hadoop3.2/python/docs/source/user_guide/arrow_pandas.rst\n",
            "spark-3.2.0-bin-hadoop3.2/python/docs/source/user_guide/index.rst\n",
            "spark-3.2.0-bin-hadoop3.2/python/docs/source/user_guide/pandas_on_spark/\n",
            "spark-3.2.0-bin-hadoop3.2/python/docs/source/user_guide/pandas_on_spark/types.rst\n",
            "spark-3.2.0-bin-hadoop3.2/python/docs/source/user_guide/pandas_on_spark/best_practices.rst\n",
            "spark-3.2.0-bin-hadoop3.2/python/docs/source/user_guide/pandas_on_spark/options.rst\n",
            "spark-3.2.0-bin-hadoop3.2/python/docs/source/user_guide/pandas_on_spark/pandas_pyspark.rst\n",
            "spark-3.2.0-bin-hadoop3.2/python/docs/source/user_guide/pandas_on_spark/index.rst\n",
            "spark-3.2.0-bin-hadoop3.2/python/docs/source/user_guide/pandas_on_spark/typehints.rst\n",
            "spark-3.2.0-bin-hadoop3.2/python/docs/source/user_guide/pandas_on_spark/transform_apply.rst\n",
            "spark-3.2.0-bin-hadoop3.2/python/docs/source/user_guide/pandas_on_spark/from_to_dbms.rst\n",
            "spark-3.2.0-bin-hadoop3.2/python/docs/source/user_guide/pandas_on_spark/faq.rst\n",
            "spark-3.2.0-bin-hadoop3.2/python/docs/source/user_guide/python_packaging.rst\n",
            "spark-3.2.0-bin-hadoop3.2/python/docs/source/user_guide/sql/\n",
            "spark-3.2.0-bin-hadoop3.2/python/docs/source/user_guide/sql/arrow_pandas.rst\n",
            "spark-3.2.0-bin-hadoop3.2/python/docs/source/user_guide/sql/index.rst\n",
            "spark-3.2.0-bin-hadoop3.2/python/docs/source/migration_guide/\n",
            "spark-3.2.0-bin-hadoop3.2/python/docs/source/migration_guide/pyspark_2.3.0_to_2.3.1_above.rst\n",
            "spark-3.2.0-bin-hadoop3.2/python/docs/source/migration_guide/index.rst\n",
            "spark-3.2.0-bin-hadoop3.2/python/docs/source/migration_guide/pyspark_2.4_to_3.0.rst\n",
            "spark-3.2.0-bin-hadoop3.2/python/docs/source/migration_guide/pyspark_1.0_1.2_to_1.3.rst\n",
            "spark-3.2.0-bin-hadoop3.2/python/docs/source/migration_guide/pyspark_2.3_to_2.4.rst\n",
            "spark-3.2.0-bin-hadoop3.2/python/docs/source/migration_guide/koalas_to_pyspark.rst\n",
            "spark-3.2.0-bin-hadoop3.2/python/docs/source/migration_guide/pyspark_1.4_to_1.5.rst\n",
            "spark-3.2.0-bin-hadoop3.2/python/docs/source/migration_guide/pyspark_2.2_to_2.3.rst\n",
            "spark-3.2.0-bin-hadoop3.2/python/docs/source/migration_guide/pyspark_3.1_to_3.2.rst\n",
            "spark-3.2.0-bin-hadoop3.2/python/docs/make.bat\n",
            "spark-3.2.0-bin-hadoop3.2/python/docs/Makefile\n",
            "spark-3.2.0-bin-hadoop3.2/python/lib/\n",
            "spark-3.2.0-bin-hadoop3.2/python/lib/PY4J_LICENSE.txt\n",
            "spark-3.2.0-bin-hadoop3.2/python/lib/py4j-0.10.9.2-src.zip\n",
            "spark-3.2.0-bin-hadoop3.2/python/lib/pyspark.zip\n",
            "spark-3.2.0-bin-hadoop3.2/python/run-tests\n",
            "spark-3.2.0-bin-hadoop3.2/python/setup.cfg\n",
            "spark-3.2.0-bin-hadoop3.2/python/dist/\n",
            "spark-3.2.0-bin-hadoop3.2/python/pyspark.egg-info/\n",
            "spark-3.2.0-bin-hadoop3.2/python/pyspark.egg-info/dependency_links.txt\n",
            "spark-3.2.0-bin-hadoop3.2/python/pyspark.egg-info/PKG-INFO\n",
            "spark-3.2.0-bin-hadoop3.2/python/pyspark.egg-info/top_level.txt\n",
            "spark-3.2.0-bin-hadoop3.2/python/pyspark.egg-info/requires.txt\n",
            "spark-3.2.0-bin-hadoop3.2/python/pyspark.egg-info/SOURCES.txt\n",
            "spark-3.2.0-bin-hadoop3.2/licenses/\n",
            "spark-3.2.0-bin-hadoop3.2/licenses/LICENSE-respond.txt\n",
            "spark-3.2.0-bin-hadoop3.2/licenses/LICENSE-sbt-launch-lib.txt\n",
            "spark-3.2.0-bin-hadoop3.2/licenses/LICENSE-antlr.txt\n",
            "spark-3.2.0-bin-hadoop3.2/licenses/LICENSE-dagre-d3.txt\n",
            "spark-3.2.0-bin-hadoop3.2/licenses/LICENSE-pyrolite.txt\n",
            "spark-3.2.0-bin-hadoop3.2/licenses/LICENSE-sorttable.js.txt\n",
            "spark-3.2.0-bin-hadoop3.2/licenses/LICENSE-janino.txt\n",
            "spark-3.2.0-bin-hadoop3.2/licenses/LICENSE-protobuf.txt\n",
            "spark-3.2.0-bin-hadoop3.2/licenses/LICENSE-jquery.txt\n",
            "spark-3.2.0-bin-hadoop3.2/licenses/LICENSE-scopt.txt\n",
            "spark-3.2.0-bin-hadoop3.2/licenses/LICENSE-netlib.txt\n",
            "spark-3.2.0-bin-hadoop3.2/licenses/LICENSE-d3.min.js.txt\n",
            "spark-3.2.0-bin-hadoop3.2/licenses/LICENSE-graphlib-dot.txt\n",
            "spark-3.2.0-bin-hadoop3.2/licenses/LICENSE-AnchorJS.txt\n",
            "spark-3.2.0-bin-hadoop3.2/licenses/LICENSE-datatables.txt\n",
            "spark-3.2.0-bin-hadoop3.2/licenses/LICENSE-pmml-model.txt\n",
            "spark-3.2.0-bin-hadoop3.2/licenses/LICENSE-paranamer.txt\n",
            "spark-3.2.0-bin-hadoop3.2/licenses/LICENSE-jakarta-ws-rs-api\n",
            "spark-3.2.0-bin-hadoop3.2/licenses/LICENSE-dnsjava.txt\n",
            "spark-3.2.0-bin-hadoop3.2/licenses/LICENSE-jakarta.xml.bind-api.txt\n",
            "spark-3.2.0-bin-hadoop3.2/licenses/LICENSE-jakarta-annotation-api\n",
            "spark-3.2.0-bin-hadoop3.2/licenses/LICENSE-CC0.txt\n",
            "spark-3.2.0-bin-hadoop3.2/licenses/LICENSE-jodd.txt\n",
            "spark-3.2.0-bin-hadoop3.2/licenses/LICENSE-f2j.txt\n",
            "spark-3.2.0-bin-hadoop3.2/licenses/LICENSE-machinist.txt\n",
            "spark-3.2.0-bin-hadoop3.2/licenses/LICENSE-javolution.txt\n",
            "spark-3.2.0-bin-hadoop3.2/licenses/LICENSE-modernizr.txt\n",
            "spark-3.2.0-bin-hadoop3.2/licenses/LICENSE-spire.txt\n",
            "spark-3.2.0-bin-hadoop3.2/licenses/LICENSE-leveldbjni.txt\n",
            "spark-3.2.0-bin-hadoop3.2/licenses/LICENSE-join.txt\n",
            "spark-3.2.0-bin-hadoop3.2/licenses/LICENSE-zstd-jni.txt\n",
            "spark-3.2.0-bin-hadoop3.2/licenses/LICENSE-slf4j.txt\n",
            "spark-3.2.0-bin-hadoop3.2/licenses/LICENSE-arpack.txt\n",
            "spark-3.2.0-bin-hadoop3.2/licenses/LICENSE-jsp-api.txt\n",
            "spark-3.2.0-bin-hadoop3.2/licenses/LICENSE-JTransforms.txt\n",
            "spark-3.2.0-bin-hadoop3.2/licenses/LICENSE-JLargeArrays.txt\n",
            "spark-3.2.0-bin-hadoop3.2/licenses/LICENSE-bootstrap.txt\n",
            "spark-3.2.0-bin-hadoop3.2/licenses/LICENSE-reflectasm.txt\n",
            "spark-3.2.0-bin-hadoop3.2/licenses/LICENSE-javassist.html\n",
            "spark-3.2.0-bin-hadoop3.2/licenses/LICENSE-zstd.txt\n",
            "spark-3.2.0-bin-hadoop3.2/licenses/LICENSE-json-formatter.txt\n",
            "spark-3.2.0-bin-hadoop3.2/licenses/LICENSE-matchMedia-polyfill.txt\n",
            "spark-3.2.0-bin-hadoop3.2/licenses/LICENSE-scala.txt\n",
            "spark-3.2.0-bin-hadoop3.2/licenses/LICENSE-jakarta.activation-api.txt\n",
            "spark-3.2.0-bin-hadoop3.2/licenses/LICENSE-automaton.txt\n",
            "spark-3.2.0-bin-hadoop3.2/licenses/LICENSE-javax-transaction-transaction-api.txt\n",
            "spark-3.2.0-bin-hadoop3.2/licenses/LICENSE-jaxb-runtime.txt\n",
            "spark-3.2.0-bin-hadoop3.2/licenses/LICENSE-minlog.txt\n",
            "spark-3.2.0-bin-hadoop3.2/licenses/LICENSE-mustache.txt\n",
            "spark-3.2.0-bin-hadoop3.2/licenses/LICENSE-xmlenc.txt\n",
            "spark-3.2.0-bin-hadoop3.2/licenses/LICENSE-jline.txt\n",
            "spark-3.2.0-bin-hadoop3.2/licenses/LICENSE-istack-commons-runtime.txt\n",
            "spark-3.2.0-bin-hadoop3.2/licenses/LICENSE-py4j.txt\n",
            "spark-3.2.0-bin-hadoop3.2/licenses/LICENSE-vis-timeline.txt\n",
            "spark-3.2.0-bin-hadoop3.2/licenses/LICENSE-blas.txt\n",
            "spark-3.2.0-bin-hadoop3.2/licenses/LICENSE-re2j.txt\n",
            "spark-3.2.0-bin-hadoop3.2/licenses/LICENSE-kryo.txt\n",
            "spark-3.2.0-bin-hadoop3.2/licenses/LICENSE-cloudpickle.txt\n"
          ]
        }
      ]
    },
    {
      "cell_type": "markdown",
      "metadata": {
        "id": "Se4Gb9ruaSDR"
      },
      "source": [
        "### Defining environment variables"
      ]
    },
    {
      "cell_type": "code",
      "metadata": {
        "id": "i208MZ-3vq-y"
      },
      "source": [
        "import os\n",
        "\n",
        "os.environ[\"JAVA_HOME\"] = \"/usr/lib/jvm/java-8-openjdk-amd64\"\n",
        "os.environ[\"SPARK_HOME\"] = \"spark-3.2.0-bin-hadoop3.2\""
      ],
      "execution_count": 5,
      "outputs": []
    },
    {
      "cell_type": "markdown",
      "metadata": {
        "id": "aeQ4-XdKabxg"
      },
      "source": [
        "### Validating installation"
      ]
    },
    {
      "cell_type": "code",
      "metadata": {
        "id": "T2XirYvdvfaz"
      },
      "source": [
        "!pip install -q findspark"
      ],
      "execution_count": 6,
      "outputs": []
    },
    {
      "cell_type": "code",
      "metadata": {
        "id": "FyHNu5FZvk2i"
      },
      "source": [
        "import findspark\n",
        "\n",
        "findspark.init()"
      ],
      "execution_count": 7,
      "outputs": []
    },
    {
      "cell_type": "code",
      "metadata": {
        "colab": {
          "base_uri": "https://localhost:8080/",
          "height": 35
        },
        "id": "SQs6ZLB7a6S6",
        "outputId": "832db4f1-fa38-49e7-b37b-b36e4cc12d49"
      },
      "source": [
        "findspark.find()"
      ],
      "execution_count": 8,
      "outputs": [
        {
          "output_type": "execute_result",
          "data": {
            "application/vnd.google.colaboratory.intrinsic+json": {
              "type": "string"
            },
            "text/plain": [
              "'spark-3.2.0-bin-hadoop3.2'"
            ]
          },
          "metadata": {},
          "execution_count": 8
        }
      ]
    },
    {
      "cell_type": "markdown",
      "metadata": {
        "id": "3z3UIBzWbBvL"
      },
      "source": [
        "# Let's get it started 🚀"
      ]
    },
    {
      "cell_type": "markdown",
      "metadata": {
        "id": "gwx0NyaGbOZv"
      },
      "source": [
        "### a. Downloading dataset"
      ]
    },
    {
      "cell_type": "code",
      "metadata": {
        "colab": {
          "base_uri": "https://localhost:8080/"
        },
        "id": "y6CRXwdQbRXl",
        "outputId": "d0a62b76-a032-4051-880b-6f3529800d6b"
      },
      "source": [
        "!wget https://raw.githubusercontent.com/xsansha/Retail-Analytics/main/data/csv/buyers_transaction.csv"
      ],
      "execution_count": 9,
      "outputs": [
        {
          "output_type": "stream",
          "name": "stdout",
          "text": [
            "--2021-11-09 12:45:54--  https://raw.githubusercontent.com/xsansha/Retail-Analytics/main/data/csv/buyers_transaction.csv\n",
            "Resolving raw.githubusercontent.com (raw.githubusercontent.com)... 185.199.111.133, 185.199.108.133, 185.199.110.133, ...\n",
            "Connecting to raw.githubusercontent.com (raw.githubusercontent.com)|185.199.111.133|:443... connected.\n",
            "HTTP request sent, awaiting response... 200 OK\n",
            "Length: 48039726 (46M) [text/plain]\n",
            "Saving to: ‘buyers_transaction.csv’\n",
            "\n",
            "buyers_transaction. 100%[===================>]  45.81M   237MB/s    in 0.2s    \n",
            "\n",
            "2021-11-09 12:45:56 (237 MB/s) - ‘buyers_transaction.csv’ saved [48039726/48039726]\n",
            "\n"
          ]
        }
      ]
    },
    {
      "cell_type": "code",
      "metadata": {
        "colab": {
          "base_uri": "https://localhost:8080/"
        },
        "id": "QpNG4jbecF1Q",
        "outputId": "7b0688e3-0a0d-4dd5-cc9b-c839c9a5fa94"
      },
      "source": [
        "!ls -ltr"
      ],
      "execution_count": 10,
      "outputs": [
        {
          "output_type": "stream",
          "name": "stdout",
          "text": [
            "total 340844\n",
            "drwxr-xr-x 13 1000 1000      4096 Oct  6 13:18 spark-3.2.0-bin-hadoop3.2\n",
            "-rw-r--r--  1 root root 300965906 Oct  6 13:50 spark-3.2.0-bin-hadoop3.2.tgz\n",
            "drwxr-xr-x  1 root root      4096 Nov  1 13:35 sample_data\n",
            "-rw-r--r--  1 root root  48039726 Nov  9 12:45 buyers_transaction.csv\n"
          ]
        }
      ]
    },
    {
      "cell_type": "markdown",
      "metadata": {
        "id": "qK2lg24LbVMr"
      },
      "source": [
        "### b. Time to show some Spark (PySpark) 🙂"
      ]
    },
    {
      "cell_type": "code",
      "metadata": {
        "colab": {
          "base_uri": "https://localhost:8080/",
          "height": 35
        },
        "id": "C0ugeXXSBZgA",
        "outputId": "e4868eac-3de1-4a11-c109-04db4be524c7"
      },
      "source": [
        "import pyspark\n",
        "\n",
        "pyspark.__version__"
      ],
      "execution_count": 11,
      "outputs": [
        {
          "output_type": "execute_result",
          "data": {
            "application/vnd.google.colaboratory.intrinsic+json": {
              "type": "string"
            },
            "text/plain": [
              "'3.2.0'"
            ]
          },
          "metadata": {},
          "execution_count": 11
        }
      ]
    },
    {
      "cell_type": "code",
      "metadata": {
        "id": "nz_neJBfrsH1"
      },
      "source": [
        "from pyspark.sql import SparkSession\n",
        "from pyspark.sql import functions as F\n",
        "from pyspark.sql.types import *\n",
        "\n",
        "import matplotlib.pyplot as plt\n",
        "\n",
        "plt.style.use(\"seaborn\")"
      ],
      "execution_count": 12,
      "outputs": []
    },
    {
      "cell_type": "code",
      "metadata": {
        "id": "TnMBkdBYrvnF"
      },
      "source": [
        "sc = SparkSession.builder.appName(\"pyspark_test\").getOrCreate()"
      ],
      "execution_count": 13,
      "outputs": []
    },
    {
      "cell_type": "markdown",
      "metadata": {
        "id": "SFnmg3XoRWkr"
      },
      "source": [
        "#### Defining config"
      ]
    },
    {
      "cell_type": "code",
      "metadata": {
        "id": "iQbiOSeYRcI7"
      },
      "source": [
        "sc.conf.set(\"spark.sql.execution.arrow.enabled\", \"true\")"
      ],
      "execution_count": 14,
      "outputs": []
    },
    {
      "cell_type": "markdown",
      "metadata": {
        "id": "HqlF-6jCs2jF"
      },
      "source": [
        "#### i. Loading CSV"
      ]
    },
    {
      "cell_type": "code",
      "metadata": {
        "id": "xsU-culHAUA7"
      },
      "source": [
        "df = sc.read.csv(\"buyers_transaction.csv\", header=True, inferSchema=True)"
      ],
      "execution_count": 15,
      "outputs": []
    },
    {
      "cell_type": "code",
      "metadata": {
        "colab": {
          "base_uri": "https://localhost:8080/"
        },
        "id": "jWeQpcJkTllI",
        "outputId": "018759be-362d-498d-9757-a00d3c66c862"
      },
      "source": [
        "type(df)"
      ],
      "execution_count": 16,
      "outputs": [
        {
          "output_type": "execute_result",
          "data": {
            "text/plain": [
              "pyspark.sql.dataframe.DataFrame"
            ]
          },
          "metadata": {},
          "execution_count": 16
        }
      ]
    },
    {
      "cell_type": "markdown",
      "metadata": {
        "id": "WrJwAiWPAiTT"
      },
      "source": [
        "#### ii. Inspecting head and tail of Dataframe"
      ]
    },
    {
      "cell_type": "code",
      "metadata": {
        "colab": {
          "base_uri": "https://localhost:8080/"
        },
        "id": "0aiM1spFAyuM",
        "outputId": "2960f94a-5c81-4662-859c-0094bf8f659e"
      },
      "source": [
        "# By default it is set to show 20 records\n",
        "df.show()"
      ],
      "execution_count": 17,
      "outputs": [
        {
          "output_type": "stream",
          "name": "stdout",
          "text": [
            "+---------+---------+--------------------+--------+-------------------+---------+----------+--------------+\n",
            "|InvoiceNo|StockCode|         Description|Quantity|        InvoiceDate|UnitPrice|CustomerID|       Country|\n",
            "+---------+---------+--------------------+--------+-------------------+---------+----------+--------------+\n",
            "|   536365|   85123A|WHITE HANGING HEA...|       6|2010-12-01 08:26:00|     2.55|   17850.0|United Kingdom|\n",
            "|   536365|    71053| WHITE METAL LANTERN|       6|2010-12-01 08:26:00|     3.39|   17850.0|United Kingdom|\n",
            "|   536365|   84406B|CREAM CUPID HEART...|       8|2010-12-01 08:26:00|     2.75|   17850.0|United Kingdom|\n",
            "|   536365|   84029G|KNITTED UNION FLA...|       6|2010-12-01 08:26:00|     3.39|   17850.0|United Kingdom|\n",
            "|   536365|   84029E|RED WOOLLY HOTTIE...|       6|2010-12-01 08:26:00|     3.39|   17850.0|United Kingdom|\n",
            "|   536365|    22752|SET 7 BABUSHKA NE...|       2|2010-12-01 08:26:00|     7.65|   17850.0|United Kingdom|\n",
            "|   536365|    21730|GLASS STAR FROSTE...|       6|2010-12-01 08:26:00|     4.25|   17850.0|United Kingdom|\n",
            "|   536366|    22633|HAND WARMER UNION...|       6|2010-12-01 08:28:00|     1.85|   17850.0|United Kingdom|\n",
            "|   536366|    22632|HAND WARMER RED P...|       6|2010-12-01 08:28:00|     1.85|   17850.0|United Kingdom|\n",
            "|   536367|    84879|ASSORTED COLOUR B...|      32|2010-12-01 08:34:00|     1.69|   13047.0|United Kingdom|\n",
            "|   536367|    22745|POPPY'S PLAYHOUSE...|       6|2010-12-01 08:34:00|      2.1|   13047.0|United Kingdom|\n",
            "|   536367|    22748|POPPY'S PLAYHOUSE...|       6|2010-12-01 08:34:00|      2.1|   13047.0|United Kingdom|\n",
            "|   536367|    22749|FELTCRAFT PRINCES...|       8|2010-12-01 08:34:00|     3.75|   13047.0|United Kingdom|\n",
            "|   536367|    22310|IVORY KNITTED MUG...|       6|2010-12-01 08:34:00|     1.65|   13047.0|United Kingdom|\n",
            "|   536367|    84969|BOX OF 6 ASSORTED...|       6|2010-12-01 08:34:00|     4.25|   13047.0|United Kingdom|\n",
            "|   536367|    22623|BOX OF VINTAGE JI...|       3|2010-12-01 08:34:00|     4.95|   13047.0|United Kingdom|\n",
            "|   536367|    22622|BOX OF VINTAGE AL...|       2|2010-12-01 08:34:00|     9.95|   13047.0|United Kingdom|\n",
            "|   536367|    21754|HOME BUILDING BLO...|       3|2010-12-01 08:34:00|     5.95|   13047.0|United Kingdom|\n",
            "|   536367|    21755|LOVE BUILDING BLO...|       3|2010-12-01 08:34:00|     5.95|   13047.0|United Kingdom|\n",
            "|   536367|    21777|RECIPE BOX WITH M...|       4|2010-12-01 08:34:00|     7.95|   13047.0|United Kingdom|\n",
            "+---------+---------+--------------------+--------+-------------------+---------+----------+--------------+\n",
            "only showing top 20 rows\n",
            "\n"
          ]
        }
      ]
    },
    {
      "cell_type": "code",
      "metadata": {
        "colab": {
          "base_uri": "https://localhost:8080/"
        },
        "id": "8JfAv1TDA-qG",
        "outputId": "80d13922-d0eb-4e87-a2fd-ed7250a710e9"
      },
      "source": [
        "df.show(5)"
      ],
      "execution_count": 18,
      "outputs": [
        {
          "output_type": "stream",
          "name": "stdout",
          "text": [
            "+---------+---------+--------------------+--------+-------------------+---------+----------+--------------+\n",
            "|InvoiceNo|StockCode|         Description|Quantity|        InvoiceDate|UnitPrice|CustomerID|       Country|\n",
            "+---------+---------+--------------------+--------+-------------------+---------+----------+--------------+\n",
            "|   536365|   85123A|WHITE HANGING HEA...|       6|2010-12-01 08:26:00|     2.55|   17850.0|United Kingdom|\n",
            "|   536365|    71053| WHITE METAL LANTERN|       6|2010-12-01 08:26:00|     3.39|   17850.0|United Kingdom|\n",
            "|   536365|   84406B|CREAM CUPID HEART...|       8|2010-12-01 08:26:00|     2.75|   17850.0|United Kingdom|\n",
            "|   536365|   84029G|KNITTED UNION FLA...|       6|2010-12-01 08:26:00|     3.39|   17850.0|United Kingdom|\n",
            "|   536365|   84029E|RED WOOLLY HOTTIE...|       6|2010-12-01 08:26:00|     3.39|   17850.0|United Kingdom|\n",
            "+---------+---------+--------------------+--------+-------------------+---------+----------+--------------+\n",
            "only showing top 5 rows\n",
            "\n"
          ]
        }
      ]
    },
    {
      "cell_type": "code",
      "metadata": {
        "colab": {
          "base_uri": "https://localhost:8080/"
        },
        "id": "wds-r5WiBDvU",
        "outputId": "30fa8da8-0147-4ef6-eb26-918207a04e49"
      },
      "source": [
        "df.tail(5)"
      ],
      "execution_count": 19,
      "outputs": [
        {
          "output_type": "execute_result",
          "data": {
            "text/plain": [
              "[Row(InvoiceNo='581587', StockCode='22613', Description='PACK OF 20 SPACEBOY NAPKINS', Quantity=12, InvoiceDate='2011-12-09 12:50:00', UnitPrice=0.85, CustomerID=12680.0, Country='France'),\n",
              " Row(InvoiceNo='581587', StockCode='22899', Description=\"CHILDREN'S APRON DOLLY GIRL \", Quantity=6, InvoiceDate='2011-12-09 12:50:00', UnitPrice=2.1, CustomerID=12680.0, Country='France'),\n",
              " Row(InvoiceNo='581587', StockCode='23254', Description='CHILDRENS CUTLERY DOLLY GIRL ', Quantity=4, InvoiceDate='2011-12-09 12:50:00', UnitPrice=4.15, CustomerID=12680.0, Country='France'),\n",
              " Row(InvoiceNo='581587', StockCode='23255', Description='CHILDRENS CUTLERY CIRCUS PARADE', Quantity=4, InvoiceDate='2011-12-09 12:50:00', UnitPrice=4.15, CustomerID=12680.0, Country='France'),\n",
              " Row(InvoiceNo='581587', StockCode='22138', Description='BAKING SET 9 PIECE RETROSPOT ', Quantity=3, InvoiceDate='2011-12-09 12:50:00', UnitPrice=4.95, CustomerID=12680.0, Country='France')]"
            ]
          },
          "metadata": {},
          "execution_count": 19
        }
      ]
    },
    {
      "cell_type": "markdown",
      "metadata": {
        "id": "IyqLjYPeBHrd"
      },
      "source": [
        "**Note:** `tail()` is introduced from `PySpark 3.0.0`"
      ]
    },
    {
      "cell_type": "markdown",
      "metadata": {
        "id": "arwTG97eBewR"
      },
      "source": [
        "#### iii. Inspecting dataset schema"
      ]
    },
    {
      "cell_type": "code",
      "metadata": {
        "colab": {
          "base_uri": "https://localhost:8080/"
        },
        "id": "Y9mD26FhB2RT",
        "outputId": "4e4aa7fa-4219-47e2-b956-fbb93d650923"
      },
      "source": [
        "df.printSchema()"
      ],
      "execution_count": 20,
      "outputs": [
        {
          "output_type": "stream",
          "name": "stdout",
          "text": [
            "root\n",
            " |-- InvoiceNo: string (nullable = true)\n",
            " |-- StockCode: string (nullable = true)\n",
            " |-- Description: string (nullable = true)\n",
            " |-- Quantity: integer (nullable = true)\n",
            " |-- InvoiceDate: string (nullable = true)\n",
            " |-- UnitPrice: double (nullable = true)\n",
            " |-- CustomerID: double (nullable = true)\n",
            " |-- Country: string (nullable = true)\n",
            "\n"
          ]
        }
      ]
    },
    {
      "cell_type": "code",
      "metadata": {
        "colab": {
          "base_uri": "https://localhost:8080/"
        },
        "id": "_Sit72EeB4p7",
        "outputId": "0c177c96-8d97-4f91-dd99-e600b1ac9d1c"
      },
      "source": [
        "df.dtypes"
      ],
      "execution_count": 21,
      "outputs": [
        {
          "output_type": "execute_result",
          "data": {
            "text/plain": [
              "[('InvoiceNo', 'string'),\n",
              " ('StockCode', 'string'),\n",
              " ('Description', 'string'),\n",
              " ('Quantity', 'int'),\n",
              " ('InvoiceDate', 'string'),\n",
              " ('UnitPrice', 'double'),\n",
              " ('CustomerID', 'double'),\n",
              " ('Country', 'string')]"
            ]
          },
          "metadata": {},
          "execution_count": 21
        }
      ]
    },
    {
      "cell_type": "markdown",
      "metadata": {
        "id": "XYb2McBdFb-Y"
      },
      "source": [
        "#### iv. Row count"
      ]
    },
    {
      "cell_type": "code",
      "metadata": {
        "colab": {
          "base_uri": "https://localhost:8080/"
        },
        "id": "7-BOzWVCCdHm",
        "outputId": "8a97e6a6-5f6a-465a-c077-2b2304a834fc"
      },
      "source": [
        "df.count()"
      ],
      "execution_count": 22,
      "outputs": [
        {
          "output_type": "execute_result",
          "data": {
            "text/plain": [
              "541909"
            ]
          },
          "metadata": {},
          "execution_count": 22
        }
      ]
    },
    {
      "cell_type": "markdown",
      "metadata": {
        "id": "gdN8TberGGVD"
      },
      "source": [
        "#### v. List of columns"
      ]
    },
    {
      "cell_type": "code",
      "metadata": {
        "colab": {
          "base_uri": "https://localhost:8080/"
        },
        "id": "558eNB8zCzWt",
        "outputId": "2c33ca73-4d04-4b0d-9afa-69e849623aaa"
      },
      "source": [
        "df.columns"
      ],
      "execution_count": 23,
      "outputs": [
        {
          "output_type": "execute_result",
          "data": {
            "text/plain": [
              "['InvoiceNo',\n",
              " 'StockCode',\n",
              " 'Description',\n",
              " 'Quantity',\n",
              " 'InvoiceDate',\n",
              " 'UnitPrice',\n",
              " 'CustomerID',\n",
              " 'Country']"
            ]
          },
          "metadata": {},
          "execution_count": 23
        }
      ]
    },
    {
      "cell_type": "markdown",
      "metadata": {
        "id": "ql1T504oCT2G"
      },
      "source": [
        "#### vi. Renaming columns"
      ]
    },
    {
      "cell_type": "code",
      "metadata": {
        "colab": {
          "base_uri": "https://localhost:8080/"
        },
        "id": "fJ54al-rCXVG",
        "outputId": "045ce358-ec09-48bb-e53e-66b9c6f351ef"
      },
      "source": [
        "df1 = df.select(\n",
        "    F.col(\"InvoiceNo\").alias(\"invoice_no\"),\n",
        "    F.col(\"StockCode\").alias(\"stock_code\"),\n",
        "    F.col(\"Description\").alias(\"description\"),\n",
        "    F.col(\"Quantity\").alias(\"quantity\"),\n",
        "    F.col(\"InvoiceDate\").alias(\"invoice_date\"),\n",
        "    F.col(\"UnitPrice\").alias(\"unit_price\"),\n",
        "    F.col(\"CustomerID\").alias(\"customer_id\"),\n",
        "    F.col(\"Country\").alias(\"country\"))\n",
        "\n",
        "df1.show(5)"
      ],
      "execution_count": 24,
      "outputs": [
        {
          "output_type": "stream",
          "name": "stdout",
          "text": [
            "+----------+----------+--------------------+--------+-------------------+----------+-----------+--------------+\n",
            "|invoice_no|stock_code|         description|quantity|       invoice_date|unit_price|customer_id|       country|\n",
            "+----------+----------+--------------------+--------+-------------------+----------+-----------+--------------+\n",
            "|    536365|    85123A|WHITE HANGING HEA...|       6|2010-12-01 08:26:00|      2.55|    17850.0|United Kingdom|\n",
            "|    536365|     71053| WHITE METAL LANTERN|       6|2010-12-01 08:26:00|      3.39|    17850.0|United Kingdom|\n",
            "|    536365|    84406B|CREAM CUPID HEART...|       8|2010-12-01 08:26:00|      2.75|    17850.0|United Kingdom|\n",
            "|    536365|    84029G|KNITTED UNION FLA...|       6|2010-12-01 08:26:00|      3.39|    17850.0|United Kingdom|\n",
            "|    536365|    84029E|RED WOOLLY HOTTIE...|       6|2010-12-01 08:26:00|      3.39|    17850.0|United Kingdom|\n",
            "+----------+----------+--------------------+--------+-------------------+----------+-----------+--------------+\n",
            "only showing top 5 rows\n",
            "\n"
          ]
        }
      ]
    },
    {
      "cell_type": "code",
      "metadata": {
        "colab": {
          "base_uri": "https://localhost:8080/"
        },
        "id": "rZNTiXEcFEnW",
        "outputId": "20e798ac-d667-4520-e16d-fd64236062a1"
      },
      "source": [
        "cols_name_mapping = [\n",
        "    F.col(\"InvoiceNo\").alias(\"invoice_no\"),\n",
        "    F.col(\"StockCode\").alias(\"stock_code\"),\n",
        "    F.col(\"Description\").alias(\"description\"),\n",
        "    F.col(\"Quantity\").alias(\"quantity\"),\n",
        "    F.col(\"InvoiceDate\").alias(\"invoice_date\"),\n",
        "    F.col(\"UnitPrice\").alias(\"unit_price\"),\n",
        "    F.col(\"CustomerID\").alias(\"customer_id\"),\n",
        "    F.col(\"Country\").alias(\"country\")\n",
        "]\n",
        "\n",
        "df2 = df.select(*cols_name_mapping)\n",
        "\n",
        "df2.show(5)"
      ],
      "execution_count": 25,
      "outputs": [
        {
          "output_type": "stream",
          "name": "stdout",
          "text": [
            "+----------+----------+--------------------+--------+-------------------+----------+-----------+--------------+\n",
            "|invoice_no|stock_code|         description|quantity|       invoice_date|unit_price|customer_id|       country|\n",
            "+----------+----------+--------------------+--------+-------------------+----------+-----------+--------------+\n",
            "|    536365|    85123A|WHITE HANGING HEA...|       6|2010-12-01 08:26:00|      2.55|    17850.0|United Kingdom|\n",
            "|    536365|     71053| WHITE METAL LANTERN|       6|2010-12-01 08:26:00|      3.39|    17850.0|United Kingdom|\n",
            "|    536365|    84406B|CREAM CUPID HEART...|       8|2010-12-01 08:26:00|      2.75|    17850.0|United Kingdom|\n",
            "|    536365|    84029G|KNITTED UNION FLA...|       6|2010-12-01 08:26:00|      3.39|    17850.0|United Kingdom|\n",
            "|    536365|    84029E|RED WOOLLY HOTTIE...|       6|2010-12-01 08:26:00|      3.39|    17850.0|United Kingdom|\n",
            "+----------+----------+--------------------+--------+-------------------+----------+-----------+--------------+\n",
            "only showing top 5 rows\n",
            "\n"
          ]
        }
      ]
    },
    {
      "cell_type": "markdown",
      "metadata": {
        "id": "CCDjWgjtGQui"
      },
      "source": [
        "#### vii. Changing data type of columns"
      ]
    },
    {
      "cell_type": "code",
      "metadata": {
        "colab": {
          "base_uri": "https://localhost:8080/"
        },
        "id": "YnBekyGEG2fQ",
        "outputId": "d3ec6bf5-0773-4f94-b8d0-299c4bc98f2b"
      },
      "source": [
        "df1.printSchema()"
      ],
      "execution_count": 26,
      "outputs": [
        {
          "output_type": "stream",
          "name": "stdout",
          "text": [
            "root\n",
            " |-- invoice_no: string (nullable = true)\n",
            " |-- stock_code: string (nullable = true)\n",
            " |-- description: string (nullable = true)\n",
            " |-- quantity: integer (nullable = true)\n",
            " |-- invoice_date: string (nullable = true)\n",
            " |-- unit_price: double (nullable = true)\n",
            " |-- customer_id: double (nullable = true)\n",
            " |-- country: string (nullable = true)\n",
            "\n"
          ]
        }
      ]
    },
    {
      "cell_type": "code",
      "metadata": {
        "colab": {
          "base_uri": "https://localhost:8080/"
        },
        "id": "J1z-FjbzG5So",
        "outputId": "f2575e79-2a0f-4a1e-8a71-95315b47da1f"
      },
      "source": [
        "# Single column\n",
        "df3 = df1.withColumn(\"invoice_date\", F.col(\"invoice_date\").cast(TimestampType()))\n",
        "\n",
        "df3.printSchema()"
      ],
      "execution_count": 27,
      "outputs": [
        {
          "output_type": "stream",
          "name": "stdout",
          "text": [
            "root\n",
            " |-- invoice_no: string (nullable = true)\n",
            " |-- stock_code: string (nullable = true)\n",
            " |-- description: string (nullable = true)\n",
            " |-- quantity: integer (nullable = true)\n",
            " |-- invoice_date: timestamp (nullable = true)\n",
            " |-- unit_price: double (nullable = true)\n",
            " |-- customer_id: double (nullable = true)\n",
            " |-- country: string (nullable = true)\n",
            "\n"
          ]
        }
      ]
    },
    {
      "cell_type": "code",
      "metadata": {
        "colab": {
          "base_uri": "https://localhost:8080/"
        },
        "id": "IH8cKFdTIOhP",
        "outputId": "468a5902-fead-4d99-9f03-605fdea8ee33"
      },
      "source": [
        "# Multiple columns via chaining\n",
        "\n",
        "df4 = df1.withColumn(\"invoice_date\", F.col(\"invoice_date\").cast(TimestampType())) \\\n",
        "  .withColumn(\"quantity\", F.col(\"quantity\").cast(FloatType()))\n",
        "\n",
        "df4.printSchema()"
      ],
      "execution_count": 28,
      "outputs": [
        {
          "output_type": "stream",
          "name": "stdout",
          "text": [
            "root\n",
            " |-- invoice_no: string (nullable = true)\n",
            " |-- stock_code: string (nullable = true)\n",
            " |-- description: string (nullable = true)\n",
            " |-- quantity: float (nullable = true)\n",
            " |-- invoice_date: timestamp (nullable = true)\n",
            " |-- unit_price: double (nullable = true)\n",
            " |-- customer_id: double (nullable = true)\n",
            " |-- country: string (nullable = true)\n",
            "\n"
          ]
        }
      ]
    },
    {
      "cell_type": "markdown",
      "metadata": {
        "id": "2vxdb6BLKTpb"
      },
      "source": [
        "#### viii. Wrangling the dataframe"
      ]
    },
    {
      "cell_type": "code",
      "metadata": {
        "id": "lNbOH6zfRIe6"
      },
      "source": [
        "df3.createOrReplaceTempView(\"sales\")"
      ],
      "execution_count": 29,
      "outputs": []
    },
    {
      "cell_type": "code",
      "metadata": {
        "colab": {
          "base_uri": "https://localhost:8080/"
        },
        "id": "vOdtyjPCSSiR",
        "outputId": "cd972197-ac9b-4cde-ad7e-5b85f83a9090"
      },
      "source": [
        "sc.sql(\"\"\"\n",
        "  SELECT *\n",
        "  FROM sales\n",
        "  LIMIT 5\n",
        "\"\"\").show()"
      ],
      "execution_count": 30,
      "outputs": [
        {
          "output_type": "stream",
          "name": "stdout",
          "text": [
            "+----------+----------+--------------------+--------+-------------------+----------+-----------+--------------+\n",
            "|invoice_no|stock_code|         description|quantity|       invoice_date|unit_price|customer_id|       country|\n",
            "+----------+----------+--------------------+--------+-------------------+----------+-----------+--------------+\n",
            "|    536365|    85123A|WHITE HANGING HEA...|       6|2010-12-01 08:26:00|      2.55|    17850.0|United Kingdom|\n",
            "|    536365|     71053| WHITE METAL LANTERN|       6|2010-12-01 08:26:00|      3.39|    17850.0|United Kingdom|\n",
            "|    536365|    84406B|CREAM CUPID HEART...|       8|2010-12-01 08:26:00|      2.75|    17850.0|United Kingdom|\n",
            "|    536365|    84029G|KNITTED UNION FLA...|       6|2010-12-01 08:26:00|      3.39|    17850.0|United Kingdom|\n",
            "|    536365|    84029E|RED WOOLLY HOTTIE...|       6|2010-12-01 08:26:00|      3.39|    17850.0|United Kingdom|\n",
            "+----------+----------+--------------------+--------+-------------------+----------+-----------+--------------+\n",
            "\n"
          ]
        }
      ]
    },
    {
      "cell_type": "markdown",
      "metadata": {
        "id": "f3fOdpDVRlss"
      },
      "source": [
        "##### a. Selecting specific columns"
      ]
    },
    {
      "cell_type": "code",
      "metadata": {
        "colab": {
          "base_uri": "https://localhost:8080/"
        },
        "id": "XmdyKLvzRQbR",
        "outputId": "3e46044f-796f-45ad-e2dc-8449e7547ea0"
      },
      "source": [
        "sc.sql(\"\"\"\n",
        "SELECT invoice_date, unit_price, country\n",
        "FROM sales\n",
        "\"\"\").show()"
      ],
      "execution_count": 31,
      "outputs": [
        {
          "output_type": "stream",
          "name": "stdout",
          "text": [
            "+-------------------+----------+--------------+\n",
            "|       invoice_date|unit_price|       country|\n",
            "+-------------------+----------+--------------+\n",
            "|2010-12-01 08:26:00|      2.55|United Kingdom|\n",
            "|2010-12-01 08:26:00|      3.39|United Kingdom|\n",
            "|2010-12-01 08:26:00|      2.75|United Kingdom|\n",
            "|2010-12-01 08:26:00|      3.39|United Kingdom|\n",
            "|2010-12-01 08:26:00|      3.39|United Kingdom|\n",
            "|2010-12-01 08:26:00|      7.65|United Kingdom|\n",
            "|2010-12-01 08:26:00|      4.25|United Kingdom|\n",
            "|2010-12-01 08:28:00|      1.85|United Kingdom|\n",
            "|2010-12-01 08:28:00|      1.85|United Kingdom|\n",
            "|2010-12-01 08:34:00|      1.69|United Kingdom|\n",
            "|2010-12-01 08:34:00|       2.1|United Kingdom|\n",
            "|2010-12-01 08:34:00|       2.1|United Kingdom|\n",
            "|2010-12-01 08:34:00|      3.75|United Kingdom|\n",
            "|2010-12-01 08:34:00|      1.65|United Kingdom|\n",
            "|2010-12-01 08:34:00|      4.25|United Kingdom|\n",
            "|2010-12-01 08:34:00|      4.95|United Kingdom|\n",
            "|2010-12-01 08:34:00|      9.95|United Kingdom|\n",
            "|2010-12-01 08:34:00|      5.95|United Kingdom|\n",
            "|2010-12-01 08:34:00|      5.95|United Kingdom|\n",
            "|2010-12-01 08:34:00|      7.95|United Kingdom|\n",
            "+-------------------+----------+--------------+\n",
            "only showing top 20 rows\n",
            "\n"
          ]
        }
      ]
    },
    {
      "cell_type": "code",
      "metadata": {
        "colab": {
          "base_uri": "https://localhost:8080/"
        },
        "id": "kOGKJ2pzQyJI",
        "outputId": "a6395d99-e053-4c30-a0f0-8ca35ecac24e"
      },
      "source": [
        "df3.select(\"invoice_date\", \"unit_price\", \"country\").show()"
      ],
      "execution_count": 32,
      "outputs": [
        {
          "output_type": "stream",
          "name": "stdout",
          "text": [
            "+-------------------+----------+--------------+\n",
            "|       invoice_date|unit_price|       country|\n",
            "+-------------------+----------+--------------+\n",
            "|2010-12-01 08:26:00|      2.55|United Kingdom|\n",
            "|2010-12-01 08:26:00|      3.39|United Kingdom|\n",
            "|2010-12-01 08:26:00|      2.75|United Kingdom|\n",
            "|2010-12-01 08:26:00|      3.39|United Kingdom|\n",
            "|2010-12-01 08:26:00|      3.39|United Kingdom|\n",
            "|2010-12-01 08:26:00|      7.65|United Kingdom|\n",
            "|2010-12-01 08:26:00|      4.25|United Kingdom|\n",
            "|2010-12-01 08:28:00|      1.85|United Kingdom|\n",
            "|2010-12-01 08:28:00|      1.85|United Kingdom|\n",
            "|2010-12-01 08:34:00|      1.69|United Kingdom|\n",
            "|2010-12-01 08:34:00|       2.1|United Kingdom|\n",
            "|2010-12-01 08:34:00|       2.1|United Kingdom|\n",
            "|2010-12-01 08:34:00|      3.75|United Kingdom|\n",
            "|2010-12-01 08:34:00|      1.65|United Kingdom|\n",
            "|2010-12-01 08:34:00|      4.25|United Kingdom|\n",
            "|2010-12-01 08:34:00|      4.95|United Kingdom|\n",
            "|2010-12-01 08:34:00|      9.95|United Kingdom|\n",
            "|2010-12-01 08:34:00|      5.95|United Kingdom|\n",
            "|2010-12-01 08:34:00|      5.95|United Kingdom|\n",
            "|2010-12-01 08:34:00|      7.95|United Kingdom|\n",
            "+-------------------+----------+--------------+\n",
            "only showing top 20 rows\n",
            "\n"
          ]
        }
      ]
    },
    {
      "cell_type": "markdown",
      "metadata": {
        "id": "eaXiFKUcVxuc"
      },
      "source": [
        "##### c. Sorting the data"
      ]
    },
    {
      "cell_type": "code",
      "metadata": {
        "colab": {
          "base_uri": "https://localhost:8080/"
        },
        "id": "AO27ejn5V0k9",
        "outputId": "5dd56885-1613-4030-abf3-c6b464592e8f"
      },
      "source": [
        "sc.sql(\"\"\"\n",
        "  SELECT *\n",
        "  FROM sales\n",
        "  ORDER BY country, invoice_date\n",
        "\"\"\").show()"
      ],
      "execution_count": 33,
      "outputs": [
        {
          "output_type": "stream",
          "name": "stdout",
          "text": [
            "+----------+----------+--------------------+--------+-------------------+----------+-----------+---------+\n",
            "|invoice_no|stock_code|         description|quantity|       invoice_date|unit_price|customer_id|  country|\n",
            "+----------+----------+--------------------+--------+-------------------+----------+-----------+---------+\n",
            "|    536389|    85014A|BLACK/BLUE POLKAD...|       3|2010-12-01 10:03:00|      5.95|    12431.0|Australia|\n",
            "|    536389|     22726|ALARM CLOCK BAKEL...|       4|2010-12-01 10:03:00|      3.75|    12431.0|Australia|\n",
            "|    536389|     22727|ALARM CLOCK BAKEL...|       4|2010-12-01 10:03:00|      3.75|    12431.0|Australia|\n",
            "|    536389|     22196|SMALL HEART MEASU...|      24|2010-12-01 10:03:00|      0.85|    12431.0|Australia|\n",
            "|    536389|    85014B|RED RETROSPOT UMB...|       6|2010-12-01 10:03:00|      5.95|    12431.0|Australia|\n",
            "|    536389|    35004C|SET OF 3 COLOURED...|       6|2010-12-01 10:03:00|      5.45|    12431.0|Australia|\n",
            "|    536389|     22941|CHRISTMAS LIGHTS ...|       6|2010-12-01 10:03:00|       8.5|    12431.0|Australia|\n",
            "|    536389|     21791|VINTAGE HEADS AND...|      12|2010-12-01 10:03:00|      1.25|    12431.0|Australia|\n",
            "|    536389|     22195|LARGE HEART MEASU...|      24|2010-12-01 10:03:00|      1.65|    12431.0|Australia|\n",
            "|    536389|     22193|RED DINER WALL CLOCK|       2|2010-12-01 10:03:00|       8.5|    12431.0|Australia|\n",
            "|    536389|     21622|VINTAGE UNION JAC...|       8|2010-12-01 10:03:00|      4.95|    12431.0|Australia|\n",
            "|    536389|     22192|BLUE DINER WALL C...|       2|2010-12-01 10:03:00|       8.5|    12431.0|Australia|\n",
            "|    536389|     22191|IVORY DINER WALL ...|       2|2010-12-01 10:03:00|       8.5|    12431.0|Australia|\n",
            "|    536389|    35004G|SET OF 3 GOLD FLY...|       4|2010-12-01 10:03:00|      6.35|    12431.0|Australia|\n",
            "|    537676|     22926|IVORY GIANT GARDE...|      12|2010-12-08 09:53:00|      5.95|    12386.0|Australia|\n",
            "|    537676|     22567|20 DOLLY PEGS RET...|      24|2010-12-08 09:53:00|      1.25|    12386.0|Australia|\n",
            "|    537676|     22915|ASSORTED BOTTLE T...|     120|2010-12-08 09:53:00|      0.36|    12386.0|Australia|\n",
            "|    537676|     22953|BIRTHDAY PARTY CO...|      24|2010-12-08 09:53:00|      1.25|    12386.0|Australia|\n",
            "|    537676|     22495|SET OF 2 ROUND TI...|       6|2010-12-08 09:53:00|      2.95|    12386.0|Australia|\n",
            "|    537676|     21906|PHARMACIE FIRST A...|       4|2010-12-08 09:53:00|      6.75|    12386.0|Australia|\n",
            "+----------+----------+--------------------+--------+-------------------+----------+-----------+---------+\n",
            "only showing top 20 rows\n",
            "\n"
          ]
        }
      ]
    },
    {
      "cell_type": "code",
      "metadata": {
        "colab": {
          "base_uri": "https://localhost:8080/"
        },
        "id": "7tEMg7UTWYAe",
        "outputId": "11d069c8-b007-4676-c01c-4e6f3c1798ce"
      },
      "source": [
        "df3.sort(\"country\", \"invoice_date\", ascending=[1, 0]).show()"
      ],
      "execution_count": 34,
      "outputs": [
        {
          "output_type": "stream",
          "name": "stdout",
          "text": [
            "+----------+----------+--------------------+--------+-------------------+----------+-----------+---------+\n",
            "|invoice_no|stock_code|         description|quantity|       invoice_date|unit_price|customer_id|  country|\n",
            "+----------+----------+--------------------+--------+-------------------+----------+-----------+---------+\n",
            "|    578459|     22338|STAR DECORATION P...|      96|2011-11-24 12:30:00|      0.19|    12388.0|Australia|\n",
            "|    578459|     22576|SWALLOW WOODEN CH...|      20|2011-11-24 12:30:00|      0.85|    12388.0|Australia|\n",
            "|    578459|     22910|PAPER CHAIN KIT V...|      20|2011-11-24 12:30:00|      2.95|    12388.0|Australia|\n",
            "|    578459|     22580|ADVENT CALENDAR G...|      12|2011-11-24 12:30:00|      5.95|    12388.0|Australia|\n",
            "|    578459|     22669|   RED BABY BUNTING |      12|2011-11-24 12:30:00|      2.95|    12388.0|Australia|\n",
            "|    578459|     22600|CHRISTMAS RETROSP...|      20|2011-11-24 12:30:00|      0.85|    12388.0|Australia|\n",
            "|    578459|     22086|PAPER CHAIN KIT 5...|      20|2011-11-24 12:30:00|      2.95|    12388.0|Australia|\n",
            "|    578459|     22340|NOEL GARLAND PAIN...|      24|2011-11-24 12:30:00|      0.39|    12388.0|Australia|\n",
            "|    576586|     23084|  RABBIT NIGHT LIGHT|     240|2011-11-15 14:22:00|      1.79|    12415.0|Australia|\n",
            "|    576394|     22384|LUNCH BAG PINK PO...|     100|2011-11-15 10:32:00|      1.45|    12415.0|Australia|\n",
            "|    576394|     23206|LUNCH BAG APPLE D...|     100|2011-11-15 10:32:00|      1.45|    12415.0|Australia|\n",
            "|    576394|     22662|LUNCH BAG DOLLY G...|     100|2011-11-15 10:32:00|      1.45|    12415.0|Australia|\n",
            "|    576394|     48194|      DOORMAT HEARTS|      10|2011-11-15 10:32:00|      7.08|    12415.0|Australia|\n",
            "|    576394|    47590A|BLUE HAPPY BIRTHD...|      50|2011-11-15 10:32:00|      4.65|    12415.0|Australia|\n",
            "|    576394|     23192|BUNDLE OF 3 ALPHA...|      48|2011-11-15 10:32:00|      1.45|    12415.0|Australia|\n",
            "|    576394|     21731|RED TOADSTOOL LED...|     144|2011-11-15 10:32:00|      1.45|    12415.0|Australia|\n",
            "|    576394|     22195|LARGE HEART MEASU...|      80|2011-11-15 10:32:00|      1.45|    12415.0|Australia|\n",
            "|    576394|     21770|OPEN CLOSED METAL...|      36|2011-11-15 10:32:00|      4.25|    12415.0|Australia|\n",
            "|    576394|     22630|DOLLY GIRL LUNCH BOX|      64|2011-11-15 10:32:00|      1.65|    12415.0|Australia|\n",
            "|    576394|     22331|WOODLAND PARTY BA...|      48|2011-11-15 10:32:00|      1.45|    12415.0|Australia|\n",
            "+----------+----------+--------------------+--------+-------------------+----------+-----------+---------+\n",
            "only showing top 20 rows\n",
            "\n"
          ]
        }
      ]
    },
    {
      "cell_type": "markdown",
      "metadata": {
        "id": "xZbv6WaMUTNk"
      },
      "source": [
        "##### d. Unique values of a column"
      ]
    },
    {
      "cell_type": "code",
      "metadata": {
        "colab": {
          "base_uri": "https://localhost:8080/"
        },
        "id": "PMHAA4njUT3E",
        "outputId": "e1e496e8-2fc5-45c9-c36f-387e0660af24"
      },
      "source": [
        "sc.sql(\"\"\"\n",
        "  SELECT DISTINCT country\n",
        "  FROM sales\n",
        "  ORDER BY country\n",
        "\"\"\").show()"
      ],
      "execution_count": 35,
      "outputs": [
        {
          "output_type": "stream",
          "name": "stdout",
          "text": [
            "+------------------+\n",
            "|           country|\n",
            "+------------------+\n",
            "|         Australia|\n",
            "|           Austria|\n",
            "|           Bahrain|\n",
            "|           Belgium|\n",
            "|            Brazil|\n",
            "|            Canada|\n",
            "|   Channel Islands|\n",
            "|            Cyprus|\n",
            "|    Czech Republic|\n",
            "|           Denmark|\n",
            "|              EIRE|\n",
            "|European Community|\n",
            "|           Finland|\n",
            "|            France|\n",
            "|           Germany|\n",
            "|            Greece|\n",
            "|         Hong Kong|\n",
            "|           Iceland|\n",
            "|            Israel|\n",
            "|             Italy|\n",
            "+------------------+\n",
            "only showing top 20 rows\n",
            "\n"
          ]
        }
      ]
    },
    {
      "cell_type": "code",
      "metadata": {
        "colab": {
          "base_uri": "https://localhost:8080/"
        },
        "id": "KhzMamQQVitZ",
        "outputId": "ef20840b-440a-4778-f7e4-60398284e3f0"
      },
      "source": [
        "df3.select(\"country\").distinct().sort(\"country\").show()"
      ],
      "execution_count": 36,
      "outputs": [
        {
          "output_type": "stream",
          "name": "stdout",
          "text": [
            "+------------------+\n",
            "|           country|\n",
            "+------------------+\n",
            "|         Australia|\n",
            "|           Austria|\n",
            "|           Bahrain|\n",
            "|           Belgium|\n",
            "|            Brazil|\n",
            "|            Canada|\n",
            "|   Channel Islands|\n",
            "|            Cyprus|\n",
            "|    Czech Republic|\n",
            "|           Denmark|\n",
            "|              EIRE|\n",
            "|European Community|\n",
            "|           Finland|\n",
            "|            France|\n",
            "|           Germany|\n",
            "|            Greece|\n",
            "|         Hong Kong|\n",
            "|           Iceland|\n",
            "|            Israel|\n",
            "|             Italy|\n",
            "+------------------+\n",
            "only showing top 20 rows\n",
            "\n"
          ]
        }
      ]
    },
    {
      "cell_type": "markdown",
      "metadata": {
        "id": "BpxSsYXgedmR"
      },
      "source": [
        "##### e. Applying aggregation"
      ]
    },
    {
      "cell_type": "code",
      "metadata": {
        "colab": {
          "base_uri": "https://localhost:8080/"
        },
        "id": "UwB7NiDkeg6E",
        "outputId": "e8fdb645-7932-433b-c7c2-00c003dd7a98"
      },
      "source": [
        "sc.sql(\"\"\"\n",
        "  SELECT \n",
        "        MAX(unit_price) AS max_unit_price, \n",
        "        MAX(quantity) AS max_quantity\n",
        "  FROM sales\n",
        "\"\"\").show()"
      ],
      "execution_count": 37,
      "outputs": [
        {
          "output_type": "stream",
          "name": "stdout",
          "text": [
            "+--------------+------------+\n",
            "|max_unit_price|max_quantity|\n",
            "+--------------+------------+\n",
            "|       38970.0|       80995|\n",
            "+--------------+------------+\n",
            "\n"
          ]
        }
      ]
    },
    {
      "cell_type": "code",
      "metadata": {
        "colab": {
          "base_uri": "https://localhost:8080/"
        },
        "id": "40_A1IO5fFVG",
        "outputId": "a3338f4c-aa6f-4f74-8a72-d642bb936560"
      },
      "source": [
        "df3.select(\n",
        "    F.max(F.col(\"unit_price\")).alias(\"max_unit_price\"),\n",
        "    F.max(F.col(\"quantity\")).alias(\"max_quantity\")).show()"
      ],
      "execution_count": 38,
      "outputs": [
        {
          "output_type": "stream",
          "name": "stdout",
          "text": [
            "+--------------+------------+\n",
            "|max_unit_price|max_quantity|\n",
            "+--------------+------------+\n",
            "|       38970.0|       80995|\n",
            "+--------------+------------+\n",
            "\n"
          ]
        }
      ]
    },
    {
      "cell_type": "code",
      "metadata": {
        "colab": {
          "base_uri": "https://localhost:8080/"
        },
        "id": "b5k4Rhakfb7o",
        "outputId": "35fffac3-3548-4e60-9c03-224f4f67c660"
      },
      "source": [
        "sc.sql(\"\"\"\n",
        "  SELECT country, MAX(unit_price) AS max_unit_price\n",
        "  FROM sales\n",
        "  GROUP BY country\n",
        "  ORDER BY max_unit_price DESC\n",
        "\"\"\").show()"
      ],
      "execution_count": 39,
      "outputs": [
        {
          "output_type": "stream",
          "name": "stdout",
          "text": [
            "+---------------+--------------+\n",
            "|        country|max_unit_price|\n",
            "+---------------+--------------+\n",
            "| United Kingdom|       38970.0|\n",
            "|         France|       4161.06|\n",
            "|      Singapore|       3949.32|\n",
            "|      Hong Kong|       2653.95|\n",
            "|           EIRE|        1917.0|\n",
            "|          Spain|       1715.85|\n",
            "|       Portugal|       1241.98|\n",
            "|         Norway|         700.0|\n",
            "|        Germany|         599.5|\n",
            "|         Canada|        550.94|\n",
            "|      Australia|         350.0|\n",
            "|         Cyprus|        320.69|\n",
            "|          Italy|         300.0|\n",
            "|Channel Islands|         293.0|\n",
            "|        Finland|         275.6|\n",
            "|    Netherlands|         206.4|\n",
            "|         Israel|         125.0|\n",
            "|          Malta|          65.0|\n",
            "|         Greece|          50.0|\n",
            "|          Japan|         45.57|\n",
            "+---------------+--------------+\n",
            "only showing top 20 rows\n",
            "\n"
          ]
        }
      ]
    },
    {
      "cell_type": "code",
      "metadata": {
        "colab": {
          "base_uri": "https://localhost:8080/"
        },
        "id": "9DOrCp7If6pr",
        "outputId": "8a451b32-5c62-4673-99af-d367407ef395"
      },
      "source": [
        "max_price_by_country = df3.groupBy(\"country\").agg(F.max(F.col(\"unit_price\")).alias(\"max_unit_price\"))\n",
        "max_price_by_country = max_price_by_country.sort(\"max_unit_price\", ascending=[0])\n",
        "\n",
        "max_price_by_country.show()"
      ],
      "execution_count": 40,
      "outputs": [
        {
          "output_type": "stream",
          "name": "stdout",
          "text": [
            "+---------------+--------------+\n",
            "|        country|max_unit_price|\n",
            "+---------------+--------------+\n",
            "| United Kingdom|       38970.0|\n",
            "|         France|       4161.06|\n",
            "|      Singapore|       3949.32|\n",
            "|      Hong Kong|       2653.95|\n",
            "|           EIRE|        1917.0|\n",
            "|          Spain|       1715.85|\n",
            "|       Portugal|       1241.98|\n",
            "|         Norway|         700.0|\n",
            "|        Germany|         599.5|\n",
            "|         Canada|        550.94|\n",
            "|      Australia|         350.0|\n",
            "|         Cyprus|        320.69|\n",
            "|          Italy|         300.0|\n",
            "|Channel Islands|         293.0|\n",
            "|        Finland|         275.6|\n",
            "|    Netherlands|         206.4|\n",
            "|         Israel|         125.0|\n",
            "|          Malta|          65.0|\n",
            "|         Greece|          50.0|\n",
            "|          Japan|         45.57|\n",
            "+---------------+--------------+\n",
            "only showing top 20 rows\n",
            "\n"
          ]
        }
      ]
    },
    {
      "cell_type": "code",
      "metadata": {
        "colab": {
          "base_uri": "https://localhost:8080/"
        },
        "id": "v0tlPtf1hx0O",
        "outputId": "abae9863-af9f-47e9-b87d-978ea1011482"
      },
      "source": [
        "sc.sql(\"\"\"\n",
        "  SELECT country, COUNT(*) AS total_records\n",
        "  FROM sales\n",
        "  GROUP BY country\n",
        "  ORDER BY total_records DESC\n",
        "\"\"\").show()"
      ],
      "execution_count": 41,
      "outputs": [
        {
          "output_type": "stream",
          "name": "stdout",
          "text": [
            "+---------------+-------------+\n",
            "|        country|total_records|\n",
            "+---------------+-------------+\n",
            "| United Kingdom|       495478|\n",
            "|        Germany|         9495|\n",
            "|         France|         8557|\n",
            "|           EIRE|         8196|\n",
            "|          Spain|         2533|\n",
            "|    Netherlands|         2371|\n",
            "|        Belgium|         2069|\n",
            "|    Switzerland|         2002|\n",
            "|       Portugal|         1519|\n",
            "|      Australia|         1259|\n",
            "|         Norway|         1086|\n",
            "|          Italy|          803|\n",
            "|Channel Islands|          758|\n",
            "|        Finland|          695|\n",
            "|         Cyprus|          622|\n",
            "|         Sweden|          462|\n",
            "|    Unspecified|          446|\n",
            "|        Austria|          401|\n",
            "|        Denmark|          389|\n",
            "|          Japan|          358|\n",
            "+---------------+-------------+\n",
            "only showing top 20 rows\n",
            "\n"
          ]
        }
      ]
    },
    {
      "cell_type": "markdown",
      "metadata": {
        "id": "nm1EdGLVhZQk"
      },
      "source": [
        "##### f. Filtering by single column"
      ]
    },
    {
      "cell_type": "code",
      "metadata": {
        "colab": {
          "base_uri": "https://localhost:8080/"
        },
        "id": "e7YbMgaUhi33",
        "outputId": "c8a5ef61-a9af-4920-ae8c-a53885146360"
      },
      "source": [
        "germany_sql_df = sc.sql(\"\"\"\n",
        "  SELECT *\n",
        "  FROM sales\n",
        "  WHERE country = 'Germany'\n",
        "  ORDER BY invoice_date\n",
        "\"\"\")\n",
        "\n",
        "germany_sql_df.show()"
      ],
      "execution_count": 42,
      "outputs": [
        {
          "output_type": "stream",
          "name": "stdout",
          "text": [
            "+----------+----------+--------------------+--------+-------------------+----------+-----------+-------+\n",
            "|invoice_no|stock_code|         description|quantity|       invoice_date|unit_price|customer_id|country|\n",
            "+----------+----------+--------------------+--------+-------------------+----------+-----------+-------+\n",
            "|    536527|     20713|      JUMBO BAG OWLS|      10|2010-12-01 13:04:00|      1.95|    12662.0|Germany|\n",
            "|    536527|     22242|5 HOOK HANGER MAG...|      12|2010-12-01 13:04:00|      1.65|    12662.0|Germany|\n",
            "|    536527|     22809|SET OF 6 T-LIGHTS...|       6|2010-12-01 13:04:00|      2.95|    12662.0|Germany|\n",
            "|    536527|     22837|HOT WATER BOTTLE ...|       4|2010-12-01 13:04:00|      4.65|    12662.0|Germany|\n",
            "|    536527|      POST|             POSTAGE|       1|2010-12-01 13:04:00|      18.0|    12662.0|Germany|\n",
            "|    536527|     22969|HOMEMADE JAM SCEN...|      12|2010-12-01 13:04:00|      1.45|    12662.0|Germany|\n",
            "|    536527|     22549|    PICTURE DOMINOES|      12|2010-12-01 13:04:00|      1.45|    12662.0|Germany|\n",
            "|    536527|    84569B|PACK 3 FIRE ENGIN...|      12|2010-12-01 13:04:00|      1.25|    12662.0|Germany|\n",
            "|    536527|     22973|CHILDREN'S CIRCUS...|      12|2010-12-01 13:04:00|      1.65|    12662.0|Germany|\n",
            "|    536527|     20712|JUMBO BAG WOODLAN...|      10|2010-12-01 13:04:00|      1.95|    12662.0|Germany|\n",
            "|    536527|     84945|MULTI COLOUR SILV...|      12|2010-12-01 13:04:00|      0.85|    12662.0|Germany|\n",
            "|    536527|     22243|5 HOOK HANGER RED...|      12|2010-12-01 13:04:00|      1.65|    12662.0|Germany|\n",
            "|    536527|     47421|ASSORTED COLOUR L...|      24|2010-12-01 13:04:00|      0.42|    12662.0|Germany|\n",
            "|    536527|     84347|ROTATING SILVER A...|       6|2010-12-01 13:04:00|      2.55|    12662.0|Germany|\n",
            "|    536527|     22244|3 HOOK HANGER MAG...|      12|2010-12-01 13:04:00|      1.95|    12662.0|Germany|\n",
            "|   C536548|     22892|SET OF SALT AND P...|      -7|2010-12-01 14:33:00|      1.25|    12472.0|Germany|\n",
            "|   C536548|     20914|SET/5 RED RETROSP...|      -1|2010-12-01 14:33:00|      2.95|    12472.0|Germany|\n",
            "|   C536548|     22767|TRIPLE PHOTO FRAM...|      -2|2010-12-01 14:33:00|      9.95|    12472.0|Germany|\n",
            "|   C536548|     22654|  DELUXE SEWING KIT |      -1|2010-12-01 14:33:00|      5.95|    12472.0|Germany|\n",
            "|   C536548|     22244|3 HOOK HANGER MAG...|      -4|2010-12-01 14:33:00|      1.95|    12472.0|Germany|\n",
            "+----------+----------+--------------------+--------+-------------------+----------+-----------+-------+\n",
            "only showing top 20 rows\n",
            "\n"
          ]
        }
      ]
    },
    {
      "cell_type": "code",
      "metadata": {
        "colab": {
          "base_uri": "https://localhost:8080/"
        },
        "id": "pXOXZVYTivXZ",
        "outputId": "7ad1a6cf-1a81-43c6-cd04-f01c62f3d4e4"
      },
      "source": [
        "germany_df = df3.where(F.col(\"country\") == \"Germany\")\n",
        "germany_df = germany_df.sort(\"invoice_date\")\n",
        "\n",
        "germany_df.show()"
      ],
      "execution_count": 43,
      "outputs": [
        {
          "output_type": "stream",
          "name": "stdout",
          "text": [
            "+----------+----------+--------------------+--------+-------------------+----------+-----------+-------+\n",
            "|invoice_no|stock_code|         description|quantity|       invoice_date|unit_price|customer_id|country|\n",
            "+----------+----------+--------------------+--------+-------------------+----------+-----------+-------+\n",
            "|    536527|     20713|      JUMBO BAG OWLS|      10|2010-12-01 13:04:00|      1.95|    12662.0|Germany|\n",
            "|    536527|     22242|5 HOOK HANGER MAG...|      12|2010-12-01 13:04:00|      1.65|    12662.0|Germany|\n",
            "|    536527|     22809|SET OF 6 T-LIGHTS...|       6|2010-12-01 13:04:00|      2.95|    12662.0|Germany|\n",
            "|    536527|     22837|HOT WATER BOTTLE ...|       4|2010-12-01 13:04:00|      4.65|    12662.0|Germany|\n",
            "|    536527|      POST|             POSTAGE|       1|2010-12-01 13:04:00|      18.0|    12662.0|Germany|\n",
            "|    536527|     22969|HOMEMADE JAM SCEN...|      12|2010-12-01 13:04:00|      1.45|    12662.0|Germany|\n",
            "|    536527|     22549|    PICTURE DOMINOES|      12|2010-12-01 13:04:00|      1.45|    12662.0|Germany|\n",
            "|    536527|    84569B|PACK 3 FIRE ENGIN...|      12|2010-12-01 13:04:00|      1.25|    12662.0|Germany|\n",
            "|    536527|     22973|CHILDREN'S CIRCUS...|      12|2010-12-01 13:04:00|      1.65|    12662.0|Germany|\n",
            "|    536527|     20712|JUMBO BAG WOODLAN...|      10|2010-12-01 13:04:00|      1.95|    12662.0|Germany|\n",
            "|    536527|     84945|MULTI COLOUR SILV...|      12|2010-12-01 13:04:00|      0.85|    12662.0|Germany|\n",
            "|    536527|     22243|5 HOOK HANGER RED...|      12|2010-12-01 13:04:00|      1.65|    12662.0|Germany|\n",
            "|    536527|     47421|ASSORTED COLOUR L...|      24|2010-12-01 13:04:00|      0.42|    12662.0|Germany|\n",
            "|    536527|     84347|ROTATING SILVER A...|       6|2010-12-01 13:04:00|      2.55|    12662.0|Germany|\n",
            "|    536527|     22244|3 HOOK HANGER MAG...|      12|2010-12-01 13:04:00|      1.95|    12662.0|Germany|\n",
            "|   C536548|     22892|SET OF SALT AND P...|      -7|2010-12-01 14:33:00|      1.25|    12472.0|Germany|\n",
            "|   C536548|     20914|SET/5 RED RETROSP...|      -1|2010-12-01 14:33:00|      2.95|    12472.0|Germany|\n",
            "|   C536548|     22767|TRIPLE PHOTO FRAM...|      -2|2010-12-01 14:33:00|      9.95|    12472.0|Germany|\n",
            "|   C536548|     22654|  DELUXE SEWING KIT |      -1|2010-12-01 14:33:00|      5.95|    12472.0|Germany|\n",
            "|   C536548|     22244|3 HOOK HANGER MAG...|      -4|2010-12-01 14:33:00|      1.95|    12472.0|Germany|\n",
            "+----------+----------+--------------------+--------+-------------------+----------+-----------+-------+\n",
            "only showing top 20 rows\n",
            "\n"
          ]
        }
      ]
    },
    {
      "cell_type": "markdown",
      "metadata": {
        "id": "ELaQpZXtkRVr"
      },
      "source": [
        "##### g. Filtering by multiple columns"
      ]
    },
    {
      "cell_type": "code",
      "metadata": {
        "colab": {
          "base_uri": "https://localhost:8080/"
        },
        "id": "JxQiMU6-kUkE",
        "outputId": "6139ec70-f894-47be-ca4a-dc21c2b59a0c"
      },
      "source": [
        "sc.sql(\"\"\"\n",
        "  SELECT *\n",
        "  FROM sales\n",
        "  WHERE country = 'Germany'\n",
        "    AND description LIKE '%FRAME%'\n",
        "  ORDER BY invoice_date\n",
        "\"\"\").show()"
      ],
      "execution_count": 44,
      "outputs": [
        {
          "output_type": "stream",
          "name": "stdout",
          "text": [
            "+----------+----------+--------------------+--------+-------------------+----------+-----------+-------+\n",
            "|invoice_no|stock_code|         description|quantity|       invoice_date|unit_price|customer_id|country|\n",
            "+----------+----------+--------------------+--------+-------------------+----------+-----------+-------+\n",
            "|   C536548|     22767|TRIPLE PHOTO FRAM...|      -2|2010-12-01 14:33:00|      9.95|    12472.0|Germany|\n",
            "|    537995|    82494L|WOODEN FRAME ANTI...|       6|2010-12-09 11:39:00|      2.95|    12712.0|Germany|\n",
            "|    540769|     82482|WOODEN PICTURE FR...|      12|2011-01-11 10:38:00|      2.55|    12601.0|Germany|\n",
            "|    540900|    82494L|WOODEN FRAME ANTI...|      12|2011-01-12 11:46:00|      2.95|    12712.0|Germany|\n",
            "|    540900|     82482|WOODEN PICTURE FR...|      12|2011-01-12 11:46:00|      2.55|    12712.0|Germany|\n",
            "|    542648|     21137|BLACK RECORD COVE...|       4|2011-01-31 11:46:00|      3.75|    12476.0|Germany|\n",
            "|    542713|     21137|BLACK RECORD COVE...|       4|2011-01-31 13:27:00|      3.75|    12668.0|Germany|\n",
            "|    542782|    82494L|WOODEN FRAME ANTI...|      12|2011-02-01 10:00:00|      2.95|    12712.0|Germany|\n",
            "|    543550|    82494L|WOODEN FRAME ANTI...|      12|2011-02-10 09:43:00|      2.95|    12601.0|Germany|\n",
            "|    545706|     82482|WOODEN PICTURE FR...|       6|2011-03-07 09:10:00|      2.55|    12712.0|Germany|\n",
            "|    545706|    82494L|WOODEN FRAME ANTI...|       6|2011-03-07 09:10:00|      2.95|    12712.0|Germany|\n",
            "|   C546507|    82494L|WOODEN FRAME ANTI...|      -2|2011-03-14 11:47:00|      2.95|    12712.0|Germany|\n",
            "|    548412|     82482|WOODEN PICTURE FR...|      36|2011-03-31 10:38:00|       2.1|    12601.0|Germany|\n",
            "|    550527|     22169|FAMILY ALBUM WHIT...|       4|2011-04-19 10:48:00|       8.5|    12476.0|Germany|\n",
            "|    552656|     82482|WOODEN PICTURE FR...|      18|2011-05-10 14:46:00|      2.55|    12712.0|Germany|\n",
            "|    559798|     84818|DANISH ROSE PHOTO...|      24|2011-07-12 13:32:00|      0.79|    12720.0|Germany|\n",
            "|    560635|     23092|LARGE ANTIQUE WHI...|       2|2011-07-20 10:51:00|       7.9|    12521.0|Germany|\n",
            "|    560876|     22181|SNOWSTORM PHOTO F...|      12|2011-07-21 15:14:00|      0.85|    12626.0|Germany|\n",
            "|    560901|     23092|LARGE ANTIQUE WHI...|       2|2011-07-21 17:39:00|       7.9|    12476.0|Germany|\n",
            "|    561583|     22169|FAMILY ALBUM WHIT...|       6|2011-07-28 10:33:00|       8.5|    13813.0|Germany|\n",
            "+----------+----------+--------------------+--------+-------------------+----------+-----------+-------+\n",
            "only showing top 20 rows\n",
            "\n"
          ]
        }
      ]
    },
    {
      "cell_type": "code",
      "metadata": {
        "colab": {
          "base_uri": "https://localhost:8080/"
        },
        "id": "5ZKbterlqAwq",
        "outputId": "b68972ae-dc9c-45da-f224-0231796c8bfc"
      },
      "source": [
        "germany_frame_df = df3.where(\n",
        "    (F.col(\"country\") == \"Germany\") & \n",
        "    (F.col(\"description\").contains(\"FRAME\")))\n",
        "\n",
        "germany_frame_df = germany_frame_df.sort(\"invoice_date\")\n",
        "\n",
        "germany_frame_df.show()"
      ],
      "execution_count": 45,
      "outputs": [
        {
          "output_type": "stream",
          "name": "stdout",
          "text": [
            "+----------+----------+--------------------+--------+-------------------+----------+-----------+-------+\n",
            "|invoice_no|stock_code|         description|quantity|       invoice_date|unit_price|customer_id|country|\n",
            "+----------+----------+--------------------+--------+-------------------+----------+-----------+-------+\n",
            "|   C536548|     22767|TRIPLE PHOTO FRAM...|      -2|2010-12-01 14:33:00|      9.95|    12472.0|Germany|\n",
            "|    537995|    82494L|WOODEN FRAME ANTI...|       6|2010-12-09 11:39:00|      2.95|    12712.0|Germany|\n",
            "|    540769|     82482|WOODEN PICTURE FR...|      12|2011-01-11 10:38:00|      2.55|    12601.0|Germany|\n",
            "|    540900|    82494L|WOODEN FRAME ANTI...|      12|2011-01-12 11:46:00|      2.95|    12712.0|Germany|\n",
            "|    540900|     82482|WOODEN PICTURE FR...|      12|2011-01-12 11:46:00|      2.55|    12712.0|Germany|\n",
            "|    542648|     21137|BLACK RECORD COVE...|       4|2011-01-31 11:46:00|      3.75|    12476.0|Germany|\n",
            "|    542713|     21137|BLACK RECORD COVE...|       4|2011-01-31 13:27:00|      3.75|    12668.0|Germany|\n",
            "|    542782|    82494L|WOODEN FRAME ANTI...|      12|2011-02-01 10:00:00|      2.95|    12712.0|Germany|\n",
            "|    543550|    82494L|WOODEN FRAME ANTI...|      12|2011-02-10 09:43:00|      2.95|    12601.0|Germany|\n",
            "|    545706|     82482|WOODEN PICTURE FR...|       6|2011-03-07 09:10:00|      2.55|    12712.0|Germany|\n",
            "|    545706|    82494L|WOODEN FRAME ANTI...|       6|2011-03-07 09:10:00|      2.95|    12712.0|Germany|\n",
            "|   C546507|    82494L|WOODEN FRAME ANTI...|      -2|2011-03-14 11:47:00|      2.95|    12712.0|Germany|\n",
            "|    548412|     82482|WOODEN PICTURE FR...|      36|2011-03-31 10:38:00|       2.1|    12601.0|Germany|\n",
            "|    550527|     22169|FAMILY ALBUM WHIT...|       4|2011-04-19 10:48:00|       8.5|    12476.0|Germany|\n",
            "|    552656|     82482|WOODEN PICTURE FR...|      18|2011-05-10 14:46:00|      2.55|    12712.0|Germany|\n",
            "|    559798|     84818|DANISH ROSE PHOTO...|      24|2011-07-12 13:32:00|      0.79|    12720.0|Germany|\n",
            "|    560635|     23092|LARGE ANTIQUE WHI...|       2|2011-07-20 10:51:00|       7.9|    12521.0|Germany|\n",
            "|    560876|     22181|SNOWSTORM PHOTO F...|      12|2011-07-21 15:14:00|      0.85|    12626.0|Germany|\n",
            "|    560901|     23092|LARGE ANTIQUE WHI...|       2|2011-07-21 17:39:00|       7.9|    12476.0|Germany|\n",
            "|    561583|     22169|FAMILY ALBUM WHIT...|       6|2011-07-28 10:33:00|       8.5|    13813.0|Germany|\n",
            "+----------+----------+--------------------+--------+-------------------+----------+-----------+-------+\n",
            "only showing top 20 rows\n",
            "\n"
          ]
        }
      ]
    },
    {
      "cell_type": "markdown",
      "metadata": {
        "id": "-Sv6NZCrrke-"
      },
      "source": [
        "### c. Visualization"
      ]
    },
    {
      "cell_type": "markdown",
      "metadata": {
        "id": "br6FfsQnujc-"
      },
      "source": [
        "#### Can we plot a PySpark dataframe?"
      ]
    },
    {
      "cell_type": "code",
      "metadata": {
        "colab": {
          "base_uri": "https://localhost:8080/",
          "height": 368
        },
        "id": "dQdRPcjLsUKo",
        "outputId": "548c45a8-fc04-4b9e-dfcf-151fd087dfa2"
      },
      "source": [
        "try:\n",
        "  plt.plot(germany_frame_df.select(\"invoice_date\"), germany_frame_df.select(\"unit_price\"))\n",
        "  plt.show()\n",
        "\n",
        "except ValueError:\n",
        "  print(\"Cannot plot because the values are of type DataFrame\")"
      ],
      "execution_count": 46,
      "outputs": [
        {
          "output_type": "stream",
          "name": "stdout",
          "text": [
            "Cannot plot because the values are of type DataFrame\n"
          ]
        },
        {
          "output_type": "display_data",
          "data": {
            "image/png": "[encoded data removed]",
            "text/plain": [
              "<Figure size 576x396 with 1 Axes>"
            ]
          },
          "metadata": {}
        }
      ]
    },
    {
      "cell_type": "markdown",
      "metadata": {
        "id": "dDwv93J3ucC9"
      },
      "source": [
        "##### Solution"
      ]
    },
    {
      "cell_type": "code",
      "metadata": {
        "colab": {
          "base_uri": "https://localhost:8080/",
          "height": 204
        },
        "id": "brCE9383r6nm",
        "outputId": "c3ee060d-66be-407b-e371-e6000a220032"
      },
      "source": [
        "germany_pd_df = germany_frame_df.toPandas()\n",
        "\n",
        "display(germany_pd_df.head())"
      ],
      "execution_count": 47,
      "outputs": [
        {
          "output_type": "display_data",
          "data": {
            "text/html": [
              "<div>\n",
              "<style scoped>\n",
              "    .dataframe tbody tr th:only-of-type {\n",
              "        vertical-align: middle;\n",
              "    }\n",
              "\n",
              "    .dataframe tbody tr th {\n",
              "        vertical-align: top;\n",
              "    }\n",
              "\n",
              "    .dataframe thead th {\n",
              "        text-align: right;\n",
              "    }\n",
              "</style>\n",
              "<table border=\"1\" class=\"dataframe\">\n",
              "  <thead>\n",
              "    <tr style=\"text-align: right;\">\n",
              "      <th></th>\n",
              "      <th>invoice_no</th>\n",
              "      <th>stock_code</th>\n",
              "      <th>description</th>\n",
              "      <th>quantity</th>\n",
              "      <th>invoice_date</th>\n",
              "      <th>unit_price</th>\n",
              "      <th>customer_id</th>\n",
              "      <th>country</th>\n",
              "    </tr>\n",
              "  </thead>\n",
              "  <tbody>\n",
              "    <tr>\n",
              "      <th>0</th>\n",
              "      <td>C536548</td>\n",
              "      <td>22767</td>\n",
              "      <td>TRIPLE PHOTO FRAME CORNICE</td>\n",
              "      <td>-2</td>\n",
              "      <td>2010-12-01 14:33:00</td>\n",
              "      <td>9.95</td>\n",
              "      <td>12472.0</td>\n",
              "      <td>Germany</td>\n",
              "    </tr>\n",
              "    <tr>\n",
              "      <th>1</th>\n",
              "      <td>537995</td>\n",
              "      <td>82494L</td>\n",
              "      <td>WOODEN FRAME ANTIQUE WHITE</td>\n",
              "      <td>6</td>\n",
              "      <td>2010-12-09 11:39:00</td>\n",
              "      <td>2.95</td>\n",
              "      <td>12712.0</td>\n",
              "      <td>Germany</td>\n",
              "    </tr>\n",
              "    <tr>\n",
              "      <th>2</th>\n",
              "      <td>540769</td>\n",
              "      <td>82482</td>\n",
              "      <td>WOODEN PICTURE FRAME WHITE FINISH</td>\n",
              "      <td>12</td>\n",
              "      <td>2011-01-11 10:38:00</td>\n",
              "      <td>2.55</td>\n",
              "      <td>12601.0</td>\n",
              "      <td>Germany</td>\n",
              "    </tr>\n",
              "    <tr>\n",
              "      <th>3</th>\n",
              "      <td>540900</td>\n",
              "      <td>82482</td>\n",
              "      <td>WOODEN PICTURE FRAME WHITE FINISH</td>\n",
              "      <td>12</td>\n",
              "      <td>2011-01-12 11:46:00</td>\n",
              "      <td>2.55</td>\n",
              "      <td>12712.0</td>\n",
              "      <td>Germany</td>\n",
              "    </tr>\n",
              "    <tr>\n",
              "      <th>4</th>\n",
              "      <td>540900</td>\n",
              "      <td>82494L</td>\n",
              "      <td>WOODEN FRAME ANTIQUE WHITE</td>\n",
              "      <td>12</td>\n",
              "      <td>2011-01-12 11:46:00</td>\n",
              "      <td>2.95</td>\n",
              "      <td>12712.0</td>\n",
              "      <td>Germany</td>\n",
              "    </tr>\n",
              "  </tbody>\n",
              "</table>\n",
              "</div>"
            ],
            "text/plain": [
              "  invoice_no stock_code  ... customer_id  country\n",
              "0    C536548      22767  ...     12472.0  Germany\n",
              "1     537995     82494L  ...     12712.0  Germany\n",
              "2     540769      82482  ...     12601.0  Germany\n",
              "3     540900      82482  ...     12712.0  Germany\n",
              "4     540900     82494L  ...     12712.0  Germany\n",
              "\n",
              "[5 rows x 8 columns]"
            ]
          },
          "metadata": {}
        }
      ]
    },
    {
      "cell_type": "code",
      "metadata": {
        "colab": {
          "base_uri": "https://localhost:8080/",
          "height": 512
        },
        "id": "Go53XyuZsTEK",
        "outputId": "029a3234-9f26-48f3-b0ce-063136db5403"
      },
      "source": [
        "plt.figure(figsize=(14, 8))\n",
        "\n",
        "plt.plot(germany_pd_df[\"invoice_date\"], germany_pd_df[\"unit_price\"])\n",
        "plt.xlabel(\"invoice_date\")\n",
        "plt.ylabel(\"unit_price\")\n",
        "plt.title(\"Unit Price of the product description containing 'FRAME' for Germany\", fontsize=12)\n",
        "plt.show()"
      ],
      "execution_count": 48,
      "outputs": [
        {
          "output_type": "display_data",
          "data": {
            "image/png": "[encoded data removed]",
            "text/plain": [
              "<Figure size 1008x576 with 1 Axes>"
            ]
          },
          "metadata": {}
        }
      ]
    }
  ]
}